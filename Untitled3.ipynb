{
  "nbformat": 4,
  "nbformat_minor": 0,
  "metadata": {
    "colab": {
      "name": "Untitled3.ipynb",
      "version": "0.3.2",
      "provenance": [],
      "include_colab_link": true
    },
    "kernelspec": {
      "name": "python3",
      "display_name": "Python 3"
    },
    "accelerator": "GPU"
  },
  "cells": [
    {
      "cell_type": "markdown",
      "metadata": {
        "id": "view-in-github",
        "colab_type": "text"
      },
      "source": [
        "<a href=\"https://colab.research.google.com/github/sarathkumarpvs/datascience_bootcamp/blob/master/Untitled3.ipynb\" target=\"_parent\"><img src=\"https://colab.research.google.com/assets/colab-badge.svg\" alt=\"Open In Colab\"/></a>"
      ]
    },
    {
      "cell_type": "code",
      "metadata": {
        "id": "s5i7wTy44yXI",
        "colab_type": "code",
        "colab": {}
      },
      "source": [
        "import types\n",
        "import numpy as np\n",
        "import pandas as pd\n",
        "import ast\n",
        "import matplotlib.pyplot as plt\n",
        "%matplotlib inline\n",
        "import seaborn as sns\n",
        "from collections import Counter"
      ],
      "execution_count": 0,
      "outputs": []
    },
    {
      "cell_type": "code",
      "metadata": {
        "id": "Wnq4WgxY59uu",
        "colab_type": "code",
        "outputId": "c0fbc56d-4848-43d4-852c-f596648fe0aa",
        "colab": {
          "resources": {
            "http://localhost:8080/nbextensions/google.colab/files.js": {
              "data": "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",
              "ok": true,
              "headers": [
                [
                  "content-type",
                  "application/javascript"
                ]
              ],
              "status": 200,
              "status_text": ""
            }
          },
          "base_uri": "https://localhost:8080/",
          "height": 91
        }
      },
      "source": [
        "from google.colab import files\n",
        "files.upload()"
      ],
      "execution_count": 0,
      "outputs": [
        {
          "output_type": "display_data",
          "data": {
            "text/html": [
              "\n",
              "     <input type=\"file\" id=\"files-abcfe7e9-185c-4532-8423-1e5f976aed6b\" name=\"files[]\" multiple disabled />\n",
              "     <output id=\"result-abcfe7e9-185c-4532-8423-1e5f976aed6b\">\n",
              "      Upload widget is only available when the cell has been executed in the\n",
              "      current browser session. Please rerun this cell to enable.\n",
              "      </output>\n",
              "      <script src=\"/nbextensions/google.colab/files.js\"></script> "
            ],
            "text/plain": [
              "<IPython.core.display.HTML object>"
            ]
          },
          "metadata": {
            "tags": []
          }
        },
        {
          "output_type": "stream",
          "text": [
            "Saving kaggle.json to kaggle.json\n"
          ],
          "name": "stdout"
        },
        {
          "output_type": "execute_result",
          "data": {
            "text/plain": [
              "{'kaggle.json': b'{\"username\":\"sarathvs\",\"key\":\"25005631c45f914f33dcb15111743520\"}'}"
            ]
          },
          "metadata": {
            "tags": []
          },
          "execution_count": 6
        }
      ]
    },
    {
      "cell_type": "code",
      "metadata": {
        "id": "gkCc3YQe6AFN",
        "colab_type": "code",
        "colab": {}
      },
      "source": [
        "!pip install -q kaggle"
      ],
      "execution_count": 0,
      "outputs": []
    },
    {
      "cell_type": "code",
      "metadata": {
        "id": "uWKvHodD63oc",
        "colab_type": "code",
        "colab": {}
      },
      "source": [
        "!mkdir -p ~/.kaggle\n",
        "!cp kaggle.json ~/.kaggle/"
      ],
      "execution_count": 0,
      "outputs": []
    },
    {
      "cell_type": "code",
      "metadata": {
        "id": "DUBZ_WXK7VMz",
        "colab_type": "code",
        "outputId": "005073f0-bbe9-4cb6-aeda-d74ca50b3c66",
        "colab": {
          "base_uri": "https://localhost:8080/",
          "height": 428
        }
      },
      "source": [
        "!kaggle datasets list"
      ],
      "execution_count": 0,
      "outputs": [
        {
          "output_type": "stream",
          "text": [
            "Warning: Your Kaggle API key is readable by other users on this system! To fix this, you can run 'chmod 600 /root/.kaggle/kaggle.json'\n",
            "ref                                                          title                                                size  lastUpdated          downloadCount  \n",
            "-----------------------------------------------------------  --------------------------------------------------  -----  -------------------  -------------  \n",
            "ronitf/heart-disease-uci                                     Heart Disease UCI                                     3KB  2018-06-25 11:33:56          42967  \n",
            "karangadiya/fifa19                                           FIFA 19 complete player dataset                       2MB  2018-12-21 03:52:59          28727  \n",
            "russellyates88/suicide-rates-overview-1985-to-2016           Suicide Rates Overview 1985 to 2016                 396KB  2018-12-01 19:18:25          29112  \n",
            "lava18/google-play-store-apps                                Google Play Store Apps                                2MB  2019-02-03 13:55:47          54789  \n",
            "bigquery/crypto-ethereum-classic                             Ethereum Classic Blockchain                          70GB  2019-03-20 23:21:25              0  \n",
            "iarunava/cell-images-for-detecting-malaria                   Malaria Cell Images Dataset                         337MB  2018-12-05 05:40:21           6320  \n",
            "vjchoudhary7/customer-segmentation-tutorial-in-python        Mall Customer Segmentation Data                       2KB  2018-08-11 07:23:02           9454  \n",
            "jessicali9530/stanford-dogs-dataset                          Stanford Dogs Dataset                               735MB  2019-02-13 05:45:25           3604  \n",
            "cityofLA/los-angeles-parking-citations                       Los Angeles Parking Citations                       261MB  2019-05-08 22:19:17           3984  \n",
            "anokas/kuzushiji                                             Kuzushiji-MNIST                                     318MB  2018-12-17 01:19:31           1024  \n",
            "jutrera/stanford-car-dataset-by-classes-folder               Stanford Car Dataset by classes folder                2GB  2018-07-02 07:35:45           3388  \n",
            "safegraph/visit-patterns-by-census-block-group               Consumer & Visitor Insights For Neighborhoods        66MB  2018-12-19 21:31:50           1824  \n",
            "fivethirtyeight/fivethirtyeight-comic-characters-dataset     FiveThirtyEight Comic Characters Dataset            577KB  2019-04-26 15:01:41           2893  \n",
            "rmisra/news-headlines-dataset-for-sarcasm-detection          News Headlines Dataset For Sarcasm Detection          2MB  2018-06-09 22:14:56           3293  \n",
            "noriuk/us-education-datasets-unification-project             U.S. Education Datasets: Unification Project         85MB  2019-03-02 18:41:52           4438  \n",
            "pavansanagapati/urban-sound-classification                   Urban Sound Classification                            6GB  2018-06-16 13:44:36           2732  \n",
            "safegraph/census-block-group-american-community-survey-data  Census Block Group American Community Survey Data     2GB  2018-12-22 00:29:56            933  \n",
            "jessicali9530/celeba-dataset                                 CelebFaces Attributes (CelebA) Dataset                1GB  2018-06-01 20:08:48           8065  \n",
            "mohansacharya/graduate-admissions                            Graduate Admissions                                   9KB  2018-12-28 10:07:14          22867  \n",
            "xvivancos/barcelona-data-sets                                Barcelona data sets                                   1MB  2018-12-13 14:16:53           4761  \n"
          ],
          "name": "stdout"
        }
      ]
    },
    {
      "cell_type": "code",
      "metadata": {
        "id": "5FFklEpL7kCV",
        "colab_type": "code",
        "outputId": "65913d2c-26f6-4b26-db01-60b8bb654de0",
        "colab": {
          "base_uri": "https://localhost:8080/",
          "height": 207
        }
      },
      "source": [
        "!kaggle competitions download -c tmdb-box-office-prediction"
      ],
      "execution_count": 0,
      "outputs": [
        {
          "output_type": "stream",
          "text": [
            "Warning: Your Kaggle API key is readable by other users on this system! To fix this, you can run 'chmod 600 /root/.kaggle/kaggle.json'\n",
            "Downloading sample_submission.csv to /content\n",
            "  0% 0.00/60.1k [00:00<?, ?B/s]\n",
            "100% 60.1k/60.1k [00:00<00:00, 52.5MB/s]\n",
            "Downloading train.csv.zip to /content\n",
            " 71% 5.00M/7.02M [00:00<00:00, 19.5MB/s]\n",
            "100% 7.02M/7.02M [00:00<00:00, 23.4MB/s]\n",
            "Downloading test.csv.zip to /content\n",
            " 48% 5.00M/10.3M [00:00<00:00, 20.8MB/s]\n",
            "100% 10.3M/10.3M [00:00<00:00, 34.4MB/s]\n"
          ],
          "name": "stdout"
        }
      ]
    },
    {
      "cell_type": "code",
      "metadata": {
        "id": "CRoUa12y7lUY",
        "colab_type": "code",
        "outputId": "8aeb031b-5b46-48b1-ca4c-9ec47442ab33",
        "colab": {
          "base_uri": "https://localhost:8080/",
          "height": 85
        }
      },
      "source": [
        "!unzip train.csv.zip\n",
        "!unzip test.csv.zip\n"
      ],
      "execution_count": 0,
      "outputs": [
        {
          "output_type": "stream",
          "text": [
            "Archive:  train.csv.zip\n",
            "  inflating: train.csv               \n",
            "Archive:  test.csv.zip\n",
            "  inflating: test.csv                \n"
          ],
          "name": "stdout"
        }
      ]
    },
    {
      "cell_type": "code",
      "metadata": {
        "id": "C0-dszVa7uev",
        "colab_type": "code",
        "outputId": "05f7b237-5836-4130-ece4-a8863e15b851",
        "colab": {
          "base_uri": "https://localhost:8080/",
          "height": 661
        }
      },
      "source": [
        "train = pd.read_csv('train.csv')\n",
        "train.head()"
      ],
      "execution_count": 0,
      "outputs": [
        {
          "output_type": "execute_result",
          "data": {
            "text/html": [
              "<div>\n",
              "<style scoped>\n",
              "    .dataframe tbody tr th:only-of-type {\n",
              "        vertical-align: middle;\n",
              "    }\n",
              "\n",
              "    .dataframe tbody tr th {\n",
              "        vertical-align: top;\n",
              "    }\n",
              "\n",
              "    .dataframe thead th {\n",
              "        text-align: right;\n",
              "    }\n",
              "</style>\n",
              "<table border=\"1\" class=\"dataframe\">\n",
              "  <thead>\n",
              "    <tr style=\"text-align: right;\">\n",
              "      <th></th>\n",
              "      <th>id</th>\n",
              "      <th>belongs_to_collection</th>\n",
              "      <th>budget</th>\n",
              "      <th>genres</th>\n",
              "      <th>homepage</th>\n",
              "      <th>imdb_id</th>\n",
              "      <th>original_language</th>\n",
              "      <th>original_title</th>\n",
              "      <th>overview</th>\n",
              "      <th>popularity</th>\n",
              "      <th>...</th>\n",
              "      <th>release_date</th>\n",
              "      <th>runtime</th>\n",
              "      <th>spoken_languages</th>\n",
              "      <th>status</th>\n",
              "      <th>tagline</th>\n",
              "      <th>title</th>\n",
              "      <th>Keywords</th>\n",
              "      <th>cast</th>\n",
              "      <th>crew</th>\n",
              "      <th>revenue</th>\n",
              "    </tr>\n",
              "  </thead>\n",
              "  <tbody>\n",
              "    <tr>\n",
              "      <th>0</th>\n",
              "      <td>1</td>\n",
              "      <td>[{'id': 313576, 'name': 'Hot Tub Time Machine ...</td>\n",
              "      <td>14000000</td>\n",
              "      <td>[{'id': 35, 'name': 'Comedy'}]</td>\n",
              "      <td>NaN</td>\n",
              "      <td>tt2637294</td>\n",
              "      <td>en</td>\n",
              "      <td>Hot Tub Time Machine 2</td>\n",
              "      <td>When Lou, who has become the \"father of the In...</td>\n",
              "      <td>6.575393</td>\n",
              "      <td>...</td>\n",
              "      <td>2/20/15</td>\n",
              "      <td>93.0</td>\n",
              "      <td>[{'iso_639_1': 'en', 'name': 'English'}]</td>\n",
              "      <td>Released</td>\n",
              "      <td>The Laws of Space and Time are About to be Vio...</td>\n",
              "      <td>Hot Tub Time Machine 2</td>\n",
              "      <td>[{'id': 4379, 'name': 'time travel'}, {'id': 9...</td>\n",
              "      <td>[{'cast_id': 4, 'character': 'Lou', 'credit_id...</td>\n",
              "      <td>[{'credit_id': '59ac067c92514107af02c8c8', 'de...</td>\n",
              "      <td>12314651</td>\n",
              "    </tr>\n",
              "    <tr>\n",
              "      <th>1</th>\n",
              "      <td>2</td>\n",
              "      <td>[{'id': 107674, 'name': 'The Princess Diaries ...</td>\n",
              "      <td>40000000</td>\n",
              "      <td>[{'id': 35, 'name': 'Comedy'}, {'id': 18, 'nam...</td>\n",
              "      <td>NaN</td>\n",
              "      <td>tt0368933</td>\n",
              "      <td>en</td>\n",
              "      <td>The Princess Diaries 2: Royal Engagement</td>\n",
              "      <td>Mia Thermopolis is now a college graduate and ...</td>\n",
              "      <td>8.248895</td>\n",
              "      <td>...</td>\n",
              "      <td>8/6/04</td>\n",
              "      <td>113.0</td>\n",
              "      <td>[{'iso_639_1': 'en', 'name': 'English'}]</td>\n",
              "      <td>Released</td>\n",
              "      <td>It can take a lifetime to find true love; she'...</td>\n",
              "      <td>The Princess Diaries 2: Royal Engagement</td>\n",
              "      <td>[{'id': 2505, 'name': 'coronation'}, {'id': 42...</td>\n",
              "      <td>[{'cast_id': 1, 'character': 'Mia Thermopolis'...</td>\n",
              "      <td>[{'credit_id': '52fe43fe9251416c7502563d', 'de...</td>\n",
              "      <td>95149435</td>\n",
              "    </tr>\n",
              "    <tr>\n",
              "      <th>2</th>\n",
              "      <td>3</td>\n",
              "      <td>NaN</td>\n",
              "      <td>3300000</td>\n",
              "      <td>[{'id': 18, 'name': 'Drama'}]</td>\n",
              "      <td>http://sonyclassics.com/whiplash/</td>\n",
              "      <td>tt2582802</td>\n",
              "      <td>en</td>\n",
              "      <td>Whiplash</td>\n",
              "      <td>Under the direction of a ruthless instructor, ...</td>\n",
              "      <td>64.299990</td>\n",
              "      <td>...</td>\n",
              "      <td>10/10/14</td>\n",
              "      <td>105.0</td>\n",
              "      <td>[{'iso_639_1': 'en', 'name': 'English'}]</td>\n",
              "      <td>Released</td>\n",
              "      <td>The road to greatness can take you to the edge.</td>\n",
              "      <td>Whiplash</td>\n",
              "      <td>[{'id': 1416, 'name': 'jazz'}, {'id': 1523, 'n...</td>\n",
              "      <td>[{'cast_id': 5, 'character': 'Andrew Neimann',...</td>\n",
              "      <td>[{'credit_id': '54d5356ec3a3683ba0000039', 'de...</td>\n",
              "      <td>13092000</td>\n",
              "    </tr>\n",
              "    <tr>\n",
              "      <th>3</th>\n",
              "      <td>4</td>\n",
              "      <td>NaN</td>\n",
              "      <td>1200000</td>\n",
              "      <td>[{'id': 53, 'name': 'Thriller'}, {'id': 18, 'n...</td>\n",
              "      <td>http://kahaanithefilm.com/</td>\n",
              "      <td>tt1821480</td>\n",
              "      <td>hi</td>\n",
              "      <td>Kahaani</td>\n",
              "      <td>Vidya Bagchi (Vidya Balan) arrives in Kolkata ...</td>\n",
              "      <td>3.174936</td>\n",
              "      <td>...</td>\n",
              "      <td>3/9/12</td>\n",
              "      <td>122.0</td>\n",
              "      <td>[{'iso_639_1': 'en', 'name': 'English'}, {'iso...</td>\n",
              "      <td>Released</td>\n",
              "      <td>NaN</td>\n",
              "      <td>Kahaani</td>\n",
              "      <td>[{'id': 10092, 'name': 'mystery'}, {'id': 1054...</td>\n",
              "      <td>[{'cast_id': 1, 'character': 'Vidya Bagchi', '...</td>\n",
              "      <td>[{'credit_id': '52fe48779251416c9108d6eb', 'de...</td>\n",
              "      <td>16000000</td>\n",
              "    </tr>\n",
              "    <tr>\n",
              "      <th>4</th>\n",
              "      <td>5</td>\n",
              "      <td>NaN</td>\n",
              "      <td>0</td>\n",
              "      <td>[{'id': 28, 'name': 'Action'}, {'id': 53, 'nam...</td>\n",
              "      <td>NaN</td>\n",
              "      <td>tt1380152</td>\n",
              "      <td>ko</td>\n",
              "      <td>마린보이</td>\n",
              "      <td>Marine Boy is the story of a former national s...</td>\n",
              "      <td>1.148070</td>\n",
              "      <td>...</td>\n",
              "      <td>2/5/09</td>\n",
              "      <td>118.0</td>\n",
              "      <td>[{'iso_639_1': 'ko', 'name': '한국어/조선말'}]</td>\n",
              "      <td>Released</td>\n",
              "      <td>NaN</td>\n",
              "      <td>Marine Boy</td>\n",
              "      <td>NaN</td>\n",
              "      <td>[{'cast_id': 3, 'character': 'Chun-soo', 'cred...</td>\n",
              "      <td>[{'credit_id': '52fe464b9251416c75073b43', 'de...</td>\n",
              "      <td>3923970</td>\n",
              "    </tr>\n",
              "  </tbody>\n",
              "</table>\n",
              "<p>5 rows × 23 columns</p>\n",
              "</div>"
            ],
            "text/plain": [
              "   id                              belongs_to_collection    budget  \\\n",
              "0   1  [{'id': 313576, 'name': 'Hot Tub Time Machine ...  14000000   \n",
              "1   2  [{'id': 107674, 'name': 'The Princess Diaries ...  40000000   \n",
              "2   3                                                NaN   3300000   \n",
              "3   4                                                NaN   1200000   \n",
              "4   5                                                NaN         0   \n",
              "\n",
              "                                              genres  \\\n",
              "0                     [{'id': 35, 'name': 'Comedy'}]   \n",
              "1  [{'id': 35, 'name': 'Comedy'}, {'id': 18, 'nam...   \n",
              "2                      [{'id': 18, 'name': 'Drama'}]   \n",
              "3  [{'id': 53, 'name': 'Thriller'}, {'id': 18, 'n...   \n",
              "4  [{'id': 28, 'name': 'Action'}, {'id': 53, 'nam...   \n",
              "\n",
              "                            homepage    imdb_id original_language  \\\n",
              "0                                NaN  tt2637294                en   \n",
              "1                                NaN  tt0368933                en   \n",
              "2  http://sonyclassics.com/whiplash/  tt2582802                en   \n",
              "3         http://kahaanithefilm.com/  tt1821480                hi   \n",
              "4                                NaN  tt1380152                ko   \n",
              "\n",
              "                             original_title  \\\n",
              "0                    Hot Tub Time Machine 2   \n",
              "1  The Princess Diaries 2: Royal Engagement   \n",
              "2                                  Whiplash   \n",
              "3                                   Kahaani   \n",
              "4                                      마린보이   \n",
              "\n",
              "                                            overview  popularity  ...  \\\n",
              "0  When Lou, who has become the \"father of the In...    6.575393  ...   \n",
              "1  Mia Thermopolis is now a college graduate and ...    8.248895  ...   \n",
              "2  Under the direction of a ruthless instructor, ...   64.299990  ...   \n",
              "3  Vidya Bagchi (Vidya Balan) arrives in Kolkata ...    3.174936  ...   \n",
              "4  Marine Boy is the story of a former national s...    1.148070  ...   \n",
              "\n",
              "  release_date runtime                                   spoken_languages  \\\n",
              "0      2/20/15    93.0           [{'iso_639_1': 'en', 'name': 'English'}]   \n",
              "1       8/6/04   113.0           [{'iso_639_1': 'en', 'name': 'English'}]   \n",
              "2     10/10/14   105.0           [{'iso_639_1': 'en', 'name': 'English'}]   \n",
              "3       3/9/12   122.0  [{'iso_639_1': 'en', 'name': 'English'}, {'iso...   \n",
              "4       2/5/09   118.0           [{'iso_639_1': 'ko', 'name': '한국어/조선말'}]   \n",
              "\n",
              "     status                                            tagline  \\\n",
              "0  Released  The Laws of Space and Time are About to be Vio...   \n",
              "1  Released  It can take a lifetime to find true love; she'...   \n",
              "2  Released    The road to greatness can take you to the edge.   \n",
              "3  Released                                                NaN   \n",
              "4  Released                                                NaN   \n",
              "\n",
              "                                      title  \\\n",
              "0                    Hot Tub Time Machine 2   \n",
              "1  The Princess Diaries 2: Royal Engagement   \n",
              "2                                  Whiplash   \n",
              "3                                   Kahaani   \n",
              "4                                Marine Boy   \n",
              "\n",
              "                                            Keywords  \\\n",
              "0  [{'id': 4379, 'name': 'time travel'}, {'id': 9...   \n",
              "1  [{'id': 2505, 'name': 'coronation'}, {'id': 42...   \n",
              "2  [{'id': 1416, 'name': 'jazz'}, {'id': 1523, 'n...   \n",
              "3  [{'id': 10092, 'name': 'mystery'}, {'id': 1054...   \n",
              "4                                                NaN   \n",
              "\n",
              "                                                cast  \\\n",
              "0  [{'cast_id': 4, 'character': 'Lou', 'credit_id...   \n",
              "1  [{'cast_id': 1, 'character': 'Mia Thermopolis'...   \n",
              "2  [{'cast_id': 5, 'character': 'Andrew Neimann',...   \n",
              "3  [{'cast_id': 1, 'character': 'Vidya Bagchi', '...   \n",
              "4  [{'cast_id': 3, 'character': 'Chun-soo', 'cred...   \n",
              "\n",
              "                                                crew   revenue  \n",
              "0  [{'credit_id': '59ac067c92514107af02c8c8', 'de...  12314651  \n",
              "1  [{'credit_id': '52fe43fe9251416c7502563d', 'de...  95149435  \n",
              "2  [{'credit_id': '54d5356ec3a3683ba0000039', 'de...  13092000  \n",
              "3  [{'credit_id': '52fe48779251416c9108d6eb', 'de...  16000000  \n",
              "4  [{'credit_id': '52fe464b9251416c75073b43', 'de...   3923970  \n",
              "\n",
              "[5 rows x 23 columns]"
            ]
          },
          "metadata": {
            "tags": []
          },
          "execution_count": 11
        }
      ]
    },
    {
      "cell_type": "code",
      "metadata": {
        "id": "uErYTCAc8t9Z",
        "colab_type": "code",
        "colab": {}
      },
      "source": [
        "test=pd.read_csv('test.csv')"
      ],
      "execution_count": 0,
      "outputs": []
    },
    {
      "cell_type": "code",
      "metadata": {
        "id": "rgPhujj_9QQE",
        "colab_type": "code",
        "outputId": "c6219574-950f-47de-b17f-939baef5ceb9",
        "colab": {
          "base_uri": "https://localhost:8080/",
          "height": 493
        }
      },
      "source": [
        "train.info()"
      ],
      "execution_count": 0,
      "outputs": [
        {
          "output_type": "stream",
          "text": [
            "<class 'pandas.core.frame.DataFrame'>\n",
            "RangeIndex: 3000 entries, 0 to 2999\n",
            "Data columns (total 23 columns):\n",
            "id                       3000 non-null int64\n",
            "belongs_to_collection    604 non-null object\n",
            "budget                   3000 non-null int64\n",
            "genres                   2993 non-null object\n",
            "homepage                 946 non-null object\n",
            "imdb_id                  3000 non-null object\n",
            "original_language        3000 non-null object\n",
            "original_title           3000 non-null object\n",
            "overview                 2992 non-null object\n",
            "popularity               3000 non-null float64\n",
            "poster_path              2999 non-null object\n",
            "production_companies     2844 non-null object\n",
            "production_countries     2945 non-null object\n",
            "release_date             3000 non-null object\n",
            "runtime                  2998 non-null float64\n",
            "spoken_languages         2980 non-null object\n",
            "status                   3000 non-null object\n",
            "tagline                  2403 non-null object\n",
            "title                    3000 non-null object\n",
            "Keywords                 2724 non-null object\n",
            "cast                     2987 non-null object\n",
            "crew                     2984 non-null object\n",
            "revenue                  3000 non-null int64\n",
            "dtypes: float64(2), int64(3), object(18)\n",
            "memory usage: 539.1+ KB\n"
          ],
          "name": "stdout"
        }
      ]
    },
    {
      "cell_type": "code",
      "metadata": {
        "id": "Een6Hnn09dAq",
        "colab_type": "code",
        "outputId": "7b72505a-a774-496e-fea2-e1f5ce94ac60",
        "colab": {
          "base_uri": "https://localhost:8080/",
          "height": 297
        }
      },
      "source": [
        "\n",
        "\n",
        "\n",
        "train.describe()"
      ],
      "execution_count": 0,
      "outputs": [
        {
          "output_type": "execute_result",
          "data": {
            "text/html": [
              "<div>\n",
              "<style scoped>\n",
              "    .dataframe tbody tr th:only-of-type {\n",
              "        vertical-align: middle;\n",
              "    }\n",
              "\n",
              "    .dataframe tbody tr th {\n",
              "        vertical-align: top;\n",
              "    }\n",
              "\n",
              "    .dataframe thead th {\n",
              "        text-align: right;\n",
              "    }\n",
              "</style>\n",
              "<table border=\"1\" class=\"dataframe\">\n",
              "  <thead>\n",
              "    <tr style=\"text-align: right;\">\n",
              "      <th></th>\n",
              "      <th>id</th>\n",
              "      <th>budget</th>\n",
              "      <th>popularity</th>\n",
              "      <th>runtime</th>\n",
              "      <th>revenue</th>\n",
              "    </tr>\n",
              "  </thead>\n",
              "  <tbody>\n",
              "    <tr>\n",
              "      <th>count</th>\n",
              "      <td>3000.000000</td>\n",
              "      <td>3.000000e+03</td>\n",
              "      <td>3000.000000</td>\n",
              "      <td>2998.000000</td>\n",
              "      <td>3.000000e+03</td>\n",
              "    </tr>\n",
              "    <tr>\n",
              "      <th>mean</th>\n",
              "      <td>1500.500000</td>\n",
              "      <td>2.253133e+07</td>\n",
              "      <td>8.463274</td>\n",
              "      <td>107.856571</td>\n",
              "      <td>6.672585e+07</td>\n",
              "    </tr>\n",
              "    <tr>\n",
              "      <th>std</th>\n",
              "      <td>866.169729</td>\n",
              "      <td>3.702609e+07</td>\n",
              "      <td>12.104000</td>\n",
              "      <td>22.086434</td>\n",
              "      <td>1.375323e+08</td>\n",
              "    </tr>\n",
              "    <tr>\n",
              "      <th>min</th>\n",
              "      <td>1.000000</td>\n",
              "      <td>0.000000e+00</td>\n",
              "      <td>0.000001</td>\n",
              "      <td>0.000000</td>\n",
              "      <td>1.000000e+00</td>\n",
              "    </tr>\n",
              "    <tr>\n",
              "      <th>25%</th>\n",
              "      <td>750.750000</td>\n",
              "      <td>0.000000e+00</td>\n",
              "      <td>4.018053</td>\n",
              "      <td>94.000000</td>\n",
              "      <td>2.379808e+06</td>\n",
              "    </tr>\n",
              "    <tr>\n",
              "      <th>50%</th>\n",
              "      <td>1500.500000</td>\n",
              "      <td>8.000000e+06</td>\n",
              "      <td>7.374861</td>\n",
              "      <td>104.000000</td>\n",
              "      <td>1.680707e+07</td>\n",
              "    </tr>\n",
              "    <tr>\n",
              "      <th>75%</th>\n",
              "      <td>2250.250000</td>\n",
              "      <td>2.900000e+07</td>\n",
              "      <td>10.890983</td>\n",
              "      <td>118.000000</td>\n",
              "      <td>6.891920e+07</td>\n",
              "    </tr>\n",
              "    <tr>\n",
              "      <th>max</th>\n",
              "      <td>3000.000000</td>\n",
              "      <td>3.800000e+08</td>\n",
              "      <td>294.337037</td>\n",
              "      <td>338.000000</td>\n",
              "      <td>1.519558e+09</td>\n",
              "    </tr>\n",
              "  </tbody>\n",
              "</table>\n",
              "</div>"
            ],
            "text/plain": [
              "                id        budget   popularity      runtime       revenue\n",
              "count  3000.000000  3.000000e+03  3000.000000  2998.000000  3.000000e+03\n",
              "mean   1500.500000  2.253133e+07     8.463274   107.856571  6.672585e+07\n",
              "std     866.169729  3.702609e+07    12.104000    22.086434  1.375323e+08\n",
              "min       1.000000  0.000000e+00     0.000001     0.000000  1.000000e+00\n",
              "25%     750.750000  0.000000e+00     4.018053    94.000000  2.379808e+06\n",
              "50%    1500.500000  8.000000e+06     7.374861   104.000000  1.680707e+07\n",
              "75%    2250.250000  2.900000e+07    10.890983   118.000000  6.891920e+07\n",
              "max    3000.000000  3.800000e+08   294.337037   338.000000  1.519558e+09"
            ]
          },
          "metadata": {
            "tags": []
          },
          "execution_count": 14
        }
      ]
    },
    {
      "cell_type": "code",
      "metadata": {
        "id": "5Tp6mB3q9fzG",
        "colab_type": "code",
        "outputId": "2d6011b0-09df-4827-8655-8b6ba1bf47fa",
        "colab": {
          "base_uri": "https://localhost:8080/",
          "height": 735
        }
      },
      "source": [
        "plt.figure(figsize=(20,10))\n",
        "sns.heatmap(train.isnull(),yticklabels=False,cbar=False,cmap='viridis')"
      ],
      "execution_count": 0,
      "outputs": [
        {
          "output_type": "execute_result",
          "data": {
            "text/plain": [
              "<matplotlib.axes._subplots.AxesSubplot at 0x7fe3bb651e80>"
            ]
          },
          "metadata": {
            "tags": []
          },
          "execution_count": 15
        },
        {
          "output_type": "display_data",
          "data": {
            "image/png": "[encoded data removed]",
            "text/plain": [
              "<Figure size 1440x720 with 1 Axes>"
            ]
          },
          "metadata": {
            "tags": []
          }
        }
      ]
    },
    {
      "cell_type": "code",
      "metadata": {
        "id": "EkB8MMF39jOO",
        "colab_type": "code",
        "colab": {}
      },
      "source": [
        "\n",
        "\n",
        "train.loc[train['id'] == 16,'revenue'] = 192864         \n",
        "train.loc[train['id'] == 90,'budget'] = 30000000                  \n",
        "train.loc[train['id'] == 118,'budget'] = 60000000       \n",
        "train.loc[train['id'] == 149,'budget'] = 18000000       \n",
        "train.loc[train['id'] == 313,'revenue'] = 12000000       \n",
        "train.loc[train['id'] == 451,'revenue'] = 12000000      \n",
        "train.loc[train['id'] == 464,'budget'] = 20000000       \n",
        "train.loc[train['id'] == 470,'budget'] = 13000000       \n",
        "train.loc[train['id'] == 513,'budget'] = 930000         \n",
        "train.loc[train['id'] == 797,'budget'] = 8000000        \n",
        "train.loc[train['id'] == 819,'budget'] = 90000000       \n",
        "train.loc[train['id'] == 850,'budget'] = 90000000       \n",
        "train.loc[train['id'] == 1007,'budget'] = 2              \n",
        "train.loc[train['id'] == 1112,'budget'] = 7500000       \n",
        "train.loc[train['id'] == 1131,'budget'] = 4300000        \n",
        "train.loc[train['id'] == 1359,'budget'] = 10000000       \n",
        "train.loc[train['id'] == 1542,'budget'] = 1             \n",
        "train.loc[train['id'] == 1570,'budget'] = 15800000       \n",
        "train.loc[train['id'] == 1571,'budget'] = 4000000        \n",
        "train.loc[train['id'] == 1714,'budget'] = 46000000       \n",
        "train.loc[train['id'] == 1721,'budget'] = 17500000       \n",
        "train.loc[train['id'] == 1865,'revenue'] = 25000000      \n",
        "train.loc[train['id'] == 1885,'budget'] = 12             \n",
        "train.loc[train['id'] == 2091,'budget'] = 10             \n",
        "train.loc[train['id'] == 2268,'budget'] = 17500000       \n",
        "train.loc[train['id'] == 2491,'budget'] = 6              \n",
        "train.loc[train['id'] == 2602,'budget'] = 31000000       \n",
        "train.loc[train['id'] == 2612,'budget'] = 15000000       \n",
        "train.loc[train['id'] == 2696,'budget'] = 10000000      \n",
        "train.loc[train['id'] == 2801,'budget'] = 10000000       \n",
        "train.loc[train['id'] == 335,'budget'] = 2 \n",
        "train.loc[train['id'] == 348,'budget'] = 12\n",
        "train.loc[train['id'] == 470,'budget'] = 13000000 \n",
        "train.loc[train['id'] == 513,'budget'] = 1100000\n",
        "train.loc[train['id'] == 640,'budget'] = 6 \n",
        "train.loc[train['id'] == 696,'budget'] = 1\n",
        "train.loc[train['id'] == 797,'budget'] = 8000000 \n",
        "train.loc[train['id'] == 850,'budget'] = 1500000\n",
        "train.loc[train['id'] == 1199,'budget'] = 5 \n",
        "train.loc[train['id'] == 1282,'budget'] = 9              \n",
        "train.loc[train['id'] == 1347,'budget'] = 1\n",
        "train.loc[train['id'] == 1755,'budget'] = 2\n",
        "train.loc[train['id'] == 1801,'budget'] = 5\n",
        "train.loc[train['id'] == 1918,'budget'] = 592 \n",
        "train.loc[train['id'] == 2033,'budget'] = 4\n",
        "train.loc[train['id'] == 2118,'budget'] = 344 \n",
        "train.loc[train['id'] == 2252,'budget'] = 130\n",
        "train.loc[train['id'] == 2256,'budget'] = 1 \n",
        "train.loc[train['id'] == 2696,'budget'] = 10000000"
      ],
      "execution_count": 0,
      "outputs": []
    },
    {
      "cell_type": "code",
      "metadata": {
        "id": "z0KVLZVU--rr",
        "colab_type": "code",
        "colab": {}
      },
      "source": [
        "test.loc[test['id'] == 3033,'budget'] = 250 \n",
        "test.loc[test['id'] == 3051,'budget'] = 50\n",
        "test.loc[test['id'] == 3084,'budget'] = 337\n",
        "test.loc[test['id'] == 3224,'budget'] = 4  \n",
        "test.loc[test['id'] == 3594,'budget'] = 25  \n",
        "test.loc[test['id'] == 3619,'budget'] = 500  \n",
        "test.loc[test['id'] == 3831,'budget'] = 3  \n",
        "test.loc[test['id'] == 3935,'budget'] = 500  \n",
        "test.loc[test['id'] == 4049,'budget'] = 995946 \n",
        "test.loc[test['id'] == 4424,'budget'] = 3  \n",
        "test.loc[test['id'] == 4460,'budget'] = 8  \n",
        "test.loc[test['id'] == 4555,'budget'] = 1200000 \n",
        "test.loc[test['id'] == 4624,'budget'] = 30 \n",
        "test.loc[test['id'] == 4645,'budget'] = 500 \n",
        "test.loc[test['id'] == 4709,'budget'] = 450 \n",
        "test.loc[test['id'] == 4839,'budget'] = 7\n",
        "test.loc[test['id'] == 3125,'budget'] = 25 \n",
        "test.loc[test['id'] == 3142,'budget'] = 1\n",
        "test.loc[test['id'] == 3201,'budget'] = 450\n",
        "test.loc[test['id'] == 3222,'budget'] = 6\n",
        "test.loc[test['id'] == 3545,'budget'] = 38\n",
        "test.loc[test['id'] == 3670,'budget'] = 18\n",
        "test.loc[test['id'] == 3792,'budget'] = 19\n",
        "test.loc[test['id'] == 3881,'budget'] = 7\n",
        "test.loc[test['id'] == 3969,'budget'] = 400\n",
        "test.loc[test['id'] == 4196,'budget'] = 6\n",
        "test.loc[test['id'] == 4221,'budget'] = 11\n",
        "test.loc[test['id'] == 4222,'budget'] = 500\n",
        "test.loc[test['id'] == 4285,'budget'] = 11\n",
        "test.loc[test['id'] == 4319,'budget'] = 1\n",
        "test.loc[test['id'] == 4639,'budget'] = 10\n",
        "test.loc[test['id'] == 4719,'budget'] = 45\n",
        "test.loc[test['id'] == 4822,'budget'] = 22\n",
        "test.loc[test['id'] == 4829,'budget'] = 20\n",
        "test.loc[test['id'] == 4969,'budget'] = 20\n",
        "test.loc[test['id'] == 5021,'budget'] = 40 \n",
        "test.loc[test['id'] == 5035,'budget'] = 1 \n",
        "test.loc[test['id'] == 5063,'budget'] = 14 \n",
        "test.loc[test['id'] == 5119,'budget'] = 2 \n",
        "test.loc[test['id'] == 5214,'budget'] = 30 \n",
        "test.loc[test['id'] == 5221,'budget'] = 50 \n",
        "test.loc[test['id'] == 4903,'budget'] = 15\n",
        "test.loc[test['id'] == 4983,'budget'] = 3\n",
        "test.loc[test['id'] == 5102,'budget'] = 28\n",
        "test.loc[test['id'] == 5217,'budget'] = 75\n",
        "test.loc[test['id'] == 5224,'budget'] = 3 \n",
        "test.loc[test['id'] == 5469,'budget'] = 20 \n",
        "test.loc[test['id'] == 5840,'budget'] = 1 \n",
        "test.loc[test['id'] == 5960,'budget'] = 30\n",
        "test.loc[test['id'] == 6506,'budget'] = 11 \n",
        "test.loc[test['id'] == 6553,'budget'] = 280\n",
        "test.loc[test['id'] == 6561,'budget'] = 7\n",
        "test.loc[test['id'] == 6582,'budget'] = 218\n",
        "test.loc[test['id'] == 6638,'budget'] = 5\n",
        "test.loc[test['id'] == 6749,'budget'] = 8 \n",
        "test.loc[test['id'] == 6759,'budget'] = 50 \n",
        "test.loc[test['id'] == 6856,'budget'] = 10\n",
        "test.loc[test['id'] == 6858,'budget'] =  100\n",
        "test.loc[test['id'] == 6876,'budget'] =  250\n",
        "test.loc[test['id'] == 6972,'budget'] = 1\n",
        "test.loc[test['id'] == 7079,'budget'] = 8000000\n",
        "test.loc[test['id'] == 7150,'budget'] = 118\n",
        "test.loc[test['id'] == 6506,'budget'] = 118\n",
        "test.loc[test['id'] == 7225,'budget'] = 6\n",
        "test.loc[test['id'] == 7231,'budget'] = 85\n",
        "test.loc[test['id'] == 5222,'budget'] = 5\n",
        "test.loc[test['id'] == 5322,'budget'] = 90\n",
        "test.loc[test['id'] == 5350,'budget'] = 70\n",
        "test.loc[test['id'] == 5378,'budget'] = 10\n",
        "test.loc[test['id'] == 5545,'budget'] = 80\n",
        "test.loc[test['id'] == 5810,'budget'] = 8\n",
        "test.loc[test['id'] == 5926,'budget'] = 300\n",
        "test.loc[test['id'] == 5927,'budget'] = 4\n",
        "test.loc[test['id'] == 5986,'budget'] = 1\n",
        "test.loc[test['id'] == 6053,'budget'] = 20\n",
        "test.loc[test['id'] == 6104,'budget'] = 1\n",
        "test.loc[test['id'] == 6130,'budget'] = 30\n",
        "test.loc[test['id'] == 6301,'budget'] = 150\n",
        "test.loc[test['id'] == 6276,'budget'] = 100\n",
        "test.loc[test['id'] == 6473,'budget'] = 100\n",
        "test.loc[test['id'] == 6842,'budget'] = 30"
      ],
      "execution_count": 0,
      "outputs": []
    },
    {
      "cell_type": "code",
      "metadata": {
        "id": "W4QRpOs-_G4i",
        "colab_type": "code",
        "colab": {}
      },
      "source": [
        "\n",
        "\n",
        "\n",
        "\n",
        "dict_columns = ['belongs_to_collection', 'genres', 'production_companies',\n",
        "                'production_countries', 'spoken_languages', 'Keywords', 'cast', 'crew']\n",
        "\n",
        "def text_to_dict(df):\n",
        "    for column in dict_columns:\n",
        "        df[column] = df[column].apply(lambda x: {} if pd.isna(x) else ast.literal_eval(x) )\n",
        "    return df\n",
        "\n",
        "train = text_to_dict(train)\n",
        "test = text_to_dict(test)"
      ],
      "execution_count": 0,
      "outputs": []
    },
    {
      "cell_type": "code",
      "metadata": {
        "id": "9ge3ib33_406",
        "colab_type": "code",
        "colab": {}
      },
      "source": [
        "\n",
        "\n",
        "\n",
        "\n",
        "\n",
        "def get_key_values(df,column,key,value):\n",
        "    ids={}\n",
        "    for i in df[column]:\n",
        "        if i!={}:\n",
        "            for item in i:\n",
        "                ids.update({item[key]:item[value]})\n",
        "    return ids"
      ],
      "execution_count": 0,
      "outputs": []
    },
    {
      "cell_type": "code",
      "metadata": {
        "id": "Btnj-gN4AFKa",
        "colab_type": "code",
        "colab": {}
      },
      "source": [
        "genres=get_key_values(train,'genres','id','name')\n",
        "collections=get_key_values(train,'belongs_to_collection','id','name')\n",
        "companies=get_key_values(train,'production_companies','id','name')\n",
        "countries=get_key_values(train,'production_countries','iso_3166_1','name')\n",
        "languages=get_key_values(train,'spoken_languages','iso_639_1','name')\n",
        "keywords=get_key_values(train,'Keywords','id','name')\n",
        "actors=get_key_values(train,'cast','id','name')"
      ],
      "execution_count": 0,
      "outputs": []
    },
    {
      "cell_type": "code",
      "metadata": {
        "id": "G_vFtQpCAITK",
        "colab_type": "code",
        "outputId": "c45ced3a-42da-45e5-9a52-bdc19ef156b0",
        "colab": {
          "base_uri": "https://localhost:8080/",
          "height": 153
        }
      },
      "source": [
        "\n",
        "\n",
        "\n",
        "print('Number of elements in dictionaries')\n",
        "print('Genres',len(genres.values()))\n",
        "print('collections',len(collections.values()))\n",
        "print('companies',len(companies.values()))\n",
        "print('countries',len(countries.values()))\n",
        "print('languages',len(languages.values()))\n",
        "print('keywords',len(keywords.values()))\n",
        "print('actors',len(actors.values()))"
      ],
      "execution_count": 0,
      "outputs": [
        {
          "output_type": "stream",
          "text": [
            "Number of elements in dictionaries\n",
            "Genres 20\n",
            "collections 422\n",
            "companies 3712\n",
            "countries 74\n",
            "languages 79\n",
            "keywords 7400\n",
            "actors 38760\n"
          ],
          "name": "stdout"
        }
      ]
    },
    {
      "cell_type": "code",
      "metadata": {
        "id": "Cynjm8soAMXE",
        "colab_type": "code",
        "colab": {}
      },
      "source": [
        "\n",
        "\n",
        "list_of_genres=genres.values()\n",
        "train['num_genres'] = train['genres'].apply(lambda x: len(x) if x != {} else 0)\n",
        "train['all_genres'] = train['genres'].apply(lambda x: ' '.join(sorted([i['name'] for i in x])) if x != {} else '')\n",
        "for g in list_of_genres:\n",
        "    train['genre_' + g] = train['all_genres'].apply(lambda x: 1 if g in x else 0)\n",
        "    \n",
        "test['num_genres'] = test['genres'].apply(lambda x: len(x) if x != {} else 0)\n",
        "test['all_genres'] = test['genres'].apply(lambda x: ' '.join(sorted([i['name'] for i in x])) if x != {} else '')\n",
        "for g in list_of_genres:\n",
        "    test['genre_' + g] = test['all_genres'].apply(lambda x: 1 if g in x else 0)"
      ],
      "execution_count": 0,
      "outputs": []
    },
    {
      "cell_type": "code",
      "metadata": {
        "id": "yb5O06zTAPfl",
        "colab_type": "code",
        "colab": {}
      },
      "source": [
        "\n",
        "\n",
        "\n",
        "\n",
        "\n",
        "\n",
        "\n",
        "\n",
        "\n",
        "train['num_companies'] = train['production_companies'].apply(lambda x: len(x) if x != {} else 0)\n",
        "train['all_production_companies'] = train['production_companies'].apply(lambda x: ' '.join(sorted([i['name'] for i in x])) if x != {} else '')\n",
        "list_of_companies = list(train['production_companies'].apply(lambda x: [i['name'] for i in x] if x != {} else []).values)\n",
        "Counter([i for j in list_of_companies for i in j]).most_common(30)\n",
        "top_companies = [m[0] for m in Counter([i for j in list_of_companies for i in j]).most_common(30)]\n",
        "for g in top_companies:\n",
        "    train['production_company_' + g] = train['all_production_companies'].apply(lambda x: 1 if g in x else 0)\n",
        "test['num_companies'] = test['production_companies'].apply(lambda x: len(x) if x != {} else 0)\n",
        "test['all_production_companies'] = test['production_companies'].apply(lambda x: ' '.join(sorted([i['name'] for i in x])) if x != {} else '')\n",
        "for g in top_companies:\n",
        "    test['production_company_' + g] = test['all_production_companies'].apply(lambda x: 1 if g in x else 0)"
      ],
      "execution_count": 0,
      "outputs": []
    },
    {
      "cell_type": "code",
      "metadata": {
        "id": "W9qLfefFAbJ7",
        "colab_type": "code",
        "colab": {}
      },
      "source": [
        "train = train.drop(['production_companies', 'all_production_companies','belongs_to_collection','homepage','genres'], axis=1)\n",
        "test = test.drop(['production_companies', 'all_production_companies','belongs_to_collection','homepage','genres'], axis=1)"
      ],
      "execution_count": 0,
      "outputs": []
    },
    {
      "cell_type": "code",
      "metadata": {
        "id": "4vY-J22TAerM",
        "colab_type": "code",
        "colab": {}
      },
      "source": [
        "\n",
        "\n",
        "\n",
        "list_of_countries = list(train['production_countries'].apply(lambda x: [i['name'] for i in x] if x != {} else []).values)\n",
        "Counter([i for j in list_of_countries for i in j]).most_common(25)\n",
        "train['num_countries'] = train['production_countries'].apply(lambda x: len(x) if x != {} else 0)\n",
        "train['all_countries'] = train['production_countries'].apply(lambda x: ' '.join(sorted([i['name'] for i in x])) if x != {} else '')\n",
        "top_countries = [m[0] for m in Counter([i for j in list_of_countries for i in j]).most_common(25)]\n",
        "for g in top_countries:\n",
        "    train['production_country_' + g] = train['all_countries'].apply(lambda x: 1 if g in x else 0)\n",
        "    \n",
        "test['num_countries'] = test['production_countries'].apply(lambda x: len(x) if x != {} else 0)\n",
        "test['all_countries'] = test['production_countries'].apply(lambda x: ' '.join(sorted([i['name'] for i in x])) if x != {} else '')\n",
        "for g in top_countries:\n",
        "    test['production_country_' + g] = test['all_countries'].apply(lambda x: 1 if g in x else 0)\n",
        "train = train.drop(['production_countries', 'all_countries'], axis=1)\n",
        "test = test.drop(['production_countries', 'all_countries'], axis=1)"
      ],
      "execution_count": 0,
      "outputs": []
    },
    {
      "cell_type": "code",
      "metadata": {
        "id": "LGH-Nuo3AiDE",
        "colab_type": "code",
        "outputId": "a30b1962-78d3-4cac-c3bb-3dfe263382b4",
        "colab": {
          "base_uri": "https://localhost:8080/",
          "height": 357
        }
      },
      "source": [
        "\n",
        "\n",
        "list_of_languages = list(train['spoken_languages'].apply(lambda x: [i['name'] for i in x] if x != {} else []).values)\n",
        "Counter([i for j in list_of_languages for i in j]).most_common(20)"
      ],
      "execution_count": 0,
      "outputs": [
        {
          "output_type": "execute_result",
          "data": {
            "text/plain": [
              "[('English', 2618),\n",
              " ('Français', 288),\n",
              " ('Español', 239),\n",
              " ('Deutsch', 169),\n",
              " ('Pусский', 152),\n",
              " ('Italiano', 124),\n",
              " ('日本語', 89),\n",
              " ('普通话', 68),\n",
              " ('हिन्दी', 56),\n",
              " ('', 47),\n",
              " ('Português', 43),\n",
              " ('العربية', 40),\n",
              " ('한국어/조선말', 37),\n",
              " ('广州话 / 廣州話', 36),\n",
              " ('தமிழ்', 27),\n",
              " ('Polski', 25),\n",
              " ('Magyar', 24),\n",
              " ('Latin', 23),\n",
              " ('svenska', 22),\n",
              " ('ภาษาไทย', 22)]"
            ]
          },
          "metadata": {
            "tags": []
          },
          "execution_count": 26
        }
      ]
    },
    {
      "cell_type": "code",
      "metadata": {
        "id": "3taW3-81Al0i",
        "colab_type": "code",
        "colab": {}
      },
      "source": [
        "\n",
        "\n",
        "\n",
        "\n",
        "train['num_languages'] = train['spoken_languages'].apply(lambda x: len(x) if x != {} else 0)\n",
        "train['all_languages'] = train['spoken_languages'].apply(lambda x: ' '.join(sorted([i['name'] for i in x])) if x != {} else '')\n",
        "top_languages = [m[0] for m in Counter([i for j in list_of_languages for i in j]).most_common(30)]\n",
        "for g in top_languages:\n",
        "    train['language_' + g] = train['all_languages'].apply(lambda x: 1 if g in x else 0)\n",
        "    \n",
        "test['num_languages'] = test['spoken_languages'].apply(lambda x: len(x) if x != {} else 0)\n",
        "test['all_languages'] = test['spoken_languages'].apply(lambda x: ' '.join(sorted([i['name'] for i in x])) if x != {} else '')\n",
        "for g in top_languages:\n",
        "    test['language_' + g] = test['all_languages'].apply(lambda x: 1 if g in x else 0)\n",
        "\n",
        "train = train.drop(['spoken_languages', 'all_languages'], axis=1)\n",
        "test = test.drop(['spoken_languages', 'all_languages'], axis=1)"
      ],
      "execution_count": 0,
      "outputs": []
    },
    {
      "cell_type": "code",
      "metadata": {
        "id": "D3UIoB6IAr4J",
        "colab_type": "code",
        "colab": {}
      },
      "source": [
        "list_of_keywords = list(train['Keywords'].apply(lambda x: [i['name'] for i in x] if x != {} else []).values)\n",
        "train['num_Keywords'] = train['Keywords'].apply(lambda x: len(x) if x != {} else 0)\n",
        "train['all_Keywords'] = train['Keywords'].apply(lambda x: ' '.join(sorted([i['name'] for i in x])) if x != {} else '')\n",
        "top_keywords = [m[0] for m in Counter([i for j in list_of_keywords for i in j]).most_common(30)]\n",
        "for g in top_keywords:\n",
        "    train['keyword_' + g] = train['all_Keywords'].apply(lambda x: 1 if g in x else 0)\n",
        "    \n",
        "test['num_Keywords'] = test['Keywords'].apply(lambda x: len(x) if x != {} else 0)\n",
        "test['all_Keywords'] = test['Keywords'].apply(lambda x: ' '.join(sorted([i['name'] for i in x])) if x != {} else '')\n",
        "for g in top_keywords:\n",
        "    test['keyword_' + g] = test['all_Keywords'].apply(lambda x: 1 if g in x else 0)\n",
        "\n",
        "train = train.drop(['Keywords', 'all_Keywords'], axis=1)\n",
        "test = test.drop(['Keywords', 'all_Keywords'], axis=1)\n"
      ],
      "execution_count": 0,
      "outputs": []
    },
    {
      "cell_type": "code",
      "metadata": {
        "id": "Ytl6E9gNAtxE",
        "colab_type": "code",
        "colab": {}
      },
      "source": [
        "stars=train.sort_values(by=['revenue'],ascending=False)[0:100]\n",
        "l=[]\n",
        "for i in stars['cast']:\n",
        "    if len(i)!=0:\n",
        "        l.append(i[0]['id'])\n",
        "s=set(l)\n",
        "l1=[]\n",
        "for i in stars['crew']:\n",
        "    if len(i)!=0:\n",
        "        for k in i: \n",
        "            l1.append(k['id'])\n",
        "s1=set(l1)"
      ],
      "execution_count": 0,
      "outputs": []
    },
    {
      "cell_type": "code",
      "metadata": {
        "id": "5VDL9k27Azsv",
        "colab_type": "code",
        "colab": {}
      },
      "source": [
        "def find_star(col,l):\n",
        "    if len(col)!=0:\n",
        "        for i in col:\n",
        "            if i['id'] in l:\n",
        "                return 1\n",
        "        return 0\n",
        "    else:\n",
        "        return 0\n",
        "def find_crew(col,l):\n",
        "    count=0\n",
        "    if len(col)!=0:\n",
        "        for i in col:\n",
        "            if i['id'] in l:\n",
        "                count+=1\n",
        "        if count>=5:\n",
        "            return 1\n",
        "        else:      \n",
        "            return 0\n",
        "    else:\n",
        "        return 0\n",
        "train['star_cast']=train['cast'].apply(find_star,l=s)\n",
        "train['star_crew']=train['crew'].apply(find_crew,l=s1)\n",
        "test['star_cast']=test['cast'].apply(find_star,l=s)\n",
        "test['star_crew']=test['crew'].apply(find_crew,l=s1)"
      ],
      "execution_count": 0,
      "outputs": []
    },
    {
      "cell_type": "code",
      "metadata": {
        "id": "cbXBhZm6A18t",
        "colab_type": "code",
        "outputId": "22433830-1b81-41af-c3e5-5e140f5b1998",
        "colab": {
          "base_uri": "https://localhost:8080/",
          "height": 307
        }
      },
      "source": [
        "sns.scatterplot(x='budget',y='revenue',data=train)"
      ],
      "execution_count": 0,
      "outputs": [
        {
          "output_type": "execute_result",
          "data": {
            "text/plain": [
              "<matplotlib.axes._subplots.AxesSubplot at 0x7fe3ac8d1518>"
            ]
          },
          "metadata": {
            "tags": []
          },
          "execution_count": 31
        },
        {
          "output_type": "display_data",
          "data": {
            "image/png": "[encoded data removed]",
            "text/plain": [
              "<Figure size 432x288 with 1 Axes>"
            ]
          },
          "metadata": {
            "tags": []
          }
        }
      ]
    },
    {
      "cell_type": "code",
      "metadata": {
        "id": "g9mggSIJA5ac",
        "colab_type": "code",
        "outputId": "231f7d16-0f5e-4e70-e4cb-9a7a5ad20045",
        "colab": {
          "base_uri": "https://localhost:8080/",
          "height": 51
        }
      },
      "source": [
        "\n",
        "\n",
        "\n",
        "\n",
        "\n",
        "\n",
        "\n",
        "\n",
        "list_of_cast_genders = list(train['cast'].apply(lambda x: [i['gender'] for i in x] if x != {} else []).values)\n",
        "print('0-Unspecified 1-Female 2-Male')\n",
        "Counter([i for j in list_of_cast_genders for i in j]).most_common()"
      ],
      "execution_count": 0,
      "outputs": [
        {
          "output_type": "stream",
          "text": [
            "0-Unspecified 1-Female 2-Male\n"
          ],
          "name": "stdout"
        },
        {
          "output_type": "execute_result",
          "data": {
            "text/plain": [
              "[(2, 27949), (0, 20329), (1, 13533)]"
            ]
          },
          "metadata": {
            "tags": []
          },
          "execution_count": 32
        }
      ]
    },
    {
      "cell_type": "code",
      "metadata": {
        "id": "kENwIrhyBCS-",
        "colab_type": "code",
        "colab": {}
      },
      "source": [
        "\n",
        "\n",
        "\n",
        "\n",
        "\n",
        "train['num_cast'] = train['cast'].apply(lambda x: len(x) if x != {} else 0)\n",
        "train['genders_0_cast'] = train['cast'].apply(lambda x: sum([1 for i in x if i['gender'] == 0]))\n",
        "train['genders_1_cast'] = train['cast'].apply(lambda x: sum([1 for i in x if i['gender'] == 1]))\n",
        "train['genders_2_cast'] = train['cast'].apply(lambda x: sum([1 for i in x if i['gender'] == 2]))\n",
        "test['num_cast'] = test['cast'].apply(lambda x: len(x) if x != {} else 0)\n",
        "test['genders_0_cast'] = test['cast'].apply(lambda x: sum([1 for i in x if i['gender'] == 0]))\n",
        "test['genders_1_cast'] = test['cast'].apply(lambda x: sum([1 for i in x if i['gender'] == 1]))\n",
        "test['genders_2_cast'] = test['cast'].apply(lambda x: sum([1 for i in x if i['gender'] == 2]))"
      ],
      "execution_count": 0,
      "outputs": []
    },
    {
      "cell_type": "code",
      "metadata": {
        "id": "1ZQZ6OF9BE4V",
        "colab_type": "code",
        "outputId": "4ed298ce-ce85-4d5f-886b-7f99c83fb905",
        "colab": {
          "base_uri": "https://localhost:8080/",
          "height": 221
        }
      },
      "source": [
        "\n",
        "\n",
        "print('Number of casted persons in films')\n",
        "train['crew'].apply(lambda x: len(x) if x != {} else 0).value_counts().head(10)"
      ],
      "execution_count": 0,
      "outputs": [
        {
          "output_type": "stream",
          "text": [
            "Number of casted persons in films\n"
          ],
          "name": "stdout"
        },
        {
          "output_type": "execute_result",
          "data": {
            "text/plain": [
              "2     179\n",
              "11    127\n",
              "10    126\n",
              "3     126\n",
              "12    110\n",
              "9     109\n",
              "8     109\n",
              "14    104\n",
              "4     101\n",
              "7      94\n",
              "Name: crew, dtype: int64"
            ]
          },
          "metadata": {
            "tags": []
          },
          "execution_count": 34
        }
      ]
    },
    {
      "cell_type": "code",
      "metadata": {
        "id": "3hOnonVABGQP",
        "colab_type": "code",
        "outputId": "403b457b-882c-41c9-eaba-fba5abcc511c",
        "colab": {
          "base_uri": "https://localhost:8080/",
          "height": 272
        }
      },
      "source": [
        "\n",
        "list_of_crew_jobs = list(train['crew'].apply(lambda x: [i['job'] for i in x] if x != {} else []).values)\n",
        "Counter([i for j in list_of_crew_jobs for i in j]).most_common(15)"
      ],
      "execution_count": 0,
      "outputs": [
        {
          "output_type": "execute_result",
          "data": {
            "text/plain": [
              "[('Producer', 6011),\n",
              " ('Executive Producer', 3459),\n",
              " ('Director', 3225),\n",
              " ('Screenplay', 2996),\n",
              " ('Editor', 2824),\n",
              " ('Casting', 2483),\n",
              " ('Director of Photography', 2288),\n",
              " ('Original Music Composer', 1947),\n",
              " ('Art Direction', 1821),\n",
              " ('Production Design', 1650),\n",
              " ('Costume Design', 1573),\n",
              " ('Writer', 1523),\n",
              " ('Set Decoration', 1345),\n",
              " ('Makeup Artist', 1108),\n",
              " ('Sound Re-Recording Mixer', 970)]"
            ]
          },
          "metadata": {
            "tags": []
          },
          "execution_count": 35
        }
      ]
    },
    {
      "cell_type": "code",
      "metadata": {
        "id": "VdYUuU--BJzU",
        "colab_type": "code",
        "outputId": "9ac38ec4-ae5c-4e97-a429-923cb35a87a3",
        "colab": {
          "base_uri": "https://localhost:8080/",
          "height": 34
        }
      },
      "source": [
        "\n",
        "\n",
        "\n",
        "list_of_crew_genders = list(train['crew'].apply(lambda x: [i['gender'] for i in x] if x != {} else []).values)\n",
        "Counter([i for j in list_of_crew_genders for i in j]).most_common()"
      ],
      "execution_count": 0,
      "outputs": [
        {
          "output_type": "execute_result",
          "data": {
            "text/plain": [
              "[(0, 41787), (2, 24898), (1, 6412)]"
            ]
          },
          "metadata": {
            "tags": []
          },
          "execution_count": 36
        }
      ]
    },
    {
      "cell_type": "code",
      "metadata": {
        "id": "5Cu5nHYMBO9G",
        "colab_type": "code",
        "outputId": "cbd38867-2339-4b79-925c-aeffe90f85ff",
        "colab": {
          "base_uri": "https://localhost:8080/",
          "height": 221
        }
      },
      "source": [
        "\n",
        "\n",
        "\n",
        "\n",
        "\n",
        "\n",
        "\n",
        "\n",
        "list_of_crew_departments = list(train['crew'].apply(lambda x: [i['department'] for i in x] if x != {} else []).values)\n",
        "Counter([i for j in list_of_crew_departments for i in j]).most_common(14)"
      ],
      "execution_count": 0,
      "outputs": [
        {
          "output_type": "execute_result",
          "data": {
            "text/plain": [
              "[('Production', 15887),\n",
              " ('Sound', 9319),\n",
              " ('Art', 8069),\n",
              " ('Crew', 7315),\n",
              " ('Writing', 6567),\n",
              " ('Costume & Make-Up', 6156),\n",
              " ('Camera', 5424),\n",
              " ('Directing', 4954),\n",
              " ('Editing', 4508),\n",
              " ('Visual Effects', 3591),\n",
              " ('Lighting', 1303),\n",
              " ('Actors', 4)]"
            ]
          },
          "metadata": {
            "tags": []
          },
          "execution_count": 37
        }
      ]
    },
    {
      "cell_type": "code",
      "metadata": {
        "id": "us5yRLPPBSbl",
        "colab_type": "code",
        "outputId": "481882f6-6fd2-4b93-dda8-77fbee3c5ad1",
        "colab": {
          "base_uri": "https://localhost:8080/",
          "height": 272
        }
      },
      "source": [
        "\n",
        "list_of_cast_characters = list(train['cast'].apply(lambda x: [i['character'] for i in x] if x != {} else []).values)\n",
        "Counter([i for j in list_of_cast_characters for i in j]).most_common(15)"
      ],
      "execution_count": 0,
      "outputs": [
        {
          "output_type": "execute_result",
          "data": {
            "text/plain": [
              "[('', 818),\n",
              " ('Himself', 610),\n",
              " ('Herself', 155),\n",
              " ('Dancer', 144),\n",
              " ('Additional Voices (voice)', 100),\n",
              " ('Doctor', 77),\n",
              " ('Reporter', 70),\n",
              " ('Waitress', 69),\n",
              " ('Nurse', 65),\n",
              " ('Bartender', 55),\n",
              " ('Jack', 54),\n",
              " ('Debutante', 54),\n",
              " ('Security Guard', 50),\n",
              " ('Paul', 48),\n",
              " ('Frank', 44)]"
            ]
          },
          "metadata": {
            "tags": []
          },
          "execution_count": 38
        }
      ]
    },
    {
      "cell_type": "code",
      "metadata": {
        "id": "VZng4CPdBUiH",
        "colab_type": "code",
        "colab": {}
      },
      "source": [
        "train['num_crew'] = train['crew'].apply(lambda x: len(x) if x != {} else 0)\n",
        "train['genders_0_crew'] = train['crew'].apply(lambda x: sum([1 for i in x if i['gender'] == 0]))\n",
        "train['genders_1_crew'] = train['crew'].apply(lambda x: sum([1 for i in x if i['gender'] == 1]))\n",
        "train['genders_2_crew'] = train['crew'].apply(lambda x: sum([1 for i in x if i['gender'] == 2]))\n",
        "top_cast_characters = [m[0] for m in Counter([i for j in list_of_cast_characters for i in j]).most_common(15)]\n",
        "for g in top_cast_characters:\n",
        "    train['crew_character_' + g] = train['crew'].apply(lambda x: 1 if g in str(x) else 0)\n",
        "top_crew_jobs = [m[0] for m in Counter([i for j in list_of_crew_jobs for i in j]).most_common(15)]\n",
        "for j in top_crew_jobs:\n",
        "    train['jobs_' + j] = train['crew'].apply(lambda x: sum([1 for i in x if i['job'] == j]))\n",
        "top_crew_departments = [m[0] for m in Counter([i for j in list_of_crew_departments for i in j]).most_common(15)]\n",
        "for j in top_crew_departments:\n",
        "    train['departments_' + j] = train['crew'].apply(lambda x: sum([1 for i in x if i['department'] == j])) \n",
        "    \n",
        "test['num_crew'] = test['crew'].apply(lambda x: len(x) if x != {} else 0)\n",
        "test['genders_0_crew'] = test['crew'].apply(lambda x: sum([1 for i in x if i['gender'] == 0]))\n",
        "test['genders_1_crew'] = test['crew'].apply(lambda x: sum([1 for i in x if i['gender'] == 1]))\n",
        "test['genders_2_crew'] = test['crew'].apply(lambda x: sum([1 for i in x if i['gender'] == 2]))\n",
        "for g in top_cast_characters:\n",
        "    test['crew_character_' + g] = test['crew'].apply(lambda x: 1 if g in str(x) else 0)\n",
        "for j in top_crew_jobs:\n",
        "    test['jobs_' + j] = test['crew'].apply(lambda x: sum([1 for i in x if i['job'] == j]))\n",
        "for j in top_crew_departments:\n",
        "    test['departments_' + j] = test['crew'].apply(lambda x: sum([1 for i in x if i['department'] == j])) \n",
        "\n",
        "train = train.drop(['crew'], axis=1)\n",
        "test = test.drop(['crew'], axis=1)"
      ],
      "execution_count": 0,
      "outputs": []
    },
    {
      "cell_type": "code",
      "metadata": {
        "id": "jRpCD1mlBeql",
        "colab_type": "code",
        "colab": {}
      },
      "source": [
        "\n",
        "\n",
        "train['log_budget'] = np.log1p(train['budget'])\n",
        "train['log_revenue'] = np.log1p(train['revenue'])\n",
        "test['log_budget'] = np.log1p(test['budget'])"
      ],
      "execution_count": 0,
      "outputs": []
    },
    {
      "cell_type": "code",
      "metadata": {
        "id": "n2Qqy0iLBgq6",
        "colab_type": "code",
        "outputId": "bd2ef4e3-e924-4452-bd7c-7f05cd29afad",
        "colab": {
          "base_uri": "https://localhost:8080/",
          "height": 301
        }
      },
      "source": [
        "sns.scatterplot(x='log_budget',y='log_revenue',data=train)"
      ],
      "execution_count": 0,
      "outputs": [
        {
          "output_type": "execute_result",
          "data": {
            "text/plain": [
              "<matplotlib.axes._subplots.AxesSubplot at 0x7fe3ac26fa90>"
            ]
          },
          "metadata": {
            "tags": []
          },
          "execution_count": 41
        },
        {
          "output_type": "display_data",
          "data": {
            "image/png": "[encoded data removed]",
            "text/plain": [
              "<Figure size 432x288 with 1 Axes>"
            ]
          },
          "metadata": {
            "tags": []
          }
        }
      ]
    },
    {
      "cell_type": "code",
      "metadata": {
        "id": "x0wajIJdBrWq",
        "colab_type": "code",
        "colab": {}
      },
      "source": [
        "test.loc[test['release_date'].isnull() == True, 'release_date'] = '01/01/98'"
      ],
      "execution_count": 0,
      "outputs": []
    },
    {
      "cell_type": "code",
      "metadata": {
        "id": "U0RZXgB9Bszy",
        "colab_type": "code",
        "colab": {}
      },
      "source": [
        "\n",
        "\n",
        "\n",
        "def fix_date(x):\n",
        "    \"\"\"\n",
        "    Fixes dates which are in 20xx\n",
        "    \"\"\"\n",
        "    year = x.split('/')[2]\n",
        "    if int(year) <= 19:\n",
        "        return x[:-2] + '20' + year\n",
        "    else:\n",
        "        return x[:-2] + '19' + year\n",
        "train['release_date'] = train['release_date'].apply(lambda x: fix_date(x))\n",
        "test['release_date'] = test['release_date'].apply(lambda x: fix_date(x))\n",
        "train['release_date'] = pd.to_datetime(train['release_date'])\n",
        "test['release_date'] = pd.to_datetime(test['release_date'])"
      ],
      "execution_count": 0,
      "outputs": []
    },
    {
      "cell_type": "code",
      "metadata": {
        "id": "8cKPpz4DBxDw",
        "colab_type": "code",
        "colab": {}
      },
      "source": [
        "def process_date(df):\n",
        "    date_parts = [\"year\", \"weekday\", \"month\", 'weekofyear', 'day', 'quarter']\n",
        "    for part in date_parts:\n",
        "        part_col = 'release_date' + \"_\" + part\n",
        "        df[part_col] = getattr(df['release_date'].dt, part).astype(int)\n",
        "    \n",
        "    return df\n",
        "\n",
        "train = process_date(train)\n",
        "test = process_date(test)"
      ],
      "execution_count": 0,
      "outputs": []
    },
    {
      "cell_type": "code",
      "metadata": {
        "id": "naigu8wvCAJ8",
        "colab_type": "code",
        "colab": {}
      },
      "source": [
        "train = train.drop(['imdb_id', 'poster_path', 'release_date', 'status', 'log_revenue','cast','original_title','tagline','title','original_language','overview'], axis=1)\n",
        "test = test.drop(['imdb_id', 'poster_path', 'release_date', 'status','cast','original_title','tagline','title','original_language','overview'], axis=1)"
      ],
      "execution_count": 0,
      "outputs": []
    },
    {
      "cell_type": "code",
      "metadata": {
        "id": "K4gY3s_xCBVp",
        "colab_type": "code",
        "outputId": "6ce01c7e-deb6-4407-cb87-7ad0fc0cd292",
        "colab": {
          "base_uri": "https://localhost:8080/",
          "height": 221
        }
      },
      "source": [
        "\n",
        "\n",
        "\n",
        "for col in train.columns:\n",
        "    if train[col].nunique() == 1:\n",
        "        print(col)\n",
        "        train = train.drop([col], axis=1)\n",
        "        test = test.drop([col], axis=1)"
      ],
      "execution_count": 0,
      "outputs": [
        {
          "output_type": "stream",
          "text": [
            "language_\n",
            "crew_character_\n",
            "crew_character_Himself\n",
            "crew_character_Herself\n",
            "crew_character_Dancer\n",
            "crew_character_Additional Voices (voice)\n",
            "crew_character_Doctor\n",
            "crew_character_Reporter\n",
            "crew_character_Waitress\n",
            "crew_character_Bartender\n",
            "crew_character_Debutante\n",
            "crew_character_Security Guard\n"
          ],
          "name": "stdout"
        }
      ]
    },
    {
      "cell_type": "code",
      "metadata": {
        "id": "-zxTVj9xCE17",
        "colab_type": "code",
        "outputId": "8d80f725-2955-4ff6-fe74-b87b4b98e6e6",
        "colab": {
          "base_uri": "https://localhost:8080/",
          "height": 122
        }
      },
      "source": [
        "X=train.drop(['revenue','all_genres','id'], axis=1)\n",
        "y = np.log1p(train['revenue'])\n",
        "X.runtime.loc[X['runtime'].isnull()]=X.loc[X['runtime'].isnull()]['runtime'].apply(lambda x:100)"
      ],
      "execution_count": 0,
      "outputs": [
        {
          "output_type": "stream",
          "text": [
            "/usr/local/lib/python3.6/dist-packages/pandas/core/indexing.py:190: SettingWithCopyWarning: \n",
            "A value is trying to be set on a copy of a slice from a DataFrame\n",
            "\n",
            "See the caveats in the documentation: http://pandas.pydata.org/pandas-docs/stable/indexing.html#indexing-view-versus-copy\n",
            "  self._setitem_with_indexer(indexer, value)\n"
          ],
          "name": "stderr"
        }
      ]
    },
    {
      "cell_type": "code",
      "metadata": {
        "id": "jP6sEgwSCseR",
        "colab_type": "code",
        "outputId": "3d24853c-54cb-4106-9f0d-43111d0db2cd",
        "colab": {
          "base_uri": "https://localhost:8080/",
          "height": 68
        }
      },
      "source": [
        "!pip install xgboost"
      ],
      "execution_count": 0,
      "outputs": [
        {
          "output_type": "stream",
          "text": [
            "Requirement already satisfied: xgboost in /usr/local/lib/python3.6/dist-packages (0.82)\n",
            "Requirement already satisfied: scipy in /usr/local/lib/python3.6/dist-packages (from xgboost) (1.2.1)\n",
            "Requirement already satisfied: numpy in /usr/local/lib/python3.6/dist-packages (from xgboost) (1.16.3)\n"
          ],
          "name": "stdout"
        }
      ]
    },
    {
      "cell_type": "code",
      "metadata": {
        "id": "zJX24bydDBJK",
        "colab_type": "code",
        "colab": {}
      },
      "source": [
        "\n",
        "\n",
        "\n",
        "import xgboost as xgb"
      ],
      "execution_count": 0,
      "outputs": []
    },
    {
      "cell_type": "code",
      "metadata": {
        "id": "sQBu-OFlDjkf",
        "colab_type": "code",
        "colab": {}
      },
      "source": [
        "xg_reg = xgb.XGBRegressor(objective ='reg:linear', colsample_bytree = 0.3, learning_rate = 0.001,\n",
        "                max_depth = 10, alpha = 8, n_estimators = 100000)"
      ],
      "execution_count": 0,
      "outputs": []
    },
    {
      "cell_type": "code",
      "metadata": {
        "id": "CBd9LQcID_5M",
        "colab_type": "code",
        "outputId": "cb793abb-a0f4-48f1-8172-03ebd095c3ef",
        "colab": {
          "base_uri": "https://localhost:8080/",
          "height": 190
        }
      },
      "source": [
        "xg_reg.fit(X,y)"
      ],
      "execution_count": 0,
      "outputs": [
        {
          "output_type": "stream",
          "text": [
            "/usr/local/lib/python3.6/dist-packages/xgboost/core.py:587: FutureWarning: Series.base is deprecated and will be removed in a future version\n",
            "  if getattr(data, 'base', None) is not None and \\\n"
          ],
          "name": "stderr"
        },
        {
          "output_type": "execute_result",
          "data": {
            "text/plain": [
              "XGBRegressor(alpha=8, base_score=0.5, booster='gbtree', colsample_bylevel=1,\n",
              "       colsample_bytree=0.3, gamma=0, importance_type='gain',\n",
              "       learning_rate=0.001, max_delta_step=0, max_depth=10,\n",
              "       min_child_weight=1, missing=None, n_estimators=100000, n_jobs=1,\n",
              "       nthread=None, objective='reg:linear', random_state=0, reg_alpha=0,\n",
              "       reg_lambda=1, scale_pos_weight=1, seed=None, silent=True,\n",
              "       subsample=1)"
            ]
          },
          "metadata": {
            "tags": []
          },
          "execution_count": 51
        }
      ]
    },
    {
      "cell_type": "code",
      "metadata": {
        "id": "eOnnBn-ZEFlL",
        "colab_type": "code",
        "outputId": "fc1be12a-fe8f-4a6e-b952-d7ce84f5f5ef",
        "colab": {
          "base_uri": "https://localhost:8080/",
          "height": 122
        }
      },
      "source": [
        "\n",
        "\n",
        "X_test=test.drop(['all_genres','id'], axis=1)\n",
        "X_test.runtime.loc[X_test['runtime'].isnull()]=X_test.loc[X_test['runtime'].isnull()]['runtime'].apply(lambda x:100)"
      ],
      "execution_count": 0,
      "outputs": [
        {
          "output_type": "stream",
          "text": [
            "/usr/local/lib/python3.6/dist-packages/pandas/core/indexing.py:190: SettingWithCopyWarning: \n",
            "A value is trying to be set on a copy of a slice from a DataFrame\n",
            "\n",
            "See the caveats in the documentation: http://pandas.pydata.org/pandas-docs/stable/indexing.html#indexing-view-versus-copy\n",
            "  self._setitem_with_indexer(indexer, value)\n"
          ],
          "name": "stderr"
        }
      ]
    },
    {
      "cell_type": "code",
      "metadata": {
        "id": "fqd09scYQyl0",
        "colab_type": "code",
        "colab": {}
      },
      "source": [
        ""
      ],
      "execution_count": 0,
      "outputs": []
    },
    {
      "cell_type": "code",
      "metadata": {
        "id": "k8wgk6jaHe3f",
        "colab_type": "code",
        "colab": {}
      },
      "source": [
        "prediction=xg_reg.predict(X_test)"
      ],
      "execution_count": 0,
      "outputs": []
    },
    {
      "cell_type": "code",
      "metadata": {
        "id": "EVbrAr9WKrxi",
        "colab_type": "code",
        "colab": {}
      },
      "source": [
        "test['revenue']=prediction\n",
        "test['revenue']=np.expm1(test['revenue'])"
      ],
      "execution_count": 0,
      "outputs": []
    },
    {
      "cell_type": "code",
      "metadata": {
        "id": "q6NvSuXoKztK",
        "colab_type": "code",
        "outputId": "b76d06e7-f665-4cea-8f9e-2ec12b678eb6",
        "colab": {
          "base_uri": "https://localhost:8080/",
          "height": 308
        }
      },
      "source": [
        "sns.scatterplot(x='log_budget',y='revenue',data=test)"
      ],
      "execution_count": 0,
      "outputs": [
        {
          "output_type": "execute_result",
          "data": {
            "text/plain": [
              "<matplotlib.axes._subplots.AxesSubplot at 0x7fe3c5c5c470>"
            ]
          },
          "metadata": {
            "tags": []
          },
          "execution_count": 56
        },
        {
          "output_type": "display_data",
          "data": {
            "image/png": "[encoded data removed]",
            "text/plain": [
              "<Figure size 432x288 with 1 Axes>"
            ]
          },
          "metadata": {
            "tags": []
          }
        }
      ]
    },
    {
      "cell_type": "code",
      "metadata": {
        "id": "PGNwbwdVK5Tr",
        "colab_type": "code",
        "colab": {}
      },
      "source": [
        "df1=test[['revenue']]"
      ],
      "execution_count": 0,
      "outputs": []
    },
    {
      "cell_type": "code",
      "metadata": {
        "id": "b8RHjEoFK70m",
        "colab_type": "code",
        "outputId": "67c51ced-be3f-420b-d2c9-dd51296f88d7",
        "colab": {
          "base_uri": "https://localhost:8080/",
          "height": 139
        }
      },
      "source": [
        "df1['id']=df1.index+3001"
      ],
      "execution_count": 0,
      "outputs": [
        {
          "output_type": "stream",
          "text": [
            "/usr/local/lib/python3.6/dist-packages/ipykernel_launcher.py:1: SettingWithCopyWarning: \n",
            "A value is trying to be set on a copy of a slice from a DataFrame.\n",
            "Try using .loc[row_indexer,col_indexer] = value instead\n",
            "\n",
            "See the caveats in the documentation: http://pandas.pydata.org/pandas-docs/stable/indexing.html#indexing-view-versus-copy\n",
            "  \"\"\"Entry point for launching an IPython kernel.\n"
          ],
          "name": "stderr"
        }
      ]
    },
    {
      "cell_type": "code",
      "metadata": {
        "id": "j3Q8JrR0K_YQ",
        "colab_type": "code",
        "colab": {}
      },
      "source": [
        "df1.columns = ['id', 'revenue']"
      ],
      "execution_count": 0,
      "outputs": []
    },
    {
      "cell_type": "code",
      "metadata": {
        "id": "8wLavlhtLD4r",
        "colab_type": "code",
        "colab": {}
      },
      "source": [
        "df1.to_csv('sub_8.csv',index=False)"
      ],
      "execution_count": 0,
      "outputs": []
    },
    {
      "cell_type": "code",
      "metadata": {
        "id": "dBMFyMKBLJY3",
        "colab_type": "code",
        "outputId": "7531acb8-128c-4ae9-d1bb-609f604b61d5",
        "colab": {
          "base_uri": "https://localhost:8080/",
          "height": 68
        }
      },
      "source": [
        "!ls"
      ],
      "execution_count": 135,
      "outputs": [
        {
          "output_type": "stream",
          "text": [
            "catboost_info  sample_submission.csv  submission.csv  train.csv\n",
            "kaggle.json    sub_5.csv\t      test.csv\t      train.csv.zip\n",
            "sample_data    sub_8.csv\t      test.csv.zip\n"
          ],
          "name": "stdout"
        }
      ]
    },
    {
      "cell_type": "code",
      "metadata": {
        "id": "BVSveCMLLKiA",
        "colab_type": "code",
        "colab": {}
      },
      "source": [
        "from google.colab import files\n",
        "files.download(\"submission.csv\")"
      ],
      "execution_count": 0,
      "outputs": []
    },
    {
      "cell_type": "code",
      "metadata": {
        "id": "HUYVLHLrfm5L",
        "colab_type": "code",
        "colab": {}
      },
      "source": [
        "xgbmodel = xgb.XGBRegressor(max_depth=5, \n",
        "                            learning_rate=0.001, \n",
        "                            n_estimators=10000, \n",
        "                            objective='reg:linear', \n",
        "                            gamma=1.45,\n",
        "                            alpha=10,\n",
        "                            silent=True,\n",
        "                            subsample=0.8, \n",
        "                            colsample_bytree=0.3, \n",
        "                            colsample_bylevel=0.5)"
      ],
      "execution_count": 0,
      "outputs": []
    },
    {
      "cell_type": "code",
      "metadata": {
        "id": "BEh6NHvNftPv",
        "colab_type": "code",
        "outputId": "e32c2588-f260-45a3-d21d-51612cb5917f",
        "colab": {
          "base_uri": "https://localhost:8080/",
          "height": 190
        }
      },
      "source": [
        "xgbmodel.fit(X,y)"
      ],
      "execution_count": 0,
      "outputs": [
        {
          "output_type": "stream",
          "text": [
            "/usr/local/lib/python3.6/dist-packages/xgboost/core.py:587: FutureWarning: Series.base is deprecated and will be removed in a future version\n",
            "  if getattr(data, 'base', None) is not None and \\\n"
          ],
          "name": "stderr"
        },
        {
          "output_type": "execute_result",
          "data": {
            "text/plain": [
              "XGBRegressor(alpha=10, base_score=0.5, booster='gbtree',\n",
              "       colsample_bylevel=0.5, colsample_bytree=0.3, gamma=1.45,\n",
              "       importance_type='gain', learning_rate=0.001, max_delta_step=0,\n",
              "       max_depth=5, min_child_weight=1, missing=None, n_estimators=10000,\n",
              "       n_jobs=1, nthread=None, objective='reg:linear', random_state=0,\n",
              "       reg_alpha=0, reg_lambda=1, scale_pos_weight=1, seed=None,\n",
              "       silent=True, subsample=0.8)"
            ]
          },
          "metadata": {
            "tags": []
          },
          "execution_count": 184
        }
      ]
    },
    {
      "cell_type": "code",
      "metadata": {
        "id": "IHubWarKgCOg",
        "colab_type": "code",
        "outputId": "3c933dff-0ac4-42f2-cd63-1cf329570876",
        "colab": {
          "base_uri": "https://localhost:8080/",
          "height": 163
        }
      },
      "source": [
        "prediction=xgbmodel.predict(X_test)"
      ],
      "execution_count": 0,
      "outputs": [
        {
          "output_type": "error",
          "ename": "NameError",
          "evalue": "ignored",
          "traceback": [
            "\u001b[0;31m---------------------------------------------------------------------------\u001b[0m",
            "\u001b[0;31mNameError\u001b[0m                                 Traceback (most recent call last)",
            "\u001b[0;32m<ipython-input-52-6c2cc6e47bcd>\u001b[0m in \u001b[0;36m<module>\u001b[0;34m()\u001b[0m\n\u001b[0;32m----> 1\u001b[0;31m \u001b[0mprediction\u001b[0m\u001b[0;34m=\u001b[0m\u001b[0mxgbmodel\u001b[0m\u001b[0;34m.\u001b[0m\u001b[0mpredict\u001b[0m\u001b[0;34m(\u001b[0m\u001b[0mX_test\u001b[0m\u001b[0;34m)\u001b[0m\u001b[0;34m\u001b[0m\u001b[0;34m\u001b[0m\u001b[0m\n\u001b[0m",
            "\u001b[0;31mNameError\u001b[0m: name 'xgbmodel' is not defined"
          ]
        }
      ]
    },
    {
      "cell_type": "code",
      "metadata": {
        "id": "iJs23VZ4grZn",
        "colab_type": "code",
        "colab": {}
      },
      "source": [
        "test['revenue']=prediction\n",
        "test['revenue']=np.expm1(test['revenue'])"
      ],
      "execution_count": 0,
      "outputs": []
    },
    {
      "cell_type": "code",
      "metadata": {
        "id": "gJG0Fhdvg22H",
        "colab_type": "code",
        "colab": {}
      },
      "source": [
        "df1=test[['revenue']]\n",
        "df1['id']=df1.index+3001"
      ],
      "execution_count": 0,
      "outputs": []
    },
    {
      "cell_type": "code",
      "metadata": {
        "id": "n3VvdJyshBCY",
        "colab_type": "code",
        "colab": {}
      },
      "source": [
        "df1.columns = ['id', 'revenue']"
      ],
      "execution_count": 0,
      "outputs": []
    },
    {
      "cell_type": "code",
      "metadata": {
        "id": "iLoO7Az-hDuq",
        "colab_type": "code",
        "colab": {}
      },
      "source": [
        "df1.to_csv('sub_8.csv',index=False)"
      ],
      "execution_count": 0,
      "outputs": []
    },
    {
      "cell_type": "code",
      "metadata": {
        "id": "s3o55tXnomQs",
        "colab_type": "code",
        "outputId": "592cf4a9-1029-4536-92c9-6e64d8ae2ff1",
        "colab": {
          "base_uri": "https://localhost:8080/",
          "height": 34
        }
      },
      "source": [
        "from keras.models import Sequential\n",
        "from keras.layers import Dense, Activation, Flatten"
      ],
      "execution_count": 0,
      "outputs": [
        {
          "output_type": "stream",
          "text": [
            "Using TensorFlow backend.\n"
          ],
          "name": "stderr"
        }
      ]
    },
    {
      "cell_type": "code",
      "metadata": {
        "id": "JwpFMxZMov_M",
        "colab_type": "code",
        "colab": {}
      },
      "source": [
        "NN_model = Sequential()"
      ],
      "execution_count": 0,
      "outputs": []
    },
    {
      "cell_type": "code",
      "metadata": {
        "id": "jC5PWhOjo68g",
        "colab_type": "code",
        "colab": {}
      },
      "source": [
        "NN_model.add(Dense(10000, kernel_initializer='normal',input_dim = X.shape[1], activation='relu'))"
      ],
      "execution_count": 0,
      "outputs": []
    },
    {
      "cell_type": "code",
      "metadata": {
        "id": "xtcHPkr9pK1y",
        "colab_type": "code",
        "colab": {}
      },
      "source": [
        "NN_model.add(Dense(10000, kernel_initializer='normal',activation='relu'))\n",
        "NN_model.add(Dense(10000, kernel_initializer='normal',activation='relu'))\n",
        "NN_model.add(Dense(5000, kernel_initializer='normal',activation='relu'))\n",
        "NN_model.add(Dense(4000, kernel_initializer='normal',activation='relu'))\n",
        "NN_model.add(Dense(3000, kernel_initializer='normal',activation='relu'))\n",
        "NN_model.add(Dense(1000, kernel_initializer='normal',activation='relu'))\n",
        "NN_model.add(Dense(500, kernel_initializer='normal',activation='relu'))\n",
        "NN_model.add(Dense(250, kernel_initializer='normal',activation='relu'))\n",
        "NN_model.add(Dense(125, kernel_initializer='normal',activation='relu'))"
      ],
      "execution_count": 0,
      "outputs": []
    },
    {
      "cell_type": "code",
      "metadata": {
        "id": "7Eu7X5XspPJM",
        "colab_type": "code",
        "colab": {}
      },
      "source": [
        "NN_model.add(Dense(1, kernel_initializer='normal',activation='linear'))"
      ],
      "execution_count": 0,
      "outputs": []
    },
    {
      "cell_type": "code",
      "metadata": {
        "id": "RZ-KKiDmpSYU",
        "colab_type": "code",
        "outputId": "41f42fcf-c643-4519-f3da-eff5d81b7cba",
        "colab": {
          "base_uri": "https://localhost:8080/",
          "height": 510
        }
      },
      "source": [
        "NN_model.compile(loss='mean_absolute_error', optimizer='adam', metrics=['mean_absolute_error'])\n",
        "NN_model.summary()"
      ],
      "execution_count": 0,
      "outputs": [
        {
          "output_type": "stream",
          "text": [
            "_________________________________________________________________\n",
            "Layer (type)                 Output Shape              Param #   \n",
            "=================================================================\n",
            "dense_16 (Dense)             (None, 10000)             1910000   \n",
            "_________________________________________________________________\n",
            "dense_17 (Dense)             (None, 10000)             100010000 \n",
            "_________________________________________________________________\n",
            "dense_18 (Dense)             (None, 10000)             100010000 \n",
            "_________________________________________________________________\n",
            "dense_19 (Dense)             (None, 5000)              50005000  \n",
            "_________________________________________________________________\n",
            "dense_20 (Dense)             (None, 4000)              20004000  \n",
            "_________________________________________________________________\n",
            "dense_21 (Dense)             (None, 3000)              12003000  \n",
            "_________________________________________________________________\n",
            "dense_22 (Dense)             (None, 1000)              3001000   \n",
            "_________________________________________________________________\n",
            "dense_23 (Dense)             (None, 500)               500500    \n",
            "_________________________________________________________________\n",
            "dense_24 (Dense)             (None, 250)               125250    \n",
            "_________________________________________________________________\n",
            "dense_25 (Dense)             (None, 125)               31375     \n",
            "_________________________________________________________________\n",
            "dense_26 (Dense)             (None, 1)                 126       \n",
            "=================================================================\n",
            "Total params: 287,600,251\n",
            "Trainable params: 287,600,251\n",
            "Non-trainable params: 0\n",
            "_________________________________________________________________\n"
          ],
          "name": "stdout"
        }
      ]
    },
    {
      "cell_type": "code",
      "metadata": {
        "id": "UBRQ8H0opmYT",
        "colab_type": "code",
        "outputId": "da8f6f3e-75ef-4def-85b0-d296812ddd2f",
        "colab": {
          "base_uri": "https://localhost:8080/",
          "height": 16578
        }
      },
      "source": [
        "NN_model.fit(X, y, epochs=500, batch_size=32, validation_split = 0.2)"
      ],
      "execution_count": 0,
      "outputs": [
        {
          "output_type": "stream",
          "text": [
            "Train on 2400 samples, validate on 600 samples\n",
            "Epoch 1/500\n",
            "2400/2400 [==============================] - 34s 14ms/step - loss: 232945328.2949 - mean_absolute_error: 232945328.2949 - val_loss: 363002.1475 - val_mean_absolute_error: 363002.1475\n",
            "Epoch 2/500\n",
            "2400/2400 [==============================] - 28s 12ms/step - loss: 570143.1714 - mean_absolute_error: 570143.1714 - val_loss: 408132.2783 - val_mean_absolute_error: 408132.2783\n",
            "Epoch 3/500\n",
            "2400/2400 [==============================] - 28s 12ms/step - loss: 86414.0522 - mean_absolute_error: 86414.0522 - val_loss: 44033.5476 - val_mean_absolute_error: 44033.5476\n",
            "Epoch 4/500\n",
            "2400/2400 [==============================] - 28s 12ms/step - loss: 35043.9854 - mean_absolute_error: 35043.9854 - val_loss: 44288.0384 - val_mean_absolute_error: 44288.0384\n",
            "Epoch 5/500\n",
            "2400/2400 [==============================] - 28s 12ms/step - loss: 63377.1269 - mean_absolute_error: 63377.1269 - val_loss: 57381.3059 - val_mean_absolute_error: 57381.3059\n",
            "Epoch 6/500\n",
            "2400/2400 [==============================] - 28s 12ms/step - loss: 53712.2311 - mean_absolute_error: 53712.2311 - val_loss: 174789.3546 - val_mean_absolute_error: 174789.3546\n",
            "Epoch 7/500\n",
            "2400/2400 [==============================] - 28s 12ms/step - loss: 72105.8253 - mean_absolute_error: 72105.8253 - val_loss: 36267.4011 - val_mean_absolute_error: 36267.4011\n",
            "Epoch 8/500\n",
            "2400/2400 [==============================] - 28s 12ms/step - loss: 33948.1353 - mean_absolute_error: 33948.1353 - val_loss: 22743.0386 - val_mean_absolute_error: 22743.0386\n",
            "Epoch 9/500\n",
            "2400/2400 [==============================] - 28s 12ms/step - loss: 22545.2339 - mean_absolute_error: 22545.2339 - val_loss: 17546.9460 - val_mean_absolute_error: 17546.9460\n",
            "Epoch 10/500\n",
            "2400/2400 [==============================] - 28s 12ms/step - loss: 17210.1716 - mean_absolute_error: 17210.1716 - val_loss: 6244.2628 - val_mean_absolute_error: 6244.2628\n",
            "Epoch 11/500\n",
            "2400/2400 [==============================] - 28s 12ms/step - loss: 27843.3640 - mean_absolute_error: 27843.3640 - val_loss: 33445.0550 - val_mean_absolute_error: 33445.0550\n",
            "Epoch 12/500\n",
            "2400/2400 [==============================] - 28s 12ms/step - loss: 28925.1481 - mean_absolute_error: 28925.1481 - val_loss: 53800.2586 - val_mean_absolute_error: 53800.2586\n",
            "Epoch 13/500\n",
            "2400/2400 [==============================] - 28s 12ms/step - loss: 27347.9633 - mean_absolute_error: 27347.9633 - val_loss: 94251.9957 - val_mean_absolute_error: 94251.9957\n",
            "Epoch 14/500\n",
            "2400/2400 [==============================] - 28s 12ms/step - loss: 44582.6329 - mean_absolute_error: 44582.6329 - val_loss: 19698.1511 - val_mean_absolute_error: 19698.1511\n",
            "Epoch 15/500\n",
            "2400/2400 [==============================] - 28s 12ms/step - loss: 20676.7528 - mean_absolute_error: 20676.7528 - val_loss: 17089.0156 - val_mean_absolute_error: 17089.0156\n",
            "Epoch 16/500\n",
            "2400/2400 [==============================] - 28s 12ms/step - loss: 18234.1121 - mean_absolute_error: 18234.1121 - val_loss: 5615.7247 - val_mean_absolute_error: 5615.7247\n",
            "Epoch 17/500\n",
            "2400/2400 [==============================] - 28s 12ms/step - loss: 19832.3889 - mean_absolute_error: 19832.3889 - val_loss: 42203.8890 - val_mean_absolute_error: 42203.8890\n",
            "Epoch 18/500\n",
            "2400/2400 [==============================] - 28s 12ms/step - loss: 56309.1123 - mean_absolute_error: 56309.1123 - val_loss: 2194.2862 - val_mean_absolute_error: 2194.2862\n",
            "Epoch 19/500\n",
            "2400/2400 [==============================] - 28s 12ms/step - loss: 65866.6530 - mean_absolute_error: 65866.6530 - val_loss: 264155.8427 - val_mean_absolute_error: 264155.8427\n",
            "Epoch 20/500\n",
            "2400/2400 [==============================] - 28s 12ms/step - loss: 187000.3143 - mean_absolute_error: 187000.3143 - val_loss: 67215.9817 - val_mean_absolute_error: 67215.9817\n",
            "Epoch 21/500\n",
            "2400/2400 [==============================] - 28s 12ms/step - loss: 61138.9434 - mean_absolute_error: 61138.9434 - val_loss: 26794.5612 - val_mean_absolute_error: 26794.5612\n",
            "Epoch 22/500\n",
            "2400/2400 [==============================] - 28s 12ms/step - loss: 12459.9945 - mean_absolute_error: 12459.9945 - val_loss: 9506.1326 - val_mean_absolute_error: 9506.1326\n",
            "Epoch 23/500\n",
            "2400/2400 [==============================] - 28s 12ms/step - loss: 6381.8129 - mean_absolute_error: 6381.8129 - val_loss: 7432.4290 - val_mean_absolute_error: 7432.4290\n",
            "Epoch 24/500\n",
            "2400/2400 [==============================] - 28s 12ms/step - loss: 7193.3814 - mean_absolute_error: 7193.3814 - val_loss: 2027.9055 - val_mean_absolute_error: 2027.9055\n",
            "Epoch 25/500\n",
            "2400/2400 [==============================] - 28s 12ms/step - loss: 18349.2004 - mean_absolute_error: 18349.2004 - val_loss: 928.4614 - val_mean_absolute_error: 928.4614\n",
            "Epoch 26/500\n",
            "2400/2400 [==============================] - 28s 12ms/step - loss: 2660.4746 - mean_absolute_error: 2660.4746 - val_loss: 2283.6228 - val_mean_absolute_error: 2283.6228\n",
            "Epoch 27/500\n",
            "2400/2400 [==============================] - 28s 12ms/step - loss: 1607.9589 - mean_absolute_error: 1607.9589 - val_loss: 573.0672 - val_mean_absolute_error: 573.0672\n",
            "Epoch 28/500\n",
            "2400/2400 [==============================] - 28s 12ms/step - loss: 664.2360 - mean_absolute_error: 664.2360 - val_loss: 933.8390 - val_mean_absolute_error: 933.8390\n",
            "Epoch 29/500\n",
            "2400/2400 [==============================] - 28s 12ms/step - loss: 455.2524 - mean_absolute_error: 455.2524 - val_loss: 707.4757 - val_mean_absolute_error: 707.4757\n",
            "Epoch 30/500\n",
            "2400/2400 [==============================] - 28s 12ms/step - loss: 403.7977 - mean_absolute_error: 403.7977 - val_loss: 263.6571 - val_mean_absolute_error: 263.6571\n",
            "Epoch 31/500\n",
            "2400/2400 [==============================] - 28s 12ms/step - loss: 1174.1826 - mean_absolute_error: 1174.1826 - val_loss: 2938.7589 - val_mean_absolute_error: 2938.7589\n",
            "Epoch 32/500\n",
            "2400/2400 [==============================] - 28s 12ms/step - loss: 716.3968 - mean_absolute_error: 716.3968 - val_loss: 233.8424 - val_mean_absolute_error: 233.8424\n",
            "Epoch 33/500\n",
            "2400/2400 [==============================] - 28s 12ms/step - loss: 791.5358 - mean_absolute_error: 791.5358 - val_loss: 118.5445 - val_mean_absolute_error: 118.5445\n",
            "Epoch 34/500\n",
            "2400/2400 [==============================] - 28s 12ms/step - loss: 978.4881 - mean_absolute_error: 978.4881 - val_loss: 4785.2575 - val_mean_absolute_error: 4785.2575\n",
            "Epoch 35/500\n",
            "2400/2400 [==============================] - 28s 12ms/step - loss: 2576.9274 - mean_absolute_error: 2576.9274 - val_loss: 771.3010 - val_mean_absolute_error: 771.3010\n",
            "Epoch 36/500\n",
            "2400/2400 [==============================] - 28s 12ms/step - loss: 820.3615 - mean_absolute_error: 820.3615 - val_loss: 61.6665 - val_mean_absolute_error: 61.6665\n",
            "Epoch 37/500\n",
            "2400/2400 [==============================] - 28s 12ms/step - loss: 2707.5235 - mean_absolute_error: 2707.5235 - val_loss: 4061.7335 - val_mean_absolute_error: 4061.7335\n",
            "Epoch 38/500\n",
            "2400/2400 [==============================] - 28s 12ms/step - loss: 3076.1130 - mean_absolute_error: 3076.1130 - val_loss: 2769.1697 - val_mean_absolute_error: 2769.1697\n",
            "Epoch 39/500\n",
            "2400/2400 [==============================] - 28s 12ms/step - loss: 1156.7057 - mean_absolute_error: 1156.7057 - val_loss: 874.1227 - val_mean_absolute_error: 874.1227\n",
            "Epoch 40/500\n",
            "2400/2400 [==============================] - 28s 12ms/step - loss: 772.3982 - mean_absolute_error: 772.3982 - val_loss: 829.9986 - val_mean_absolute_error: 829.9986\n",
            "Epoch 41/500\n",
            "2400/2400 [==============================] - 28s 12ms/step - loss: 491.8431 - mean_absolute_error: 491.8431 - val_loss: 408.2404 - val_mean_absolute_error: 408.2404\n",
            "Epoch 42/500\n",
            "2400/2400 [==============================] - 28s 12ms/step - loss: 467.9344 - mean_absolute_error: 467.9344 - val_loss: 507.8754 - val_mean_absolute_error: 507.8754\n",
            "Epoch 43/500\n",
            "2400/2400 [==============================] - 28s 12ms/step - loss: 3877.5506 - mean_absolute_error: 3877.5506 - val_loss: 64.1923 - val_mean_absolute_error: 64.1923\n",
            "Epoch 44/500\n",
            "2400/2400 [==============================] - 28s 12ms/step - loss: 3820.9333 - mean_absolute_error: 3820.9333 - val_loss: 5887.3741 - val_mean_absolute_error: 5887.3741\n",
            "Epoch 45/500\n",
            "2400/2400 [==============================] - 28s 12ms/step - loss: 7864.6211 - mean_absolute_error: 7864.6211 - val_loss: 3991.6577 - val_mean_absolute_error: 3991.6577\n",
            "Epoch 46/500\n",
            "2400/2400 [==============================] - 28s 12ms/step - loss: 11053.7156 - mean_absolute_error: 11053.7156 - val_loss: 4369.2217 - val_mean_absolute_error: 4369.2217\n",
            "Epoch 47/500\n",
            "2400/2400 [==============================] - 28s 12ms/step - loss: 4748.3596 - mean_absolute_error: 4748.3596 - val_loss: 1951.0612 - val_mean_absolute_error: 1951.0612\n",
            "Epoch 48/500\n",
            "2400/2400 [==============================] - 28s 12ms/step - loss: 4747.8350 - mean_absolute_error: 4747.8350 - val_loss: 11343.7688 - val_mean_absolute_error: 11343.7688\n",
            "Epoch 49/500\n",
            "2400/2400 [==============================] - 28s 12ms/step - loss: 4099.3688 - mean_absolute_error: 4099.3688 - val_loss: 2421.1006 - val_mean_absolute_error: 2421.1006\n",
            "Epoch 50/500\n",
            "2400/2400 [==============================] - 28s 12ms/step - loss: 2936.2825 - mean_absolute_error: 2936.2825 - val_loss: 780.4030 - val_mean_absolute_error: 780.4030\n",
            "Epoch 51/500\n",
            "2400/2400 [==============================] - 28s 12ms/step - loss: 1519.2339 - mean_absolute_error: 1519.2339 - val_loss: 1266.3442 - val_mean_absolute_error: 1266.3442\n",
            "Epoch 52/500\n",
            "2400/2400 [==============================] - 28s 12ms/step - loss: 868.3023 - mean_absolute_error: 868.3023 - val_loss: 1084.2548 - val_mean_absolute_error: 1084.2548\n",
            "Epoch 53/500\n",
            "2400/2400 [==============================] - 28s 12ms/step - loss: 785.2658 - mean_absolute_error: 785.2658 - val_loss: 299.0054 - val_mean_absolute_error: 299.0054\n",
            "Epoch 54/500\n",
            "2400/2400 [==============================] - 28s 12ms/step - loss: 3418.3053 - mean_absolute_error: 3418.3053 - val_loss: 3429.2565 - val_mean_absolute_error: 3429.2565\n",
            "Epoch 55/500\n",
            "2400/2400 [==============================] - 28s 12ms/step - loss: 6347.3457 - mean_absolute_error: 6347.3457 - val_loss: 3796.4127 - val_mean_absolute_error: 3796.4127\n",
            "Epoch 56/500\n",
            "2400/2400 [==============================] - 28s 12ms/step - loss: 3103.8045 - mean_absolute_error: 3103.8045 - val_loss: 3232.4310 - val_mean_absolute_error: 3232.4310\n",
            "Epoch 57/500\n",
            "2400/2400 [==============================] - 28s 12ms/step - loss: 2992.6851 - mean_absolute_error: 2992.6851 - val_loss: 2384.9453 - val_mean_absolute_error: 2384.9453\n",
            "Epoch 58/500\n",
            "2400/2400 [==============================] - 28s 12ms/step - loss: 1412518.8560 - mean_absolute_error: 1412518.8560 - val_loss: 2397806.1350 - val_mean_absolute_error: 2397806.1350\n",
            "Epoch 59/500\n",
            "2400/2400 [==============================] - 28s 12ms/step - loss: 254025.4969 - mean_absolute_error: 254025.4969 - val_loss: 3607.0114 - val_mean_absolute_error: 3607.0114\n",
            "Epoch 60/500\n",
            "2400/2400 [==============================] - 28s 12ms/step - loss: 8363.2573 - mean_absolute_error: 8363.2573 - val_loss: 5628.3519 - val_mean_absolute_error: 5628.3519\n",
            "Epoch 61/500\n",
            "2400/2400 [==============================] - 28s 12ms/step - loss: 7432.3354 - mean_absolute_error: 7432.3354 - val_loss: 5937.4294 - val_mean_absolute_error: 5937.4294\n",
            "Epoch 62/500\n",
            "2400/2400 [==============================] - 28s 12ms/step - loss: 16562.7434 - mean_absolute_error: 16562.7434 - val_loss: 5655.1874 - val_mean_absolute_error: 5655.1874\n",
            "Epoch 63/500\n",
            "2400/2400 [==============================] - 28s 12ms/step - loss: 2719.9982 - mean_absolute_error: 2719.9982 - val_loss: 2208.2322 - val_mean_absolute_error: 2208.2322\n",
            "Epoch 64/500\n",
            "2400/2400 [==============================] - 28s 12ms/step - loss: 223.4860 - mean_absolute_error: 223.4860 - val_loss: 326.0301 - val_mean_absolute_error: 326.0301\n",
            "Epoch 65/500\n",
            "2400/2400 [==============================] - 28s 12ms/step - loss: 227.7481 - mean_absolute_error: 227.7481 - val_loss: 21.1265 - val_mean_absolute_error: 21.1265\n",
            "Epoch 66/500\n",
            "2400/2400 [==============================] - 28s 12ms/step - loss: 47.8077 - mean_absolute_error: 47.8077 - val_loss: 11.8199 - val_mean_absolute_error: 11.8199\n",
            "Epoch 67/500\n",
            "2400/2400 [==============================] - 28s 12ms/step - loss: 29.5846 - mean_absolute_error: 29.5846 - val_loss: 20.0921 - val_mean_absolute_error: 20.0921\n",
            "Epoch 68/500\n",
            "2400/2400 [==============================] - 28s 12ms/step - loss: 48.2035 - mean_absolute_error: 48.2035 - val_loss: 29.8829 - val_mean_absolute_error: 29.8829\n",
            "Epoch 69/500\n",
            "2400/2400 [==============================] - 28s 12ms/step - loss: 33.6925 - mean_absolute_error: 33.6925 - val_loss: 28.7822 - val_mean_absolute_error: 28.7822\n",
            "Epoch 70/500\n",
            "2400/2400 [==============================] - 28s 12ms/step - loss: 79.9603 - mean_absolute_error: 79.9603 - val_loss: 49.5325 - val_mean_absolute_error: 49.5325\n",
            "Epoch 71/500\n",
            "2400/2400 [==============================] - 28s 12ms/step - loss: 74.6250 - mean_absolute_error: 74.6250 - val_loss: 186.9635 - val_mean_absolute_error: 186.9635\n",
            "Epoch 72/500\n",
            "2400/2400 [==============================] - 28s 12ms/step - loss: 143.0983 - mean_absolute_error: 143.0983 - val_loss: 115.7951 - val_mean_absolute_error: 115.7951\n",
            "Epoch 73/500\n",
            "2400/2400 [==============================] - 28s 12ms/step - loss: 347.7785 - mean_absolute_error: 347.7785 - val_loss: 61.8886 - val_mean_absolute_error: 61.8886\n",
            "Epoch 74/500\n",
            "2400/2400 [==============================] - 28s 12ms/step - loss: 277.8782 - mean_absolute_error: 277.8782 - val_loss: 12.6136 - val_mean_absolute_error: 12.6136\n",
            "Epoch 75/500\n",
            "2400/2400 [==============================] - 28s 12ms/step - loss: 18.5611 - mean_absolute_error: 18.5611 - val_loss: 2.2500 - val_mean_absolute_error: 2.2500\n",
            "Epoch 76/500\n",
            "2400/2400 [==============================] - 28s 12ms/step - loss: 123.0532 - mean_absolute_error: 123.0532 - val_loss: 2.0533 - val_mean_absolute_error: 2.0533\n",
            "Epoch 77/500\n",
            "2400/2400 [==============================] - 28s 12ms/step - loss: 62.7818 - mean_absolute_error: 62.7818 - val_loss: 1.9743 - val_mean_absolute_error: 1.9743\n",
            "Epoch 78/500\n",
            "2400/2400 [==============================] - 28s 12ms/step - loss: 2631.4932 - mean_absolute_error: 2631.4932 - val_loss: 48682.2819 - val_mean_absolute_error: 48682.2819\n",
            "Epoch 79/500\n",
            "2400/2400 [==============================] - 28s 12ms/step - loss: 24372.3267 - mean_absolute_error: 24372.3267 - val_loss: 2.0888 - val_mean_absolute_error: 2.0888\n",
            "Epoch 80/500\n",
            "2400/2400 [==============================] - 28s 12ms/step - loss: 961932.8120 - mean_absolute_error: 961932.8120 - val_loss: 133206.7276 - val_mean_absolute_error: 133206.7276\n",
            "Epoch 81/500\n",
            "2400/2400 [==============================] - 28s 12ms/step - loss: 16801.8630 - mean_absolute_error: 16801.8630 - val_loss: 3910.0134 - val_mean_absolute_error: 3910.0134\n",
            "Epoch 82/500\n",
            "2400/2400 [==============================] - 28s 12ms/step - loss: 1839.8091 - mean_absolute_error: 1839.8091 - val_loss: 566.3469 - val_mean_absolute_error: 566.3469\n",
            "Epoch 83/500\n",
            "2400/2400 [==============================] - 28s 12ms/step - loss: 416.4925 - mean_absolute_error: 416.4925 - val_loss: 546.7122 - val_mean_absolute_error: 546.7122\n",
            "Epoch 84/500\n",
            "2400/2400 [==============================] - 28s 12ms/step - loss: 252.8138 - mean_absolute_error: 252.8138 - val_loss: 302.7914 - val_mean_absolute_error: 302.7914\n",
            "Epoch 85/500\n",
            "2400/2400 [==============================] - 28s 12ms/step - loss: 101.6096 - mean_absolute_error: 101.6096 - val_loss: 26.5061 - val_mean_absolute_error: 26.5061\n",
            "Epoch 86/500\n",
            "2400/2400 [==============================] - 28s 12ms/step - loss: 85.9675 - mean_absolute_error: 85.9675 - val_loss: 456.7476 - val_mean_absolute_error: 456.7476\n",
            "Epoch 87/500\n",
            "2400/2400 [==============================] - 28s 12ms/step - loss: 82.3511 - mean_absolute_error: 82.3511 - val_loss: 84.5151 - val_mean_absolute_error: 84.5151\n",
            "Epoch 88/500\n",
            "2400/2400 [==============================] - 28s 12ms/step - loss: 72.9941 - mean_absolute_error: 72.9941 - val_loss: 8.4652 - val_mean_absolute_error: 8.4652\n",
            "Epoch 89/500\n",
            "2400/2400 [==============================] - 28s 12ms/step - loss: 177.0580 - mean_absolute_error: 177.0580 - val_loss: 468.2975 - val_mean_absolute_error: 468.2975\n",
            "Epoch 90/500\n",
            "2400/2400 [==============================] - 28s 12ms/step - loss: 738.9126 - mean_absolute_error: 738.9126 - val_loss: 115.0565 - val_mean_absolute_error: 115.0565\n",
            "Epoch 91/500\n",
            "2400/2400 [==============================] - 28s 12ms/step - loss: 1431.0179 - mean_absolute_error: 1431.0179 - val_loss: 241.6802 - val_mean_absolute_error: 241.6802\n",
            "Epoch 92/500\n",
            "2400/2400 [==============================] - 28s 12ms/step - loss: 458.8600 - mean_absolute_error: 458.8600 - val_loss: 361.8502 - val_mean_absolute_error: 361.8502\n",
            "Epoch 93/500\n",
            "2400/2400 [==============================] - 28s 11ms/step - loss: 96.1736 - mean_absolute_error: 96.1736 - val_loss: 1.9566 - val_mean_absolute_error: 1.9566\n",
            "Epoch 94/500\n",
            "2400/2400 [==============================] - 28s 12ms/step - loss: 9.8384 - mean_absolute_error: 9.8384 - val_loss: 1.8592 - val_mean_absolute_error: 1.8592\n",
            "Epoch 95/500\n",
            "2400/2400 [==============================] - 28s 11ms/step - loss: 1.9391 - mean_absolute_error: 1.9391 - val_loss: 1.8141 - val_mean_absolute_error: 1.8141\n",
            "Epoch 96/500\n",
            "2400/2400 [==============================] - 28s 12ms/step - loss: 1.9458 - mean_absolute_error: 1.9458 - val_loss: 1.8339 - val_mean_absolute_error: 1.8339\n",
            "Epoch 97/500\n",
            "2400/2400 [==============================] - 28s 12ms/step - loss: 1.9397 - mean_absolute_error: 1.9397 - val_loss: 1.8478 - val_mean_absolute_error: 1.8478\n",
            "Epoch 98/500\n",
            "2400/2400 [==============================] - 28s 12ms/step - loss: 752.2523 - mean_absolute_error: 752.2523 - val_loss: 835.1436 - val_mean_absolute_error: 835.1436\n",
            "Epoch 99/500\n",
            "2400/2400 [==============================] - 28s 12ms/step - loss: 5375.5176 - mean_absolute_error: 5375.5176 - val_loss: 1742.7201 - val_mean_absolute_error: 1742.7201\n",
            "Epoch 100/500\n",
            "2400/2400 [==============================] - 28s 12ms/step - loss: 706.3053 - mean_absolute_error: 706.3053 - val_loss: 332.7753 - val_mean_absolute_error: 332.7753\n",
            "Epoch 101/500\n",
            "2400/2400 [==============================] - 28s 12ms/step - loss: 24.2033 - mean_absolute_error: 24.2033 - val_loss: 1.8078 - val_mean_absolute_error: 1.8078\n",
            "Epoch 102/500\n",
            "2400/2400 [==============================] - 28s 12ms/step - loss: 2.3871 - mean_absolute_error: 2.3871 - val_loss: 1.9711 - val_mean_absolute_error: 1.9711\n",
            "Epoch 103/500\n",
            "2400/2400 [==============================] - 28s 12ms/step - loss: 14.1277 - mean_absolute_error: 14.1277 - val_loss: 1.8764 - val_mean_absolute_error: 1.8764\n",
            "Epoch 104/500\n",
            "2400/2400 [==============================] - 28s 12ms/step - loss: 1.9007 - mean_absolute_error: 1.9007 - val_loss: 1.8496 - val_mean_absolute_error: 1.8496\n",
            "Epoch 105/500\n",
            "2400/2400 [==============================] - 28s 12ms/step - loss: 2.8995 - mean_absolute_error: 2.8995 - val_loss: 1.8893 - val_mean_absolute_error: 1.8893\n",
            "Epoch 106/500\n",
            "2400/2400 [==============================] - 28s 12ms/step - loss: 229.3008 - mean_absolute_error: 229.3008 - val_loss: 1.7809 - val_mean_absolute_error: 1.7809\n",
            "Epoch 107/500\n",
            "2400/2400 [==============================] - 28s 12ms/step - loss: 1.9002 - mean_absolute_error: 1.9002 - val_loss: 1.8152 - val_mean_absolute_error: 1.8152\n",
            "Epoch 108/500\n",
            "2400/2400 [==============================] - 28s 12ms/step - loss: 23.1806 - mean_absolute_error: 23.1806 - val_loss: 1.9360 - val_mean_absolute_error: 1.9360\n",
            "Epoch 109/500\n",
            "2400/2400 [==============================] - 28s 12ms/step - loss: 3.0426 - mean_absolute_error: 3.0426 - val_loss: 1.8024 - val_mean_absolute_error: 1.8024\n",
            "Epoch 110/500\n",
            "2400/2400 [==============================] - 28s 12ms/step - loss: 1.9838 - mean_absolute_error: 1.9838 - val_loss: 1.8294 - val_mean_absolute_error: 1.8294\n",
            "Epoch 111/500\n",
            "2400/2400 [==============================] - 28s 12ms/step - loss: 27.0880 - mean_absolute_error: 27.0880 - val_loss: 1.8359 - val_mean_absolute_error: 1.8359\n",
            "Epoch 112/500\n",
            "2400/2400 [==============================] - 28s 12ms/step - loss: 2.3817 - mean_absolute_error: 2.3817 - val_loss: 1.7917 - val_mean_absolute_error: 1.7917\n",
            "Epoch 113/500\n",
            "2400/2400 [==============================] - 28s 12ms/step - loss: 1.8755 - mean_absolute_error: 1.8755 - val_loss: 1.8466 - val_mean_absolute_error: 1.8466\n",
            "Epoch 114/500\n",
            "2400/2400 [==============================] - 28s 12ms/step - loss: 5.6105 - mean_absolute_error: 5.6105 - val_loss: 1.8175 - val_mean_absolute_error: 1.8175\n",
            "Epoch 115/500\n",
            "2400/2400 [==============================] - 28s 12ms/step - loss: 14.8090 - mean_absolute_error: 14.8090 - val_loss: 1.7700 - val_mean_absolute_error: 1.7700\n",
            "Epoch 116/500\n",
            "2400/2400 [==============================] - 28s 12ms/step - loss: 140.7264 - mean_absolute_error: 140.7264 - val_loss: 1.8402 - val_mean_absolute_error: 1.8402\n",
            "Epoch 117/500\n",
            "2400/2400 [==============================] - 28s 12ms/step - loss: 20.3961 - mean_absolute_error: 20.3961 - val_loss: 915.6746 - val_mean_absolute_error: 915.6746\n",
            "Epoch 118/500\n",
            "2400/2400 [==============================] - 28s 12ms/step - loss: 13.8248 - mean_absolute_error: 13.8248 - val_loss: 1.8472 - val_mean_absolute_error: 1.8472\n",
            "Epoch 119/500\n",
            "2400/2400 [==============================] - 28s 12ms/step - loss: 1.8472 - mean_absolute_error: 1.8472 - val_loss: 1.7596 - val_mean_absolute_error: 1.7596\n",
            "Epoch 120/500\n",
            "2400/2400 [==============================] - 28s 12ms/step - loss: 1.8487 - mean_absolute_error: 1.8487 - val_loss: 1.7974 - val_mean_absolute_error: 1.7974\n",
            "Epoch 121/500\n",
            "2400/2400 [==============================] - 28s 12ms/step - loss: 1.8516 - mean_absolute_error: 1.8516 - val_loss: 1.9507 - val_mean_absolute_error: 1.9507\n",
            "Epoch 122/500\n",
            "2400/2400 [==============================] - 28s 12ms/step - loss: 23.1397 - mean_absolute_error: 23.1397 - val_loss: 1.8081 - val_mean_absolute_error: 1.8081\n",
            "Epoch 123/500\n",
            "2400/2400 [==============================] - 28s 12ms/step - loss: 1.8634 - mean_absolute_error: 1.8634 - val_loss: 1.7520 - val_mean_absolute_error: 1.7520\n",
            "Epoch 124/500\n",
            "2400/2400 [==============================] - 28s 12ms/step - loss: 31.0783 - mean_absolute_error: 31.0783 - val_loss: 1.9226 - val_mean_absolute_error: 1.9226\n",
            "Epoch 125/500\n",
            "2400/2400 [==============================] - 28s 12ms/step - loss: 1.9203 - mean_absolute_error: 1.9203 - val_loss: 1.7781 - val_mean_absolute_error: 1.7781\n",
            "Epoch 126/500\n",
            "2400/2400 [==============================] - 28s 12ms/step - loss: 1.8571 - mean_absolute_error: 1.8571 - val_loss: 1.8042 - val_mean_absolute_error: 1.8042\n",
            "Epoch 127/500\n",
            "2400/2400 [==============================] - 28s 12ms/step - loss: 1.8362 - mean_absolute_error: 1.8362 - val_loss: 1.7856 - val_mean_absolute_error: 1.7856\n",
            "Epoch 128/500\n",
            "2400/2400 [==============================] - 28s 12ms/step - loss: 1.8489 - mean_absolute_error: 1.8489 - val_loss: 1.7340 - val_mean_absolute_error: 1.7340\n",
            "Epoch 129/500\n",
            "2400/2400 [==============================] - 28s 12ms/step - loss: 1.8360 - mean_absolute_error: 1.8360 - val_loss: 1.7246 - val_mean_absolute_error: 1.7246\n",
            "Epoch 130/500\n",
            "2400/2400 [==============================] - 28s 12ms/step - loss: 1.8506 - mean_absolute_error: 1.8506 - val_loss: 1.7360 - val_mean_absolute_error: 1.7360\n",
            "Epoch 131/500\n",
            "2400/2400 [==============================] - 28s 12ms/step - loss: 1.8237 - mean_absolute_error: 1.8237 - val_loss: 1.7319 - val_mean_absolute_error: 1.7319\n",
            "Epoch 132/500\n",
            "2400/2400 [==============================] - 28s 12ms/step - loss: 1.8067 - mean_absolute_error: 1.8067 - val_loss: 1.7413 - val_mean_absolute_error: 1.7413\n",
            "Epoch 133/500\n",
            "2400/2400 [==============================] - 28s 12ms/step - loss: 1.8501 - mean_absolute_error: 1.8501 - val_loss: 1.7616 - val_mean_absolute_error: 1.7616\n",
            "Epoch 134/500\n",
            "2400/2400 [==============================] - 28s 11ms/step - loss: 1.8670 - mean_absolute_error: 1.8670 - val_loss: 1.7649 - val_mean_absolute_error: 1.7649\n",
            "Epoch 135/500\n",
            "2400/2400 [==============================] - 28s 12ms/step - loss: 1565.1781 - mean_absolute_error: 1565.1781 - val_loss: 2.2417 - val_mean_absolute_error: 2.2417\n",
            "Epoch 136/500\n",
            "2400/2400 [==============================] - 28s 12ms/step - loss: 3534.0981 - mean_absolute_error: 3534.0981 - val_loss: 1.8641 - val_mean_absolute_error: 1.8641\n",
            "Epoch 137/500\n",
            "2400/2400 [==============================] - 28s 12ms/step - loss: 2160.5553 - mean_absolute_error: 2160.5553 - val_loss: 1.9083 - val_mean_absolute_error: 1.9083\n",
            "Epoch 138/500\n",
            "2400/2400 [==============================] - 28s 12ms/step - loss: 4.7474 - mean_absolute_error: 4.7474 - val_loss: 1.8547 - val_mean_absolute_error: 1.8547\n",
            "Epoch 139/500\n",
            "2400/2400 [==============================] - 28s 11ms/step - loss: 1.8511 - mean_absolute_error: 1.8511 - val_loss: 1.7490 - val_mean_absolute_error: 1.7490\n",
            "Epoch 140/500\n",
            "2400/2400 [==============================] - 28s 11ms/step - loss: 26.9915 - mean_absolute_error: 26.9915 - val_loss: 1.8367 - val_mean_absolute_error: 1.8367\n",
            "Epoch 141/500\n",
            "2400/2400 [==============================] - 28s 12ms/step - loss: 1.8266 - mean_absolute_error: 1.8266 - val_loss: 1.7482 - val_mean_absolute_error: 1.7482\n",
            "Epoch 142/500\n",
            "2400/2400 [==============================] - 28s 11ms/step - loss: 1.9488 - mean_absolute_error: 1.9488 - val_loss: 1.7648 - val_mean_absolute_error: 1.7648\n",
            "Epoch 143/500\n",
            "2400/2400 [==============================] - 28s 11ms/step - loss: 1.8413 - mean_absolute_error: 1.8413 - val_loss: 1.7235 - val_mean_absolute_error: 1.7235\n",
            "Epoch 144/500\n",
            "2400/2400 [==============================] - 28s 11ms/step - loss: 1.8013 - mean_absolute_error: 1.8013 - val_loss: 1.7357 - val_mean_absolute_error: 1.7357\n",
            "Epoch 145/500\n",
            "2400/2400 [==============================] - 28s 11ms/step - loss: 1.8826 - mean_absolute_error: 1.8826 - val_loss: 1.7261 - val_mean_absolute_error: 1.7261\n",
            "Epoch 146/500\n",
            "2400/2400 [==============================] - 28s 12ms/step - loss: 1.8148 - mean_absolute_error: 1.8148 - val_loss: 1.8323 - val_mean_absolute_error: 1.8323\n",
            "Epoch 147/500\n",
            "2400/2400 [==============================] - 28s 11ms/step - loss: 1.8195 - mean_absolute_error: 1.8195 - val_loss: 1.7464 - val_mean_absolute_error: 1.7464\n",
            "Epoch 148/500\n",
            "2400/2400 [==============================] - 28s 12ms/step - loss: 1.8334 - mean_absolute_error: 1.8334 - val_loss: 1.7831 - val_mean_absolute_error: 1.7831\n",
            "Epoch 149/500\n",
            "2400/2400 [==============================] - 28s 12ms/step - loss: 1.8065 - mean_absolute_error: 1.8065 - val_loss: 1.7281 - val_mean_absolute_error: 1.7281\n",
            "Epoch 150/500\n",
            "2400/2400 [==============================] - 28s 12ms/step - loss: 1.8477 - mean_absolute_error: 1.8477 - val_loss: 1.8270 - val_mean_absolute_error: 1.8270\n",
            "Epoch 151/500\n",
            "2400/2400 [==============================] - 28s 12ms/step - loss: 1.8151 - mean_absolute_error: 1.8151 - val_loss: 1.7492 - val_mean_absolute_error: 1.7492\n",
            "Epoch 152/500\n",
            "2400/2400 [==============================] - 28s 12ms/step - loss: 1.7767 - mean_absolute_error: 1.7767 - val_loss: 1.7442 - val_mean_absolute_error: 1.7442\n",
            "Epoch 153/500\n",
            "2400/2400 [==============================] - 28s 12ms/step - loss: 1.8101 - mean_absolute_error: 1.8101 - val_loss: 1.8228 - val_mean_absolute_error: 1.8228\n",
            "Epoch 154/500\n",
            "2400/2400 [==============================] - 28s 12ms/step - loss: 32.7391 - mean_absolute_error: 32.7391 - val_loss: 1.7406 - val_mean_absolute_error: 1.7406\n",
            "Epoch 155/500\n",
            "2400/2400 [==============================] - 28s 11ms/step - loss: 73.2568 - mean_absolute_error: 73.2568 - val_loss: 1.7463 - val_mean_absolute_error: 1.7463\n",
            "Epoch 156/500\n",
            "2400/2400 [==============================] - 28s 12ms/step - loss: 1.8320 - mean_absolute_error: 1.8320 - val_loss: 1.7404 - val_mean_absolute_error: 1.7404\n",
            "Epoch 157/500\n",
            "2400/2400 [==============================] - 28s 12ms/step - loss: 1.8231 - mean_absolute_error: 1.8231 - val_loss: 1.8464 - val_mean_absolute_error: 1.8464\n",
            "Epoch 158/500\n",
            "2400/2400 [==============================] - 28s 12ms/step - loss: 1.8265 - mean_absolute_error: 1.8265 - val_loss: 1.7322 - val_mean_absolute_error: 1.7322\n",
            "Epoch 159/500\n",
            "2400/2400 [==============================] - 28s 12ms/step - loss: 1.8054 - mean_absolute_error: 1.8054 - val_loss: 1.8029 - val_mean_absolute_error: 1.8029\n",
            "Epoch 160/500\n",
            "2400/2400 [==============================] - 28s 12ms/step - loss: 1.8065 - mean_absolute_error: 1.8065 - val_loss: 1.7587 - val_mean_absolute_error: 1.7587\n",
            "Epoch 161/500\n",
            "2400/2400 [==============================] - 28s 12ms/step - loss: 1.8230 - mean_absolute_error: 1.8230 - val_loss: 1.7468 - val_mean_absolute_error: 1.7468\n",
            "Epoch 162/500\n",
            "2400/2400 [==============================] - 28s 12ms/step - loss: 1.8247 - mean_absolute_error: 1.8247 - val_loss: 1.7117 - val_mean_absolute_error: 1.7117\n",
            "Epoch 163/500\n",
            "2400/2400 [==============================] - 28s 12ms/step - loss: 1.7827 - mean_absolute_error: 1.7827 - val_loss: 1.7315 - val_mean_absolute_error: 1.7315\n",
            "Epoch 164/500\n",
            "2400/2400 [==============================] - 28s 12ms/step - loss: 1.8228 - mean_absolute_error: 1.8228 - val_loss: 1.7427 - val_mean_absolute_error: 1.7427\n",
            "Epoch 165/500\n",
            "2400/2400 [==============================] - 28s 12ms/step - loss: 1.8136 - mean_absolute_error: 1.8136 - val_loss: 1.7607 - val_mean_absolute_error: 1.7607\n",
            "Epoch 166/500\n",
            "2400/2400 [==============================] - 28s 12ms/step - loss: 1.7950 - mean_absolute_error: 1.7950 - val_loss: 2.0512 - val_mean_absolute_error: 2.0512\n",
            "Epoch 167/500\n",
            "2400/2400 [==============================] - 28s 12ms/step - loss: 1.8387 - mean_absolute_error: 1.8387 - val_loss: 1.7255 - val_mean_absolute_error: 1.7255\n",
            "Epoch 168/500\n",
            "2400/2400 [==============================] - 28s 12ms/step - loss: 1.8257 - mean_absolute_error: 1.8257 - val_loss: 1.8822 - val_mean_absolute_error: 1.8822\n",
            "Epoch 169/500\n",
            "2400/2400 [==============================] - 28s 12ms/step - loss: 1.8039 - mean_absolute_error: 1.8039 - val_loss: 1.7383 - val_mean_absolute_error: 1.7383\n",
            "Epoch 170/500\n",
            "2400/2400 [==============================] - 28s 12ms/step - loss: 1.8068 - mean_absolute_error: 1.8068 - val_loss: 1.7850 - val_mean_absolute_error: 1.7850\n",
            "Epoch 171/500\n",
            "2400/2400 [==============================] - 28s 12ms/step - loss: 1.7905 - mean_absolute_error: 1.7905 - val_loss: 1.7334 - val_mean_absolute_error: 1.7334\n",
            "Epoch 172/500\n",
            "2400/2400 [==============================] - 28s 12ms/step - loss: 1.7859 - mean_absolute_error: 1.7859 - val_loss: 1.7460 - val_mean_absolute_error: 1.7460\n",
            "Epoch 173/500\n",
            "2400/2400 [==============================] - 28s 12ms/step - loss: 1.7992 - mean_absolute_error: 1.7992 - val_loss: 1.7356 - val_mean_absolute_error: 1.7356\n",
            "Epoch 174/500\n",
            "2400/2400 [==============================] - 28s 12ms/step - loss: 1.8217 - mean_absolute_error: 1.8217 - val_loss: 1.8230 - val_mean_absolute_error: 1.8230\n",
            "Epoch 175/500\n",
            "2400/2400 [==============================] - 28s 12ms/step - loss: 1.7617 - mean_absolute_error: 1.7617 - val_loss: 1.7476 - val_mean_absolute_error: 1.7476\n",
            "Epoch 176/500\n",
            "2400/2400 [==============================] - 28s 12ms/step - loss: 1.7718 - mean_absolute_error: 1.7718 - val_loss: 1.7181 - val_mean_absolute_error: 1.7181\n",
            "Epoch 177/500\n",
            "2400/2400 [==============================] - 28s 12ms/step - loss: 1.8076 - mean_absolute_error: 1.8076 - val_loss: 1.7715 - val_mean_absolute_error: 1.7715\n",
            "Epoch 178/500\n",
            "2400/2400 [==============================] - 28s 12ms/step - loss: 1.8094 - mean_absolute_error: 1.8094 - val_loss: 1.7492 - val_mean_absolute_error: 1.7492\n",
            "Epoch 179/500\n",
            "2400/2400 [==============================] - 28s 12ms/step - loss: 1.7910 - mean_absolute_error: 1.7910 - val_loss: 1.7269 - val_mean_absolute_error: 1.7269\n",
            "Epoch 180/500\n",
            "2400/2400 [==============================] - 28s 12ms/step - loss: 1.7895 - mean_absolute_error: 1.7895 - val_loss: 1.7535 - val_mean_absolute_error: 1.7535\n",
            "Epoch 181/500\n",
            "2400/2400 [==============================] - 28s 12ms/step - loss: 1.7597 - mean_absolute_error: 1.7597 - val_loss: 1.7337 - val_mean_absolute_error: 1.7337\n",
            "Epoch 182/500\n",
            "2400/2400 [==============================] - 28s 12ms/step - loss: 1.7881 - mean_absolute_error: 1.7881 - val_loss: 1.7685 - val_mean_absolute_error: 1.7685\n",
            "Epoch 183/500\n",
            "2400/2400 [==============================] - 28s 12ms/step - loss: 108.3150 - mean_absolute_error: 108.3150 - val_loss: 1.8585 - val_mean_absolute_error: 1.8585\n",
            "Epoch 184/500\n",
            "2400/2400 [==============================] - 28s 12ms/step - loss: 41823.6478 - mean_absolute_error: 41823.6478 - val_loss: 2.0566 - val_mean_absolute_error: 2.0566\n",
            "Epoch 185/500\n",
            "2400/2400 [==============================] - 28s 12ms/step - loss: 2.2160 - mean_absolute_error: 2.2160 - val_loss: 2.0402 - val_mean_absolute_error: 2.0402\n",
            "Epoch 186/500\n",
            "2400/2400 [==============================] - 28s 12ms/step - loss: 2.2136 - mean_absolute_error: 2.2136 - val_loss: 2.0410 - val_mean_absolute_error: 2.0410\n",
            "Epoch 187/500\n",
            "2400/2400 [==============================] - 28s 12ms/step - loss: 2.2090 - mean_absolute_error: 2.2090 - val_loss: 2.0416 - val_mean_absolute_error: 2.0416\n",
            "Epoch 188/500\n",
            "2400/2400 [==============================] - 28s 11ms/step - loss: 2.2043 - mean_absolute_error: 2.2043 - val_loss: 2.0412 - val_mean_absolute_error: 2.0412\n",
            "Epoch 189/500\n",
            "2400/2400 [==============================] - 28s 12ms/step - loss: 2.2006 - mean_absolute_error: 2.2006 - val_loss: 2.0510 - val_mean_absolute_error: 2.0510\n",
            "Epoch 190/500\n",
            "2400/2400 [==============================] - 28s 12ms/step - loss: 2.2272 - mean_absolute_error: 2.2272 - val_loss: 2.1178 - val_mean_absolute_error: 2.1178\n",
            "Epoch 191/500\n",
            "2400/2400 [==============================] - 28s 12ms/step - loss: 2.2287 - mean_absolute_error: 2.2287 - val_loss: 2.0885 - val_mean_absolute_error: 2.0885\n",
            "Epoch 192/500\n",
            "2400/2400 [==============================] - 28s 12ms/step - loss: 2.2061 - mean_absolute_error: 2.2061 - val_loss: 2.0649 - val_mean_absolute_error: 2.0649\n",
            "Epoch 193/500\n",
            "2400/2400 [==============================] - 28s 12ms/step - loss: 2.2014 - mean_absolute_error: 2.2014 - val_loss: 2.0445 - val_mean_absolute_error: 2.0445\n",
            "Epoch 194/500\n",
            "2400/2400 [==============================] - 28s 12ms/step - loss: 2.2119 - mean_absolute_error: 2.2119 - val_loss: 2.0403 - val_mean_absolute_error: 2.0403\n",
            "Epoch 195/500\n",
            "2400/2400 [==============================] - 28s 12ms/step - loss: 2.2043 - mean_absolute_error: 2.2043 - val_loss: 2.0458 - val_mean_absolute_error: 2.0458\n",
            "Epoch 196/500\n",
            "2400/2400 [==============================] - 28s 12ms/step - loss: 2.2005 - mean_absolute_error: 2.2005 - val_loss: 2.0647 - val_mean_absolute_error: 2.0647\n",
            "Epoch 197/500\n",
            "2400/2400 [==============================] - 28s 11ms/step - loss: 2.2093 - mean_absolute_error: 2.2093 - val_loss: 2.0450 - val_mean_absolute_error: 2.0450\n",
            "Epoch 198/500\n",
            "2400/2400 [==============================] - 28s 11ms/step - loss: 2.2084 - mean_absolute_error: 2.2084 - val_loss: 2.0415 - val_mean_absolute_error: 2.0415\n",
            "Epoch 199/500\n",
            "2400/2400 [==============================] - 28s 11ms/step - loss: 2.2049 - mean_absolute_error: 2.2049 - val_loss: 2.0430 - val_mean_absolute_error: 2.0430\n",
            "Epoch 200/500\n",
            "2400/2400 [==============================] - 28s 12ms/step - loss: 2.2244 - mean_absolute_error: 2.2244 - val_loss: 2.0433 - val_mean_absolute_error: 2.0433\n",
            "Epoch 201/500\n",
            "2400/2400 [==============================] - 28s 12ms/step - loss: 2.2014 - mean_absolute_error: 2.2014 - val_loss: 2.0529 - val_mean_absolute_error: 2.0529\n",
            "Epoch 202/500\n",
            "2400/2400 [==============================] - 28s 12ms/step - loss: 2.2018 - mean_absolute_error: 2.2018 - val_loss: 2.0424 - val_mean_absolute_error: 2.0424\n",
            "Epoch 203/500\n",
            "2400/2400 [==============================] - 28s 11ms/step - loss: 2.2065 - mean_absolute_error: 2.2065 - val_loss: 2.0466 - val_mean_absolute_error: 2.0466\n",
            "Epoch 204/500\n",
            "2400/2400 [==============================] - 28s 11ms/step - loss: 2.2134 - mean_absolute_error: 2.2134 - val_loss: 2.0459 - val_mean_absolute_error: 2.0459\n",
            "Epoch 205/500\n",
            "2400/2400 [==============================] - 28s 11ms/step - loss: 2.1992 - mean_absolute_error: 2.1992 - val_loss: 2.0932 - val_mean_absolute_error: 2.0932\n",
            "Epoch 206/500\n",
            "2400/2400 [==============================] - 28s 11ms/step - loss: 2.2129 - mean_absolute_error: 2.2129 - val_loss: 2.0422 - val_mean_absolute_error: 2.0422\n",
            "Epoch 207/500\n",
            "2400/2400 [==============================] - 28s 11ms/step - loss: 2.2017 - mean_absolute_error: 2.2017 - val_loss: 2.0770 - val_mean_absolute_error: 2.0770\n",
            "Epoch 208/500\n",
            "2400/2400 [==============================] - 28s 11ms/step - loss: 2.2243 - mean_absolute_error: 2.2243 - val_loss: 2.0414 - val_mean_absolute_error: 2.0414\n",
            "Epoch 209/500\n",
            "2400/2400 [==============================] - 28s 11ms/step - loss: 2.2152 - mean_absolute_error: 2.2152 - val_loss: 2.0765 - val_mean_absolute_error: 2.0765\n",
            "Epoch 210/500\n",
            "2400/2400 [==============================] - 28s 12ms/step - loss: 2.2032 - mean_absolute_error: 2.2032 - val_loss: 2.0568 - val_mean_absolute_error: 2.0568\n",
            "Epoch 211/500\n",
            "2400/2400 [==============================] - 28s 11ms/step - loss: 2.1964 - mean_absolute_error: 2.1964 - val_loss: 2.0446 - val_mean_absolute_error: 2.0446\n",
            "Epoch 212/500\n",
            "2400/2400 [==============================] - 28s 12ms/step - loss: 2.2345 - mean_absolute_error: 2.2345 - val_loss: 2.0428 - val_mean_absolute_error: 2.0428\n",
            "Epoch 213/500\n",
            "2400/2400 [==============================] - 28s 12ms/step - loss: 2.2141 - mean_absolute_error: 2.2141 - val_loss: 2.1321 - val_mean_absolute_error: 2.1321\n",
            "Epoch 214/500\n",
            "2400/2400 [==============================] - 28s 11ms/step - loss: 2.2129 - mean_absolute_error: 2.2129 - val_loss: 2.0661 - val_mean_absolute_error: 2.0661\n",
            "Epoch 215/500\n",
            "2400/2400 [==============================] - 28s 11ms/step - loss: 2.2012 - mean_absolute_error: 2.2012 - val_loss: 2.0492 - val_mean_absolute_error: 2.0492\n",
            "Epoch 216/500\n",
            "2400/2400 [==============================] - 28s 12ms/step - loss: 2.2076 - mean_absolute_error: 2.2076 - val_loss: 2.0631 - val_mean_absolute_error: 2.0631\n",
            "Epoch 217/500\n",
            "2400/2400 [==============================] - 28s 11ms/step - loss: 2.2184 - mean_absolute_error: 2.2184 - val_loss: 2.0405 - val_mean_absolute_error: 2.0405\n",
            "Epoch 218/500\n",
            "2400/2400 [==============================] - 28s 12ms/step - loss: 2.2171 - mean_absolute_error: 2.2171 - val_loss: 2.0808 - val_mean_absolute_error: 2.0808\n",
            "Epoch 219/500\n",
            "2400/2400 [==============================] - 28s 12ms/step - loss: 2.1977 - mean_absolute_error: 2.1977 - val_loss: 2.0444 - val_mean_absolute_error: 2.0444\n",
            "Epoch 220/500\n",
            "2400/2400 [==============================] - 28s 11ms/step - loss: 2.1992 - mean_absolute_error: 2.1992 - val_loss: 2.0547 - val_mean_absolute_error: 2.0547\n",
            "Epoch 221/500\n",
            "2400/2400 [==============================] - 28s 11ms/step - loss: 2.2033 - mean_absolute_error: 2.2033 - val_loss: 2.0494 - val_mean_absolute_error: 2.0494\n",
            "Epoch 222/500\n",
            "2400/2400 [==============================] - 28s 11ms/step - loss: 2.2268 - mean_absolute_error: 2.2268 - val_loss: 2.0956 - val_mean_absolute_error: 2.0956\n",
            "Epoch 223/500\n",
            "2400/2400 [==============================] - 28s 11ms/step - loss: 2.2025 - mean_absolute_error: 2.2025 - val_loss: 2.0556 - val_mean_absolute_error: 2.0556\n",
            "Epoch 224/500\n",
            "2400/2400 [==============================] - 28s 12ms/step - loss: 2.2088 - mean_absolute_error: 2.2088 - val_loss: 2.0825 - val_mean_absolute_error: 2.0825\n",
            "Epoch 225/500\n",
            "2400/2400 [==============================] - 28s 12ms/step - loss: 2.2067 - mean_absolute_error: 2.2067 - val_loss: 2.0414 - val_mean_absolute_error: 2.0414\n",
            "Epoch 226/500\n",
            "2400/2400 [==============================] - 28s 12ms/step - loss: 2.2002 - mean_absolute_error: 2.2002 - val_loss: 2.0696 - val_mean_absolute_error: 2.0696\n",
            "Epoch 227/500\n",
            "2400/2400 [==============================] - 28s 12ms/step - loss: 2.2240 - mean_absolute_error: 2.2240 - val_loss: 2.0576 - val_mean_absolute_error: 2.0576\n",
            "Epoch 228/500\n",
            "2400/2400 [==============================] - 28s 12ms/step - loss: 2.2009 - mean_absolute_error: 2.2009 - val_loss: 2.0404 - val_mean_absolute_error: 2.0404\n",
            "Epoch 229/500\n",
            "2400/2400 [==============================] - 28s 12ms/step - loss: 2.2076 - mean_absolute_error: 2.2076 - val_loss: 2.0409 - val_mean_absolute_error: 2.0409\n",
            "Epoch 230/500\n",
            "2400/2400 [==============================] - 28s 12ms/step - loss: 2.2118 - mean_absolute_error: 2.2118 - val_loss: 2.0460 - val_mean_absolute_error: 2.0460\n",
            "Epoch 231/500\n",
            "2400/2400 [==============================] - 28s 12ms/step - loss: 2.2032 - mean_absolute_error: 2.2032 - val_loss: 2.0434 - val_mean_absolute_error: 2.0434\n",
            "Epoch 232/500\n",
            "2400/2400 [==============================] - 28s 12ms/step - loss: 2.2177 - mean_absolute_error: 2.2177 - val_loss: 2.1172 - val_mean_absolute_error: 2.1172\n",
            "Epoch 233/500\n",
            "2400/2400 [==============================] - 28s 12ms/step - loss: 2.2129 - mean_absolute_error: 2.2129 - val_loss: 2.0406 - val_mean_absolute_error: 2.0406\n",
            "Epoch 234/500\n",
            "2400/2400 [==============================] - 28s 12ms/step - loss: 2.2082 - mean_absolute_error: 2.2082 - val_loss: 2.0660 - val_mean_absolute_error: 2.0660\n",
            "Epoch 235/500\n",
            "2400/2400 [==============================] - 28s 12ms/step - loss: 2.2012 - mean_absolute_error: 2.2012 - val_loss: 2.0648 - val_mean_absolute_error: 2.0648\n",
            "Epoch 236/500\n",
            "2400/2400 [==============================] - 28s 12ms/step - loss: 2.2184 - mean_absolute_error: 2.2184 - val_loss: 2.0611 - val_mean_absolute_error: 2.0611\n",
            "Epoch 237/500\n",
            "2400/2400 [==============================] - 28s 12ms/step - loss: 2.2182 - mean_absolute_error: 2.2182 - val_loss: 2.0604 - val_mean_absolute_error: 2.0604\n",
            "Epoch 238/500\n",
            "2400/2400 [==============================] - 28s 12ms/step - loss: 2.2069 - mean_absolute_error: 2.2069 - val_loss: 2.1042 - val_mean_absolute_error: 2.1042\n",
            "Epoch 239/500\n",
            "2400/2400 [==============================] - 28s 12ms/step - loss: 2.2016 - mean_absolute_error: 2.2016 - val_loss: 2.0589 - val_mean_absolute_error: 2.0589\n",
            "Epoch 240/500\n",
            "2400/2400 [==============================] - 28s 12ms/step - loss: 2.2092 - mean_absolute_error: 2.2092 - val_loss: 2.0516 - val_mean_absolute_error: 2.0516\n",
            "Epoch 241/500\n",
            "2400/2400 [==============================] - 28s 12ms/step - loss: 2.2009 - mean_absolute_error: 2.2009 - val_loss: 2.0562 - val_mean_absolute_error: 2.0562\n",
            "Epoch 242/500\n",
            "2400/2400 [==============================] - 28s 12ms/step - loss: 2.2107 - mean_absolute_error: 2.2107 - val_loss: 2.1758 - val_mean_absolute_error: 2.1758\n",
            "Epoch 243/500\n",
            "2400/2400 [==============================] - 28s 12ms/step - loss: 2.2247 - mean_absolute_error: 2.2247 - val_loss: 2.0410 - val_mean_absolute_error: 2.0410\n",
            "Epoch 244/500\n",
            "2400/2400 [==============================] - 28s 12ms/step - loss: 2.2050 - mean_absolute_error: 2.2050 - val_loss: 2.0663 - val_mean_absolute_error: 2.0663\n",
            "Epoch 245/500\n",
            "2400/2400 [==============================] - 28s 12ms/step - loss: 2.2108 - mean_absolute_error: 2.2108 - val_loss: 2.1234 - val_mean_absolute_error: 2.1234\n",
            "Epoch 246/500\n",
            "2400/2400 [==============================] - 28s 12ms/step - loss: 2.2238 - mean_absolute_error: 2.2238 - val_loss: 2.0680 - val_mean_absolute_error: 2.0680\n",
            "Epoch 247/500\n",
            "2400/2400 [==============================] - 28s 12ms/step - loss: 2.2048 - mean_absolute_error: 2.2048 - val_loss: 2.0833 - val_mean_absolute_error: 2.0833\n",
            "Epoch 248/500\n",
            "2400/2400 [==============================] - 28s 12ms/step - loss: 2.1945 - mean_absolute_error: 2.1945 - val_loss: 2.0510 - val_mean_absolute_error: 2.0510\n",
            "Epoch 249/500\n",
            "2400/2400 [==============================] - 28s 12ms/step - loss: 2.2008 - mean_absolute_error: 2.2008 - val_loss: 2.0486 - val_mean_absolute_error: 2.0486\n",
            "Epoch 250/500\n",
            "2400/2400 [==============================] - 28s 12ms/step - loss: 2.2091 - mean_absolute_error: 2.2091 - val_loss: 2.0644 - val_mean_absolute_error: 2.0644\n",
            "Epoch 251/500\n",
            "2400/2400 [==============================] - 28s 12ms/step - loss: 2.2139 - mean_absolute_error: 2.2139 - val_loss: 2.0432 - val_mean_absolute_error: 2.0432\n",
            "Epoch 252/500\n",
            "2400/2400 [==============================] - 28s 12ms/step - loss: 2.2005 - mean_absolute_error: 2.2005 - val_loss: 2.0475 - val_mean_absolute_error: 2.0475\n",
            "Epoch 253/500\n",
            "2400/2400 [==============================] - 28s 12ms/step - loss: 2.2085 - mean_absolute_error: 2.2085 - val_loss: 2.0488 - val_mean_absolute_error: 2.0488\n",
            "Epoch 254/500\n",
            "2400/2400 [==============================] - 28s 12ms/step - loss: 2.2055 - mean_absolute_error: 2.2055 - val_loss: 2.0650 - val_mean_absolute_error: 2.0650\n",
            "Epoch 255/500\n",
            "2400/2400 [==============================] - 28s 12ms/step - loss: 2.1988 - mean_absolute_error: 2.1988 - val_loss: 2.0792 - val_mean_absolute_error: 2.0792\n",
            "Epoch 256/500\n",
            "2400/2400 [==============================] - 28s 12ms/step - loss: 2.1995 - mean_absolute_error: 2.1995 - val_loss: 2.0408 - val_mean_absolute_error: 2.0408\n",
            "Epoch 257/500\n",
            "2400/2400 [==============================] - 28s 12ms/step - loss: 2.2029 - mean_absolute_error: 2.2029 - val_loss: 2.0718 - val_mean_absolute_error: 2.0718\n",
            "Epoch 258/500\n",
            "2400/2400 [==============================] - 28s 12ms/step - loss: 2.2061 - mean_absolute_error: 2.2061 - val_loss: 2.0810 - val_mean_absolute_error: 2.0810\n",
            "Epoch 259/500\n",
            "2400/2400 [==============================] - 28s 12ms/step - loss: 2.2162 - mean_absolute_error: 2.2162 - val_loss: 2.1598 - val_mean_absolute_error: 2.1598\n",
            "Epoch 260/500\n",
            "2400/2400 [==============================] - 28s 12ms/step - loss: 2.2076 - mean_absolute_error: 2.2076 - val_loss: 2.0897 - val_mean_absolute_error: 2.0897\n",
            "Epoch 261/500\n",
            "2400/2400 [==============================] - 28s 12ms/step - loss: 2.2126 - mean_absolute_error: 2.2126 - val_loss: 2.0436 - val_mean_absolute_error: 2.0436\n",
            "Epoch 262/500\n",
            "2400/2400 [==============================] - 28s 12ms/step - loss: 2.1967 - mean_absolute_error: 2.1967 - val_loss: 2.0510 - val_mean_absolute_error: 2.0510\n",
            "Epoch 263/500\n",
            "2400/2400 [==============================] - 28s 11ms/step - loss: 2.2004 - mean_absolute_error: 2.2004 - val_loss: 2.0547 - val_mean_absolute_error: 2.0547\n",
            "Epoch 264/500\n",
            "2400/2400 [==============================] - 28s 12ms/step - loss: 2.2089 - mean_absolute_error: 2.2089 - val_loss: 2.0656 - val_mean_absolute_error: 2.0656\n",
            "Epoch 265/500\n",
            "2400/2400 [==============================] - 28s 12ms/step - loss: 2.2505 - mean_absolute_error: 2.2505 - val_loss: 2.0916 - val_mean_absolute_error: 2.0916\n",
            "Epoch 266/500\n",
            "2400/2400 [==============================] - 28s 11ms/step - loss: 2.2105 - mean_absolute_error: 2.2105 - val_loss: 2.0490 - val_mean_absolute_error: 2.0490\n",
            "Epoch 267/500\n",
            "2400/2400 [==============================] - 28s 11ms/step - loss: 2.2208 - mean_absolute_error: 2.2208 - val_loss: 2.0404 - val_mean_absolute_error: 2.0404\n",
            "Epoch 268/500\n",
            "2400/2400 [==============================] - 28s 11ms/step - loss: 2.2036 - mean_absolute_error: 2.2036 - val_loss: 2.0594 - val_mean_absolute_error: 2.0594\n",
            "Epoch 269/500\n",
            "2400/2400 [==============================] - 28s 11ms/step - loss: 2.2100 - mean_absolute_error: 2.2100 - val_loss: 2.0807 - val_mean_absolute_error: 2.0807\n",
            "Epoch 270/500\n",
            "2400/2400 [==============================] - 28s 12ms/step - loss: 2.2166 - mean_absolute_error: 2.2166 - val_loss: 2.0724 - val_mean_absolute_error: 2.0724\n",
            "Epoch 271/500\n",
            "2400/2400 [==============================] - 28s 12ms/step - loss: 2.2017 - mean_absolute_error: 2.2017 - val_loss: 2.0403 - val_mean_absolute_error: 2.0403\n",
            "Epoch 272/500\n",
            "2400/2400 [==============================] - 28s 11ms/step - loss: 2.2147 - mean_absolute_error: 2.2147 - val_loss: 2.0598 - val_mean_absolute_error: 2.0598\n",
            "Epoch 273/500\n",
            "2400/2400 [==============================] - 28s 12ms/step - loss: 2.2061 - mean_absolute_error: 2.2061 - val_loss: 2.0419 - val_mean_absolute_error: 2.0419\n",
            "Epoch 274/500\n",
            "2400/2400 [==============================] - 28s 12ms/step - loss: 2.2180 - mean_absolute_error: 2.2180 - val_loss: 2.0482 - val_mean_absolute_error: 2.0482\n",
            "Epoch 275/500\n",
            "2400/2400 [==============================] - 28s 12ms/step - loss: 2.2014 - mean_absolute_error: 2.2014 - val_loss: 2.1297 - val_mean_absolute_error: 2.1297\n",
            "Epoch 276/500\n",
            "2400/2400 [==============================] - 28s 11ms/step - loss: 2.2025 - mean_absolute_error: 2.2025 - val_loss: 2.0538 - val_mean_absolute_error: 2.0538\n",
            "Epoch 277/500\n",
            "2400/2400 [==============================] - 28s 11ms/step - loss: 2.2014 - mean_absolute_error: 2.2014 - val_loss: 2.0826 - val_mean_absolute_error: 2.0826\n",
            "Epoch 278/500\n",
            "2400/2400 [==============================] - 28s 11ms/step - loss: 2.2040 - mean_absolute_error: 2.2040 - val_loss: 2.0541 - val_mean_absolute_error: 2.0541\n",
            "Epoch 279/500\n",
            "2400/2400 [==============================] - 28s 11ms/step - loss: 2.2184 - mean_absolute_error: 2.2184 - val_loss: 2.1932 - val_mean_absolute_error: 2.1932\n",
            "Epoch 280/500\n",
            "2400/2400 [==============================] - 28s 12ms/step - loss: 2.2218 - mean_absolute_error: 2.2218 - val_loss: 2.1166 - val_mean_absolute_error: 2.1166\n",
            "Epoch 281/500\n",
            "2400/2400 [==============================] - 28s 12ms/step - loss: 2.2216 - mean_absolute_error: 2.2216 - val_loss: 2.0876 - val_mean_absolute_error: 2.0876\n",
            "Epoch 282/500\n",
            "2400/2400 [==============================] - 28s 12ms/step - loss: 2.2169 - mean_absolute_error: 2.2169 - val_loss: 2.0828 - val_mean_absolute_error: 2.0828\n",
            "Epoch 283/500\n",
            "2400/2400 [==============================] - 28s 12ms/step - loss: 2.2099 - mean_absolute_error: 2.2099 - val_loss: 2.0427 - val_mean_absolute_error: 2.0427\n",
            "Epoch 284/500\n",
            "2400/2400 [==============================] - 28s 12ms/step - loss: 2.2459 - mean_absolute_error: 2.2459 - val_loss: 2.1979 - val_mean_absolute_error: 2.1979\n",
            "Epoch 285/500\n",
            "2400/2400 [==============================] - 28s 12ms/step - loss: 2.2182 - mean_absolute_error: 2.2182 - val_loss: 2.1749 - val_mean_absolute_error: 2.1749\n",
            "Epoch 286/500\n",
            "2400/2400 [==============================] - 28s 12ms/step - loss: 2.2111 - mean_absolute_error: 2.2111 - val_loss: 2.0601 - val_mean_absolute_error: 2.0601\n",
            "Epoch 287/500\n",
            "2400/2400 [==============================] - 28s 12ms/step - loss: 2.2054 - mean_absolute_error: 2.2054 - val_loss: 2.0653 - val_mean_absolute_error: 2.0653\n",
            "Epoch 288/500\n",
            "2400/2400 [==============================] - 28s 12ms/step - loss: 2.2002 - mean_absolute_error: 2.2002 - val_loss: 2.0551 - val_mean_absolute_error: 2.0551\n",
            "Epoch 289/500\n",
            "2400/2400 [==============================] - 28s 11ms/step - loss: 2.2070 - mean_absolute_error: 2.2070 - val_loss: 2.0418 - val_mean_absolute_error: 2.0418\n",
            "Epoch 290/500\n",
            "2400/2400 [==============================] - 28s 12ms/step - loss: 2.2016 - mean_absolute_error: 2.2016 - val_loss: 2.0404 - val_mean_absolute_error: 2.0404\n",
            "Epoch 291/500\n",
            "2400/2400 [==============================] - 28s 12ms/step - loss: 2.2071 - mean_absolute_error: 2.2071 - val_loss: 2.0494 - val_mean_absolute_error: 2.0494\n",
            "Epoch 292/500\n",
            "2400/2400 [==============================] - 28s 12ms/step - loss: 2.2005 - mean_absolute_error: 2.2005 - val_loss: 2.0435 - val_mean_absolute_error: 2.0435\n",
            "Epoch 293/500\n",
            "2400/2400 [==============================] - 28s 12ms/step - loss: 2.2084 - mean_absolute_error: 2.2084 - val_loss: 2.1292 - val_mean_absolute_error: 2.1292\n",
            "Epoch 294/500\n",
            "2400/2400 [==============================] - 28s 12ms/step - loss: 2.2168 - mean_absolute_error: 2.2168 - val_loss: 2.0438 - val_mean_absolute_error: 2.0438\n",
            "Epoch 295/500\n",
            "2400/2400 [==============================] - 28s 12ms/step - loss: 2.2094 - mean_absolute_error: 2.2094 - val_loss: 2.0613 - val_mean_absolute_error: 2.0613\n",
            "Epoch 296/500\n",
            "2400/2400 [==============================] - 28s 12ms/step - loss: 2.1996 - mean_absolute_error: 2.1996 - val_loss: 2.0466 - val_mean_absolute_error: 2.0466\n",
            "Epoch 297/500\n",
            "2400/2400 [==============================] - 28s 12ms/step - loss: 2.2013 - mean_absolute_error: 2.2013 - val_loss: 2.0892 - val_mean_absolute_error: 2.0892\n",
            "Epoch 298/500\n",
            "2400/2400 [==============================] - 28s 12ms/step - loss: 2.2242 - mean_absolute_error: 2.2242 - val_loss: 2.0525 - val_mean_absolute_error: 2.0525\n",
            "Epoch 299/500\n",
            "2400/2400 [==============================] - 28s 12ms/step - loss: 2.2142 - mean_absolute_error: 2.2142 - val_loss: 2.0808 - val_mean_absolute_error: 2.0808\n",
            "Epoch 300/500\n",
            "2400/2400 [==============================] - 28s 12ms/step - loss: 2.2077 - mean_absolute_error: 2.2077 - val_loss: 2.0402 - val_mean_absolute_error: 2.0402\n",
            "Epoch 301/500\n",
            "2400/2400 [==============================] - 28s 12ms/step - loss: 2.2055 - mean_absolute_error: 2.2055 - val_loss: 2.0548 - val_mean_absolute_error: 2.0548\n",
            "Epoch 302/500\n",
            "2400/2400 [==============================] - 28s 12ms/step - loss: 2.2024 - mean_absolute_error: 2.2024 - val_loss: 2.0474 - val_mean_absolute_error: 2.0474\n",
            "Epoch 303/500\n",
            "2400/2400 [==============================] - 28s 12ms/step - loss: 2.2254 - mean_absolute_error: 2.2254 - val_loss: 2.0443 - val_mean_absolute_error: 2.0443\n",
            "Epoch 304/500\n",
            "2400/2400 [==============================] - 28s 12ms/step - loss: 2.2314 - mean_absolute_error: 2.2314 - val_loss: 2.0471 - val_mean_absolute_error: 2.0471\n",
            "Epoch 305/500\n",
            "2400/2400 [==============================] - 28s 12ms/step - loss: 2.2280 - mean_absolute_error: 2.2280 - val_loss: 2.0410 - val_mean_absolute_error: 2.0410\n",
            "Epoch 306/500\n",
            "2400/2400 [==============================] - 28s 12ms/step - loss: 2.2272 - mean_absolute_error: 2.2272 - val_loss: 2.1945 - val_mean_absolute_error: 2.1945\n",
            "Epoch 307/500\n",
            "2400/2400 [==============================] - 28s 12ms/step - loss: 2.2312 - mean_absolute_error: 2.2312 - val_loss: 2.1246 - val_mean_absolute_error: 2.1246\n",
            "Epoch 308/500\n",
            "2400/2400 [==============================] - 28s 12ms/step - loss: 2.2133 - mean_absolute_error: 2.2133 - val_loss: 2.0707 - val_mean_absolute_error: 2.0707\n",
            "Epoch 309/500\n",
            "2400/2400 [==============================] - 28s 12ms/step - loss: 2.2257 - mean_absolute_error: 2.2257 - val_loss: 2.0423 - val_mean_absolute_error: 2.0423\n",
            "Epoch 310/500\n",
            "2400/2400 [==============================] - 28s 12ms/step - loss: 2.2113 - mean_absolute_error: 2.2113 - val_loss: 2.0421 - val_mean_absolute_error: 2.0421\n",
            "Epoch 311/500\n",
            "2400/2400 [==============================] - 28s 12ms/step - loss: 2.2080 - mean_absolute_error: 2.2080 - val_loss: 2.0450 - val_mean_absolute_error: 2.0450\n",
            "Epoch 312/500\n",
            "2400/2400 [==============================] - 28s 12ms/step - loss: 2.2004 - mean_absolute_error: 2.2004 - val_loss: 2.0406 - val_mean_absolute_error: 2.0406\n",
            "Epoch 313/500\n",
            "2400/2400 [==============================] - 28s 11ms/step - loss: 2.2146 - mean_absolute_error: 2.2146 - val_loss: 2.0433 - val_mean_absolute_error: 2.0433\n",
            "Epoch 314/500\n",
            "2400/2400 [==============================] - 28s 11ms/step - loss: 2.2116 - mean_absolute_error: 2.2116 - val_loss: 2.0656 - val_mean_absolute_error: 2.0656\n",
            "Epoch 315/500\n",
            "2400/2400 [==============================] - 28s 12ms/step - loss: 2.2201 - mean_absolute_error: 2.2201 - val_loss: 2.0832 - val_mean_absolute_error: 2.0832\n",
            "Epoch 316/500\n",
            "2400/2400 [==============================] - 28s 12ms/step - loss: 2.2163 - mean_absolute_error: 2.2163 - val_loss: 2.0565 - val_mean_absolute_error: 2.0565\n",
            "Epoch 317/500\n",
            "2400/2400 [==============================] - 28s 12ms/step - loss: 2.2308 - mean_absolute_error: 2.2308 - val_loss: 2.0612 - val_mean_absolute_error: 2.0612\n",
            "Epoch 318/500\n",
            "2400/2400 [==============================] - 28s 12ms/step - loss: 2.2406 - mean_absolute_error: 2.2406 - val_loss: 2.0511 - val_mean_absolute_error: 2.0511\n",
            "Epoch 319/500\n",
            "2400/2400 [==============================] - 28s 12ms/step - loss: 2.2072 - mean_absolute_error: 2.2072 - val_loss: 2.0743 - val_mean_absolute_error: 2.0743\n",
            "Epoch 320/500\n",
            "2400/2400 [==============================] - 28s 12ms/step - loss: 2.1974 - mean_absolute_error: 2.1974 - val_loss: 2.0407 - val_mean_absolute_error: 2.0407\n",
            "Epoch 321/500\n",
            "2400/2400 [==============================] - 28s 12ms/step - loss: 2.2007 - mean_absolute_error: 2.2007 - val_loss: 2.0508 - val_mean_absolute_error: 2.0508\n",
            "Epoch 322/500\n",
            "2400/2400 [==============================] - 28s 12ms/step - loss: 2.1981 - mean_absolute_error: 2.1981 - val_loss: 2.0402 - val_mean_absolute_error: 2.0402\n",
            "Epoch 323/500\n",
            "2400/2400 [==============================] - 28s 11ms/step - loss: 2.2016 - mean_absolute_error: 2.2016 - val_loss: 2.0485 - val_mean_absolute_error: 2.0485\n",
            "Epoch 324/500\n",
            "2400/2400 [==============================] - 28s 11ms/step - loss: 2.2185 - mean_absolute_error: 2.2185 - val_loss: 2.0433 - val_mean_absolute_error: 2.0433\n",
            "Epoch 325/500\n",
            "2400/2400 [==============================] - 28s 11ms/step - loss: 2.2202 - mean_absolute_error: 2.2202 - val_loss: 2.1115 - val_mean_absolute_error: 2.1115\n",
            "Epoch 326/500\n",
            "2400/2400 [==============================] - 28s 11ms/step - loss: 2.2211 - mean_absolute_error: 2.2211 - val_loss: 2.0418 - val_mean_absolute_error: 2.0418\n",
            "Epoch 327/500\n",
            "2400/2400 [==============================] - 28s 11ms/step - loss: 2.2268 - mean_absolute_error: 2.2268 - val_loss: 2.0847 - val_mean_absolute_error: 2.0847\n",
            "Epoch 328/500\n",
            "2400/2400 [==============================] - 28s 11ms/step - loss: 2.2218 - mean_absolute_error: 2.2218 - val_loss: 2.0426 - val_mean_absolute_error: 2.0426\n",
            "Epoch 329/500\n",
            "2400/2400 [==============================] - 28s 12ms/step - loss: 2.2261 - mean_absolute_error: 2.2261 - val_loss: 2.0440 - val_mean_absolute_error: 2.0440\n",
            "Epoch 330/500\n",
            "2400/2400 [==============================] - 28s 11ms/step - loss: 2.2255 - mean_absolute_error: 2.2255 - val_loss: 2.0482 - val_mean_absolute_error: 2.0482\n",
            "Epoch 331/500\n",
            "2400/2400 [==============================] - 28s 12ms/step - loss: 2.2030 - mean_absolute_error: 2.2030 - val_loss: 2.0660 - val_mean_absolute_error: 2.0660\n",
            "Epoch 332/500\n",
            "2400/2400 [==============================] - 28s 12ms/step - loss: 2.2116 - mean_absolute_error: 2.2116 - val_loss: 2.0952 - val_mean_absolute_error: 2.0952\n",
            "Epoch 333/500\n",
            "2400/2400 [==============================] - 28s 12ms/step - loss: 2.2246 - mean_absolute_error: 2.2246 - val_loss: 2.0690 - val_mean_absolute_error: 2.0690\n",
            "Epoch 334/500\n",
            "2400/2400 [==============================] - 28s 11ms/step - loss: 2.2095 - mean_absolute_error: 2.2095 - val_loss: 2.0488 - val_mean_absolute_error: 2.0488\n",
            "Epoch 335/500\n",
            "2400/2400 [==============================] - 28s 11ms/step - loss: 2.2186 - mean_absolute_error: 2.2186 - val_loss: 2.0402 - val_mean_absolute_error: 2.0402\n",
            "Epoch 336/500\n",
            "2400/2400 [==============================] - 28s 12ms/step - loss: 2.2405 - mean_absolute_error: 2.2405 - val_loss: 2.0647 - val_mean_absolute_error: 2.0647\n",
            "Epoch 337/500\n",
            "2400/2400 [==============================] - 28s 12ms/step - loss: 2.2093 - mean_absolute_error: 2.2093 - val_loss: 2.0549 - val_mean_absolute_error: 2.0549\n",
            "Epoch 338/500\n",
            "2400/2400 [==============================] - 28s 12ms/step - loss: 2.2265 - mean_absolute_error: 2.2265 - val_loss: 2.0464 - val_mean_absolute_error: 2.0464\n",
            "Epoch 339/500\n",
            "2400/2400 [==============================] - 28s 12ms/step - loss: 2.2312 - mean_absolute_error: 2.2312 - val_loss: 2.0408 - val_mean_absolute_error: 2.0408\n",
            "Epoch 340/500\n",
            "2400/2400 [==============================] - 28s 12ms/step - loss: 2.2272 - mean_absolute_error: 2.2272 - val_loss: 2.0462 - val_mean_absolute_error: 2.0462\n",
            "Epoch 341/500\n",
            "2400/2400 [==============================] - 28s 12ms/step - loss: 2.2120 - mean_absolute_error: 2.2120 - val_loss: 2.0407 - val_mean_absolute_error: 2.0407\n",
            "Epoch 342/500\n",
            "2400/2400 [==============================] - 28s 12ms/step - loss: 2.2097 - mean_absolute_error: 2.2097 - val_loss: 2.0426 - val_mean_absolute_error: 2.0426\n",
            "Epoch 343/500\n",
            "2400/2400 [==============================] - 28s 12ms/step - loss: 2.2260 - mean_absolute_error: 2.2260 - val_loss: 2.0409 - val_mean_absolute_error: 2.0409\n",
            "Epoch 344/500\n",
            "2400/2400 [==============================] - 28s 11ms/step - loss: 2.2359 - mean_absolute_error: 2.2359 - val_loss: 2.0404 - val_mean_absolute_error: 2.0404\n",
            "Epoch 345/500\n",
            "2400/2400 [==============================] - 28s 12ms/step - loss: 2.2022 - mean_absolute_error: 2.2022 - val_loss: 2.0502 - val_mean_absolute_error: 2.0502\n",
            "Epoch 346/500\n",
            "2400/2400 [==============================] - 28s 12ms/step - loss: 2.2050 - mean_absolute_error: 2.2050 - val_loss: 2.0615 - val_mean_absolute_error: 2.0615\n",
            "Epoch 347/500\n",
            "2400/2400 [==============================] - 28s 12ms/step - loss: 2.2023 - mean_absolute_error: 2.2023 - val_loss: 2.0824 - val_mean_absolute_error: 2.0824\n",
            "Epoch 348/500\n",
            "2400/2400 [==============================] - 28s 12ms/step - loss: 2.2088 - mean_absolute_error: 2.2088 - val_loss: 2.0453 - val_mean_absolute_error: 2.0453\n",
            "Epoch 349/500\n",
            "2400/2400 [==============================] - 28s 12ms/step - loss: 2.2338 - mean_absolute_error: 2.2338 - val_loss: 2.0569 - val_mean_absolute_error: 2.0569\n",
            "Epoch 350/500\n",
            "2400/2400 [==============================] - 28s 12ms/step - loss: 2.2033 - mean_absolute_error: 2.2033 - val_loss: 2.0462 - val_mean_absolute_error: 2.0462\n",
            "Epoch 351/500\n",
            "2400/2400 [==============================] - 28s 12ms/step - loss: 2.2242 - mean_absolute_error: 2.2242 - val_loss: 2.0674 - val_mean_absolute_error: 2.0674\n",
            "Epoch 352/500\n",
            "2400/2400 [==============================] - 28s 12ms/step - loss: 2.2095 - mean_absolute_error: 2.2095 - val_loss: 2.0481 - val_mean_absolute_error: 2.0481\n",
            "Epoch 353/500\n",
            "2400/2400 [==============================] - 28s 12ms/step - loss: 2.2439 - mean_absolute_error: 2.2439 - val_loss: 2.0552 - val_mean_absolute_error: 2.0552\n",
            "Epoch 354/500\n",
            "2400/2400 [==============================] - 28s 12ms/step - loss: 2.2039 - mean_absolute_error: 2.2039 - val_loss: 2.0478 - val_mean_absolute_error: 2.0478\n",
            "Epoch 355/500\n",
            "2400/2400 [==============================] - 28s 12ms/step - loss: 2.2169 - mean_absolute_error: 2.2169 - val_loss: 2.0463 - val_mean_absolute_error: 2.0463\n",
            "Epoch 356/500\n",
            "2400/2400 [==============================] - 28s 12ms/step - loss: 2.2337 - mean_absolute_error: 2.2337 - val_loss: 2.0544 - val_mean_absolute_error: 2.0544\n",
            "Epoch 357/500\n",
            "2400/2400 [==============================] - 28s 12ms/step - loss: 2.2345 - mean_absolute_error: 2.2345 - val_loss: 2.0403 - val_mean_absolute_error: 2.0403\n",
            "Epoch 358/500\n",
            "2400/2400 [==============================] - 28s 12ms/step - loss: 2.2249 - mean_absolute_error: 2.2249 - val_loss: 2.0876 - val_mean_absolute_error: 2.0876\n",
            "Epoch 359/500\n",
            "2400/2400 [==============================] - 28s 12ms/step - loss: 2.2429 - mean_absolute_error: 2.2429 - val_loss: 2.1212 - val_mean_absolute_error: 2.1212\n",
            "Epoch 360/500\n",
            "2400/2400 [==============================] - 28s 12ms/step - loss: 2.1986 - mean_absolute_error: 2.1986 - val_loss: 2.0509 - val_mean_absolute_error: 2.0509\n",
            "Epoch 361/500\n",
            "2400/2400 [==============================] - 28s 11ms/step - loss: 2.2076 - mean_absolute_error: 2.2076 - val_loss: 2.0784 - val_mean_absolute_error: 2.0784\n",
            "Epoch 362/500\n",
            "2400/2400 [==============================] - 28s 12ms/step - loss: 2.2126 - mean_absolute_error: 2.2126 - val_loss: 2.0897 - val_mean_absolute_error: 2.0897\n",
            "Epoch 363/500\n",
            "2400/2400 [==============================] - 28s 12ms/step - loss: 2.2039 - mean_absolute_error: 2.2039 - val_loss: 2.0421 - val_mean_absolute_error: 2.0421\n",
            "Epoch 364/500\n",
            "2400/2400 [==============================] - 28s 12ms/step - loss: 2.2041 - mean_absolute_error: 2.2041 - val_loss: 2.0597 - val_mean_absolute_error: 2.0597\n",
            "Epoch 365/500\n",
            "2400/2400 [==============================] - 28s 12ms/step - loss: 2.2235 - mean_absolute_error: 2.2235 - val_loss: 2.0890 - val_mean_absolute_error: 2.0890\n",
            "Epoch 366/500\n",
            "2400/2400 [==============================] - 28s 11ms/step - loss: 2.2166 - mean_absolute_error: 2.2166 - val_loss: 2.0409 - val_mean_absolute_error: 2.0409\n",
            "Epoch 367/500\n",
            "2400/2400 [==============================] - 28s 12ms/step - loss: 2.2160 - mean_absolute_error: 2.2160 - val_loss: 2.2414 - val_mean_absolute_error: 2.2414\n",
            "Epoch 368/500\n",
            "2400/2400 [==============================] - 28s 12ms/step - loss: 2.2000 - mean_absolute_error: 2.2000 - val_loss: 2.0707 - val_mean_absolute_error: 2.0707\n",
            "Epoch 369/500\n",
            "2400/2400 [==============================] - 28s 12ms/step - loss: 2.2149 - mean_absolute_error: 2.2149 - val_loss: 2.0452 - val_mean_absolute_error: 2.0452\n",
            "Epoch 370/500\n",
            "2400/2400 [==============================] - 28s 12ms/step - loss: 2.2108 - mean_absolute_error: 2.2108 - val_loss: 2.0455 - val_mean_absolute_error: 2.0455\n",
            "Epoch 371/500\n",
            "2400/2400 [==============================] - 28s 12ms/step - loss: 2.2066 - mean_absolute_error: 2.2066 - val_loss: 2.0654 - val_mean_absolute_error: 2.0654\n",
            "Epoch 372/500\n",
            "2400/2400 [==============================] - 28s 12ms/step - loss: 2.2037 - mean_absolute_error: 2.2037 - val_loss: 2.1237 - val_mean_absolute_error: 2.1237\n",
            "Epoch 373/500\n",
            "2400/2400 [==============================] - 28s 12ms/step - loss: 2.2186 - mean_absolute_error: 2.2186 - val_loss: 2.0778 - val_mean_absolute_error: 2.0778\n",
            "Epoch 374/500\n",
            "2400/2400 [==============================] - 28s 12ms/step - loss: 2.2142 - mean_absolute_error: 2.2142 - val_loss: 2.0915 - val_mean_absolute_error: 2.0915\n",
            "Epoch 375/500\n",
            "2400/2400 [==============================] - 28s 11ms/step - loss: 2.2106 - mean_absolute_error: 2.2106 - val_loss: 2.0559 - val_mean_absolute_error: 2.0559\n",
            "Epoch 376/500\n",
            "2400/2400 [==============================] - 28s 11ms/step - loss: 2.2131 - mean_absolute_error: 2.2131 - val_loss: 2.0410 - val_mean_absolute_error: 2.0410\n",
            "Epoch 377/500\n",
            "2400/2400 [==============================] - 28s 11ms/step - loss: 2.2063 - mean_absolute_error: 2.2063 - val_loss: 2.0402 - val_mean_absolute_error: 2.0402\n",
            "Epoch 378/500\n",
            "2400/2400 [==============================] - 28s 11ms/step - loss: 2.2258 - mean_absolute_error: 2.2258 - val_loss: 2.0441 - val_mean_absolute_error: 2.0441\n",
            "Epoch 379/500\n",
            "2400/2400 [==============================] - 28s 12ms/step - loss: 2.2370 - mean_absolute_error: 2.2370 - val_loss: 2.0959 - val_mean_absolute_error: 2.0959\n",
            "Epoch 380/500\n",
            "2400/2400 [==============================] - 28s 12ms/step - loss: 2.2196 - mean_absolute_error: 2.2196 - val_loss: 2.0587 - val_mean_absolute_error: 2.0587\n",
            "Epoch 381/500\n",
            "2400/2400 [==============================] - 28s 11ms/step - loss: 2.2118 - mean_absolute_error: 2.2118 - val_loss: 2.0432 - val_mean_absolute_error: 2.0432\n",
            "Epoch 382/500\n",
            "2400/2400 [==============================] - 28s 11ms/step - loss: 2.2174 - mean_absolute_error: 2.2174 - val_loss: 2.1446 - val_mean_absolute_error: 2.1446\n",
            "Epoch 383/500\n",
            "2400/2400 [==============================] - 28s 12ms/step - loss: 2.2307 - mean_absolute_error: 2.2307 - val_loss: 2.0722 - val_mean_absolute_error: 2.0722\n",
            "Epoch 384/500\n",
            "2400/2400 [==============================] - 28s 12ms/step - loss: 2.2146 - mean_absolute_error: 2.2146 - val_loss: 2.0826 - val_mean_absolute_error: 2.0826\n",
            "Epoch 385/500\n",
            "2400/2400 [==============================] - 28s 12ms/step - loss: 2.2045 - mean_absolute_error: 2.2045 - val_loss: 2.2879 - val_mean_absolute_error: 2.2879\n",
            "Epoch 386/500\n",
            "2400/2400 [==============================] - 28s 11ms/step - loss: 2.2329 - mean_absolute_error: 2.2329 - val_loss: 2.0438 - val_mean_absolute_error: 2.0438\n",
            "Epoch 387/500\n",
            "2400/2400 [==============================] - 27s 11ms/step - loss: 2.2281 - mean_absolute_error: 2.2281 - val_loss: 2.0755 - val_mean_absolute_error: 2.0755\n",
            "Epoch 388/500\n",
            "2400/2400 [==============================] - 28s 11ms/step - loss: 2.2124 - mean_absolute_error: 2.2124 - val_loss: 2.0895 - val_mean_absolute_error: 2.0895\n",
            "Epoch 389/500\n",
            "2400/2400 [==============================] - 28s 11ms/step - loss: 2.2154 - mean_absolute_error: 2.2154 - val_loss: 2.0407 - val_mean_absolute_error: 2.0407\n",
            "Epoch 390/500\n",
            "2400/2400 [==============================] - 28s 11ms/step - loss: 2.2360 - mean_absolute_error: 2.2360 - val_loss: 2.0420 - val_mean_absolute_error: 2.0420\n",
            "Epoch 391/500\n",
            "2400/2400 [==============================] - 28s 12ms/step - loss: 2.2215 - mean_absolute_error: 2.2215 - val_loss: 2.0546 - val_mean_absolute_error: 2.0546\n",
            "Epoch 392/500\n",
            "2400/2400 [==============================] - 28s 12ms/step - loss: 2.2217 - mean_absolute_error: 2.2217 - val_loss: 2.0409 - val_mean_absolute_error: 2.0409\n",
            "Epoch 393/500\n",
            "2400/2400 [==============================] - 28s 12ms/step - loss: 2.2390 - mean_absolute_error: 2.2390 - val_loss: 2.0736 - val_mean_absolute_error: 2.0736\n",
            "Epoch 394/500\n",
            "2400/2400 [==============================] - 28s 12ms/step - loss: 2.2111 - mean_absolute_error: 2.2111 - val_loss: 2.0690 - val_mean_absolute_error: 2.0690\n",
            "Epoch 395/500\n",
            "2400/2400 [==============================] - 28s 12ms/step - loss: 2.2167 - mean_absolute_error: 2.2167 - val_loss: 2.0821 - val_mean_absolute_error: 2.0821\n",
            "Epoch 396/500\n",
            "2400/2400 [==============================] - 28s 11ms/step - loss: 2.2154 - mean_absolute_error: 2.2154 - val_loss: 2.0434 - val_mean_absolute_error: 2.0434\n",
            "Epoch 397/500\n",
            "2400/2400 [==============================] - 28s 11ms/step - loss: 2.2103 - mean_absolute_error: 2.2103 - val_loss: 2.0712 - val_mean_absolute_error: 2.0712\n",
            "Epoch 398/500\n",
            "2400/2400 [==============================] - 28s 12ms/step - loss: 2.2235 - mean_absolute_error: 2.2235 - val_loss: 2.0913 - val_mean_absolute_error: 2.0913\n",
            "Epoch 399/500\n",
            "2400/2400 [==============================] - 28s 12ms/step - loss: 2.2114 - mean_absolute_error: 2.2114 - val_loss: 2.0739 - val_mean_absolute_error: 2.0739\n",
            "Epoch 400/500\n",
            "2400/2400 [==============================] - 28s 12ms/step - loss: 2.2335 - mean_absolute_error: 2.2335 - val_loss: 2.2144 - val_mean_absolute_error: 2.2144\n",
            "Epoch 401/500\n",
            "2400/2400 [==============================] - 28s 12ms/step - loss: 2.2590 - mean_absolute_error: 2.2590 - val_loss: 2.0881 - val_mean_absolute_error: 2.0881\n",
            "Epoch 402/500\n",
            "2400/2400 [==============================] - 28s 12ms/step - loss: 2.2074 - mean_absolute_error: 2.2074 - val_loss: 2.0487 - val_mean_absolute_error: 2.0487\n",
            "Epoch 403/500\n",
            "2400/2400 [==============================] - 28s 12ms/step - loss: 2.2284 - mean_absolute_error: 2.2284 - val_loss: 2.0466 - val_mean_absolute_error: 2.0466\n",
            "Epoch 404/500\n",
            "2400/2400 [==============================] - 28s 11ms/step - loss: 2.2049 - mean_absolute_error: 2.2049 - val_loss: 2.0661 - val_mean_absolute_error: 2.0661\n",
            "Epoch 405/500\n",
            "2400/2400 [==============================] - 28s 12ms/step - loss: 2.2280 - mean_absolute_error: 2.2280 - val_loss: 2.0828 - val_mean_absolute_error: 2.0828\n",
            "Epoch 406/500\n",
            "2400/2400 [==============================] - 28s 12ms/step - loss: 2.2157 - mean_absolute_error: 2.2157 - val_loss: 2.0614 - val_mean_absolute_error: 2.0614\n",
            "Epoch 407/500\n",
            "2400/2400 [==============================] - 28s 12ms/step - loss: 2.2098 - mean_absolute_error: 2.2098 - val_loss: 2.0613 - val_mean_absolute_error: 2.0613\n",
            "Epoch 408/500\n",
            "2400/2400 [==============================] - 28s 12ms/step - loss: 2.2906 - mean_absolute_error: 2.2906 - val_loss: 2.0518 - val_mean_absolute_error: 2.0518\n",
            "Epoch 409/500\n",
            "2400/2400 [==============================] - 28s 12ms/step - loss: 2.2181 - mean_absolute_error: 2.2181 - val_loss: 2.0746 - val_mean_absolute_error: 2.0746\n",
            "Epoch 410/500\n",
            "2400/2400 [==============================] - 28s 12ms/step - loss: 2.2070 - mean_absolute_error: 2.2070 - val_loss: 2.0578 - val_mean_absolute_error: 2.0578\n",
            "Epoch 411/500\n",
            "2400/2400 [==============================] - 28s 11ms/step - loss: 2.2116 - mean_absolute_error: 2.2116 - val_loss: 2.0980 - val_mean_absolute_error: 2.0980\n",
            "Epoch 412/500\n",
            "2400/2400 [==============================] - 28s 11ms/step - loss: 2.2121 - mean_absolute_error: 2.2121 - val_loss: 2.1260 - val_mean_absolute_error: 2.1260\n",
            "Epoch 413/500\n",
            "2400/2400 [==============================] - 28s 11ms/step - loss: 2.2277 - mean_absolute_error: 2.2277 - val_loss: 2.0469 - val_mean_absolute_error: 2.0469\n",
            "Epoch 414/500\n",
            "2400/2400 [==============================] - 28s 11ms/step - loss: 2.2071 - mean_absolute_error: 2.2071 - val_loss: 2.0978 - val_mean_absolute_error: 2.0978\n",
            "Epoch 415/500\n",
            "2400/2400 [==============================] - 27s 11ms/step - loss: 2.2110 - mean_absolute_error: 2.2110 - val_loss: 2.0719 - val_mean_absolute_error: 2.0719\n",
            "Epoch 416/500\n",
            "2400/2400 [==============================] - 28s 11ms/step - loss: 2.2393 - mean_absolute_error: 2.2393 - val_loss: 2.0459 - val_mean_absolute_error: 2.0459\n",
            "Epoch 417/500\n",
            "2400/2400 [==============================] - 28s 12ms/step - loss: 2.2345 - mean_absolute_error: 2.2345 - val_loss: 2.1038 - val_mean_absolute_error: 2.1038\n",
            "Epoch 418/500\n",
            "2400/2400 [==============================] - 28s 12ms/step - loss: 2.2309 - mean_absolute_error: 2.2309 - val_loss: 2.1032 - val_mean_absolute_error: 2.1032\n",
            "Epoch 419/500\n",
            "2400/2400 [==============================] - 28s 12ms/step - loss: 2.2231 - mean_absolute_error: 2.2231 - val_loss: 2.0707 - val_mean_absolute_error: 2.0707\n",
            "Epoch 420/500\n",
            "2400/2400 [==============================] - 28s 12ms/step - loss: 2.2297 - mean_absolute_error: 2.2297 - val_loss: 2.0699 - val_mean_absolute_error: 2.0699\n",
            "Epoch 421/500\n",
            "2400/2400 [==============================] - 28s 12ms/step - loss: 2.2068 - mean_absolute_error: 2.2068 - val_loss: 2.0532 - val_mean_absolute_error: 2.0532\n",
            "Epoch 422/500\n",
            "2400/2400 [==============================] - 28s 12ms/step - loss: 2.2107 - mean_absolute_error: 2.2107 - val_loss: 2.0458 - val_mean_absolute_error: 2.0458\n",
            "Epoch 423/500\n",
            "2400/2400 [==============================] - 28s 12ms/step - loss: 2.2381 - mean_absolute_error: 2.2381 - val_loss: 2.0444 - val_mean_absolute_error: 2.0444\n",
            "Epoch 424/500\n",
            "2400/2400 [==============================] - 28s 11ms/step - loss: 2.2095 - mean_absolute_error: 2.2095 - val_loss: 2.0603 - val_mean_absolute_error: 2.0603\n",
            "Epoch 425/500\n",
            "2400/2400 [==============================] - 27s 11ms/step - loss: 2.2166 - mean_absolute_error: 2.2166 - val_loss: 2.0697 - val_mean_absolute_error: 2.0697\n",
            "Epoch 426/500\n",
            "2400/2400 [==============================] - 27s 11ms/step - loss: 2.2292 - mean_absolute_error: 2.2292 - val_loss: 2.0525 - val_mean_absolute_error: 2.0525\n",
            "Epoch 427/500\n",
            "2400/2400 [==============================] - 28s 11ms/step - loss: 2.2169 - mean_absolute_error: 2.2169 - val_loss: 2.0657 - val_mean_absolute_error: 2.0657\n",
            "Epoch 428/500\n",
            "2400/2400 [==============================] - 28s 12ms/step - loss: 2.2280 - mean_absolute_error: 2.2280 - val_loss: 2.0417 - val_mean_absolute_error: 2.0417\n",
            "Epoch 429/500\n",
            "2400/2400 [==============================] - 28s 11ms/step - loss: 2.2642 - mean_absolute_error: 2.2642 - val_loss: 2.0496 - val_mean_absolute_error: 2.0496\n",
            "Epoch 430/500\n",
            "2400/2400 [==============================] - 28s 11ms/step - loss: 2.2004 - mean_absolute_error: 2.2004 - val_loss: 2.0583 - val_mean_absolute_error: 2.0583\n",
            "Epoch 431/500\n",
            "2400/2400 [==============================] - 28s 12ms/step - loss: 2.1983 - mean_absolute_error: 2.1983 - val_loss: 2.0896 - val_mean_absolute_error: 2.0896\n",
            "Epoch 432/500\n",
            "2400/2400 [==============================] - 28s 12ms/step - loss: 2.2185 - mean_absolute_error: 2.2185 - val_loss: 2.1078 - val_mean_absolute_error: 2.1078\n",
            "Epoch 433/500\n",
            "2400/2400 [==============================] - 28s 12ms/step - loss: 2.2418 - mean_absolute_error: 2.2418 - val_loss: 2.0466 - val_mean_absolute_error: 2.0466\n",
            "Epoch 434/500\n",
            "2400/2400 [==============================] - 28s 12ms/step - loss: 2.2344 - mean_absolute_error: 2.2344 - val_loss: 2.1860 - val_mean_absolute_error: 2.1860\n",
            "Epoch 435/500\n",
            "2400/2400 [==============================] - 28s 12ms/step - loss: 2.2216 - mean_absolute_error: 2.2216 - val_loss: 2.0414 - val_mean_absolute_error: 2.0414\n",
            "Epoch 436/500\n",
            "2400/2400 [==============================] - 28s 12ms/step - loss: 2.2067 - mean_absolute_error: 2.2067 - val_loss: 2.0441 - val_mean_absolute_error: 2.0441\n",
            "Epoch 437/500\n",
            "2400/2400 [==============================] - 28s 11ms/step - loss: 2.2164 - mean_absolute_error: 2.2164 - val_loss: 2.0402 - val_mean_absolute_error: 2.0402\n",
            "Epoch 438/500\n",
            "2400/2400 [==============================] - 28s 12ms/step - loss: 2.2199 - mean_absolute_error: 2.2199 - val_loss: 2.0514 - val_mean_absolute_error: 2.0514\n",
            "Epoch 439/500\n",
            "2400/2400 [==============================] - 28s 11ms/step - loss: 2.2722 - mean_absolute_error: 2.2722 - val_loss: 2.1164 - val_mean_absolute_error: 2.1164\n",
            "Epoch 440/500\n",
            "2400/2400 [==============================] - 28s 12ms/step - loss: 2.2243 - mean_absolute_error: 2.2243 - val_loss: 2.1376 - val_mean_absolute_error: 2.1376\n",
            "Epoch 441/500\n",
            "2400/2400 [==============================] - 28s 12ms/step - loss: 2.2121 - mean_absolute_error: 2.2121 - val_loss: 2.0437 - val_mean_absolute_error: 2.0437\n",
            "Epoch 442/500\n",
            "2400/2400 [==============================] - 28s 12ms/step - loss: 2.2288 - mean_absolute_error: 2.2288 - val_loss: 2.0411 - val_mean_absolute_error: 2.0411\n",
            "Epoch 443/500\n",
            "2400/2400 [==============================] - 28s 12ms/step - loss: 2.2229 - mean_absolute_error: 2.2229 - val_loss: 2.0629 - val_mean_absolute_error: 2.0629\n",
            "Epoch 444/500\n",
            "2400/2400 [==============================] - 28s 12ms/step - loss: 2.2872 - mean_absolute_error: 2.2872 - val_loss: 2.2539 - val_mean_absolute_error: 2.2539\n",
            "Epoch 445/500\n",
            "2400/2400 [==============================] - 28s 12ms/step - loss: 2.2289 - mean_absolute_error: 2.2289 - val_loss: 2.0515 - val_mean_absolute_error: 2.0515\n",
            "Epoch 446/500\n",
            "2400/2400 [==============================] - 28s 12ms/step - loss: 2.1988 - mean_absolute_error: 2.1988 - val_loss: 2.0556 - val_mean_absolute_error: 2.0556\n",
            "Epoch 447/500\n",
            "2400/2400 [==============================] - 28s 11ms/step - loss: 2.2325 - mean_absolute_error: 2.2325 - val_loss: 2.0570 - val_mean_absolute_error: 2.0570\n",
            "Epoch 448/500\n",
            "2400/2400 [==============================] - 28s 11ms/step - loss: 2.2171 - mean_absolute_error: 2.2171 - val_loss: 2.1803 - val_mean_absolute_error: 2.1803\n",
            "Epoch 449/500\n",
            "2400/2400 [==============================] - 28s 12ms/step - loss: 2.2093 - mean_absolute_error: 2.2093 - val_loss: 2.0694 - val_mean_absolute_error: 2.0694\n",
            "Epoch 450/500\n",
            "2400/2400 [==============================] - 28s 12ms/step - loss: 2.2196 - mean_absolute_error: 2.2196 - val_loss: 2.0411 - val_mean_absolute_error: 2.0411\n",
            "Epoch 451/500\n",
            "2400/2400 [==============================] - 28s 12ms/step - loss: 2.2286 - mean_absolute_error: 2.2286 - val_loss: 2.0686 - val_mean_absolute_error: 2.0686\n",
            "Epoch 452/500\n",
            "2400/2400 [==============================] - 28s 12ms/step - loss: 2.2670 - mean_absolute_error: 2.2670 - val_loss: 2.1774 - val_mean_absolute_error: 2.1774\n",
            "Epoch 453/500\n",
            "2400/2400 [==============================] - 28s 11ms/step - loss: 2.2266 - mean_absolute_error: 2.2266 - val_loss: 2.0957 - val_mean_absolute_error: 2.0957\n",
            "Epoch 454/500\n",
            "2400/2400 [==============================] - 28s 11ms/step - loss: 2.2298 - mean_absolute_error: 2.2298 - val_loss: 2.0409 - val_mean_absolute_error: 2.0409\n",
            "Epoch 455/500\n",
            "2400/2400 [==============================] - 28s 11ms/step - loss: 2.2140 - mean_absolute_error: 2.2140 - val_loss: 2.0422 - val_mean_absolute_error: 2.0422\n",
            "Epoch 456/500\n",
            "2400/2400 [==============================] - 28s 11ms/step - loss: 2.2352 - mean_absolute_error: 2.2352 - val_loss: 2.0517 - val_mean_absolute_error: 2.0517\n",
            "Epoch 457/500\n",
            "2400/2400 [==============================] - 28s 12ms/step - loss: 2.2155 - mean_absolute_error: 2.2155 - val_loss: 2.0902 - val_mean_absolute_error: 2.0902\n",
            "Epoch 458/500\n",
            "2400/2400 [==============================] - 28s 12ms/step - loss: 2.2278 - mean_absolute_error: 2.2278 - val_loss: 2.1574 - val_mean_absolute_error: 2.1574\n",
            "Epoch 459/500\n",
            "2400/2400 [==============================] - 28s 12ms/step - loss: 2.2505 - mean_absolute_error: 2.2505 - val_loss: 2.1047 - val_mean_absolute_error: 2.1047\n",
            "Epoch 460/500\n",
            "2400/2400 [==============================] - 28s 12ms/step - loss: 2.2290 - mean_absolute_error: 2.2290 - val_loss: 2.0556 - val_mean_absolute_error: 2.0556\n",
            "Epoch 461/500\n",
            "2400/2400 [==============================] - 28s 12ms/step - loss: 2.2199 - mean_absolute_error: 2.2199 - val_loss: 2.0698 - val_mean_absolute_error: 2.0698\n",
            "Epoch 462/500\n",
            "2400/2400 [==============================] - 28s 12ms/step - loss: 2.2278 - mean_absolute_error: 2.2278 - val_loss: 2.1760 - val_mean_absolute_error: 2.1760\n",
            "Epoch 463/500\n",
            "2400/2400 [==============================] - 28s 12ms/step - loss: 2.2577 - mean_absolute_error: 2.2577 - val_loss: 2.1090 - val_mean_absolute_error: 2.1090\n",
            "Epoch 464/500\n",
            "2400/2400 [==============================] - 28s 11ms/step - loss: 2.2241 - mean_absolute_error: 2.2241 - val_loss: 2.0491 - val_mean_absolute_error: 2.0491\n",
            "Epoch 465/500\n",
            "2400/2400 [==============================] - 28s 11ms/step - loss: 2.2427 - mean_absolute_error: 2.2427 - val_loss: 2.3207 - val_mean_absolute_error: 2.3207\n",
            "Epoch 466/500\n",
            "2400/2400 [==============================] - 28s 11ms/step - loss: 2.2298 - mean_absolute_error: 2.2298 - val_loss: 2.0776 - val_mean_absolute_error: 2.0776\n",
            "Epoch 467/500\n",
            "2400/2400 [==============================] - 28s 11ms/step - loss: 2.2094 - mean_absolute_error: 2.2094 - val_loss: 2.0414 - val_mean_absolute_error: 2.0414\n",
            "Epoch 468/500\n",
            "2400/2400 [==============================] - 28s 12ms/step - loss: 2.2684 - mean_absolute_error: 2.2684 - val_loss: 2.0593 - val_mean_absolute_error: 2.0593\n",
            "Epoch 469/500\n",
            "2400/2400 [==============================] - 28s 12ms/step - loss: 2.2403 - mean_absolute_error: 2.2403 - val_loss: 2.2096 - val_mean_absolute_error: 2.2096\n",
            "Epoch 470/500\n",
            "2400/2400 [==============================] - 28s 12ms/step - loss: 2.2377 - mean_absolute_error: 2.2377 - val_loss: 2.0426 - val_mean_absolute_error: 2.0426\n",
            "Epoch 471/500\n",
            "2400/2400 [==============================] - 28s 11ms/step - loss: 2.1966 - mean_absolute_error: 2.1966 - val_loss: 2.0678 - val_mean_absolute_error: 2.0678\n",
            "Epoch 472/500\n",
            "2400/2400 [==============================] - 28s 11ms/step - loss: 2.2207 - mean_absolute_error: 2.2207 - val_loss: 2.0402 - val_mean_absolute_error: 2.0402\n",
            "Epoch 473/500\n",
            "2400/2400 [==============================] - 28s 11ms/step - loss: 2.2090 - mean_absolute_error: 2.2090 - val_loss: 2.0579 - val_mean_absolute_error: 2.0579\n",
            "Epoch 474/500\n",
            "2400/2400 [==============================] - 28s 11ms/step - loss: 2.2692 - mean_absolute_error: 2.2692 - val_loss: 2.0457 - val_mean_absolute_error: 2.0457\n",
            "Epoch 475/500\n",
            "2400/2400 [==============================] - 28s 11ms/step - loss: 2.2173 - mean_absolute_error: 2.2173 - val_loss: 2.0881 - val_mean_absolute_error: 2.0881\n",
            "Epoch 476/500\n",
            "2400/2400 [==============================] - 28s 11ms/step - loss: 2.2397 - mean_absolute_error: 2.2397 - val_loss: 2.0444 - val_mean_absolute_error: 2.0444\n",
            "Epoch 477/500\n",
            "2400/2400 [==============================] - 28s 11ms/step - loss: 2.2156 - mean_absolute_error: 2.2156 - val_loss: 2.0556 - val_mean_absolute_error: 2.0556\n",
            "Epoch 478/500\n",
            "2400/2400 [==============================] - 28s 11ms/step - loss: 2.2054 - mean_absolute_error: 2.2054 - val_loss: 2.0413 - val_mean_absolute_error: 2.0413\n",
            "Epoch 479/500\n",
            "2400/2400 [==============================] - 28s 11ms/step - loss: 2.2370 - mean_absolute_error: 2.2370 - val_loss: 2.0857 - val_mean_absolute_error: 2.0857\n",
            "Epoch 480/500\n",
            "2400/2400 [==============================] - 28s 12ms/step - loss: 2.2459 - mean_absolute_error: 2.2459 - val_loss: 2.0662 - val_mean_absolute_error: 2.0662\n",
            "Epoch 481/500\n",
            "2400/2400 [==============================] - 28s 12ms/step - loss: 2.2426 - mean_absolute_error: 2.2426 - val_loss: 2.0876 - val_mean_absolute_error: 2.0876\n",
            "Epoch 482/500\n",
            "2400/2400 [==============================] - 28s 12ms/step - loss: 2.2345 - mean_absolute_error: 2.2345 - val_loss: 2.0425 - val_mean_absolute_error: 2.0425\n",
            "Epoch 483/500\n",
            "2400/2400 [==============================] - 28s 12ms/step - loss: 2.2575 - mean_absolute_error: 2.2575 - val_loss: 2.0411 - val_mean_absolute_error: 2.0411\n",
            "Epoch 484/500\n",
            "2400/2400 [==============================] - 28s 12ms/step - loss: 2.2683 - mean_absolute_error: 2.2683 - val_loss: 2.1267 - val_mean_absolute_error: 2.1267\n",
            "Epoch 485/500\n",
            "2400/2400 [==============================] - 28s 12ms/step - loss: 2.2403 - mean_absolute_error: 2.2403 - val_loss: 2.0659 - val_mean_absolute_error: 2.0659\n",
            "Epoch 486/500\n",
            "1216/2400 [==============>...............] - ETA: 13s - loss: 2.2590 - mean_absolute_error: 2.2590"
          ],
          "name": "stdout"
        }
      ]
    },
    {
      "cell_type": "code",
      "metadata": {
        "id": "j2uNvrpO6p-v",
        "colab_type": "code",
        "colab": {}
      },
      "source": [
        ""
      ],
      "execution_count": 0,
      "outputs": []
    },
    {
      "cell_type": "code",
      "metadata": {
        "id": "wwDwzXfnp5as",
        "colab_type": "code",
        "colab": {}
      },
      "source": [
        "predictions = NN_model.predict(X_test)"
      ],
      "execution_count": 0,
      "outputs": []
    },
    {
      "cell_type": "code",
      "metadata": {
        "id": "inCecUZfrre-",
        "colab_type": "code",
        "colab": {}
      },
      "source": [
        "test['revenue']=prediction\n",
        "test['revenue']=np.expm1(test['revenue'])"
      ],
      "execution_count": 0,
      "outputs": []
    },
    {
      "cell_type": "code",
      "metadata": {
        "id": "4sUtma94ryzj",
        "colab_type": "code",
        "colab": {}
      },
      "source": [
        "df1=test[['revenue']]\n",
        "df1['id']=df1.index+3001"
      ],
      "execution_count": 0,
      "outputs": []
    },
    {
      "cell_type": "code",
      "metadata": {
        "id": "YDO05l_5r3IJ",
        "colab_type": "code",
        "colab": {}
      },
      "source": [
        "df1.columns = ['id', 'revenue']"
      ],
      "execution_count": 0,
      "outputs": []
    },
    {
      "cell_type": "code",
      "metadata": {
        "id": "KMowplV1r65m",
        "colab_type": "code",
        "colab": {}
      },
      "source": [
        "df1.to_csv('sub_7.csv',index=False)"
      ],
      "execution_count": 0,
      "outputs": []
    },
    {
      "cell_type": "code",
      "metadata": {
        "id": "PErqvxVUTfjP",
        "colab_type": "code",
        "colab": {}
      },
      "source": [
        "train.drop('all_genres',axis=1,inplace=True)\n",
        "\n"
      ],
      "execution_count": 0,
      "outputs": []
    },
    {
      "cell_type": "code",
      "metadata": {
        "id": "WThZfYlUVoz1",
        "colab_type": "code",
        "colab": {}
      },
      "source": [
        "test.drop('all_genres',axis=1,inplace=True)\n",
        "test['revenue']=np.nan"
      ],
      "execution_count": 0,
      "outputs": []
    },
    {
      "cell_type": "code",
      "metadata": {
        "id": "eJ16TQm3HZXB",
        "colab_type": "code",
        "colab": {}
      },
      "source": [
        "from sklearn.model_selection import KFold\n",
        "\n",
        "random_seed = 2019\n",
        "k = 10\n",
        "fold = list(KFold(k, shuffle = True, random_state = random_seed).split(train))\n",
        "np.random.seed(random_seed)"
      ],
      "execution_count": 0,
      "outputs": []
    },
    {
      "cell_type": "code",
      "metadata": {
        "id": "dNmeb4qvQpRh",
        "colab_type": "code",
        "colab": {}
      },
      "source": [
        "import xgboost as xgb\n",
        "\n",
        "def xgb_model(trn_x, trn_y, val_x, val_y, test, verbose) :\n",
        "    \n",
        "    params = {'objective': 'reg:linear', \n",
        "              'eta': 0.001, \n",
        "              'max_depth': 6, \n",
        "              'subsample': 0.6, \n",
        "              'colsample_bytree': 0.7,  \n",
        "              'eval_metric': 'rmse', \n",
        "              'seed': random_seed, \n",
        "              'silent': True,\n",
        "    }\n",
        "    \n",
        "    record = dict()\n",
        "    model = xgb.train(params\n",
        "                      , xgb.DMatrix(trn_x, trn_y)\n",
        "                      , 100000\n",
        "                      , [(xgb.DMatrix(trn_x, trn_y), 'train'), (xgb.DMatrix(val_x, val_y), 'valid')]\n",
        "                      , verbose_eval=verbose\n",
        "                      , early_stopping_rounds=500\n",
        "                      , callbacks = [xgb.callback.record_evaluation(record)])\n",
        "    best_idx = np.argmin(np.array(record['valid']['rmse']))\n",
        "\n",
        "    val_pred = model.predict(xgb.DMatrix(val_x), ntree_limit=model.best_ntree_limit)\n",
        "    test_pred = model.predict(xgb.DMatrix(test), ntree_limit=model.best_ntree_limit)\n",
        "\n",
        "    return {'val':val_pred, 'test':test_pred, 'error':record['valid']['rmse'][best_idx], 'importance':[i for k, i in model.get_score().items()]}"
      ],
      "execution_count": 0,
      "outputs": []
    },
    {
      "cell_type": "code",
      "metadata": {
        "id": "Sa4avsEMQr1e",
        "colab_type": "code",
        "colab": {}
      },
      "source": [
        "import lightgbm as lgb\n",
        "\n",
        "def lgb_model(trn_x, trn_y, val_x, val_y, test, verbose) :\n",
        "\n",
        "    params = {'objective':'regression',\n",
        "         'num_leaves' : 30,\n",
        "         'min_data_in_leaf' : 20,\n",
        "         'max_depth' : 9,\n",
        "         'learning_rate': 0.004,\n",
        "         #'min_child_samples':100,\n",
        "         'feature_fraction':0.9,\n",
        "         \"bagging_freq\": 1,\n",
        "         \"bagging_fraction\": 0.9,\n",
        "         'lambda_l1': 0.2,\n",
        "         \"bagging_seed\": random_seed,\n",
        "         \"metric\": 'rmse',\n",
        "         #'subsample':.8, \n",
        "          #'colsample_bytree':.9,\n",
        "         \"random_state\" : random_seed,\n",
        "         \"verbosity\": -1}\n",
        "\n",
        "    record = dict()\n",
        "    model = lgb.train(params\n",
        "                      , lgb.Dataset(trn_x, trn_y)\n",
        "                      , num_boost_round = 100000\n",
        "                      , valid_sets = [lgb.Dataset(val_x, val_y)]\n",
        "                      , verbose_eval = verbose\n",
        "                      , early_stopping_rounds = 500\n",
        "                      , callbacks = [lgb.record_evaluation(record)]\n",
        "                     )\n",
        "    best_idx = np.argmin(np.array(record['valid_0']['rmse']))\n",
        "\n",
        "    val_pred = model.predict(val_x, num_iteration = model.best_iteration)\n",
        "    test_pred = model.predict(test, num_iteration = model.best_iteration)\n",
        "    \n",
        "    return {'val':val_pred, 'test':test_pred, 'error':record['valid_0']['rmse'][best_idx], 'importance':model.feature_importance('gain')}"
      ],
      "execution_count": 0,
      "outputs": []
    },
    {
      "cell_type": "code",
      "metadata": {
        "id": "5FKgUM6BREDX",
        "colab_type": "code",
        "outputId": "092050ec-867f-4c80-9870-22e07c63e4c3",
        "colab": {
          "base_uri": "https://localhost:8080/",
          "height": 173
        }
      },
      "source": [
        "!pip install catboost"
      ],
      "execution_count": 0,
      "outputs": [
        {
          "output_type": "stream",
          "text": [
            "Requirement already satisfied: catboost in /usr/local/lib/python3.6/dist-packages (0.14.2)\n",
            "Requirement already satisfied: pandas>=0.19.1 in /usr/local/lib/python3.6/dist-packages (from catboost) (0.24.2)\n",
            "Requirement already satisfied: numpy>=1.11.1 in /usr/local/lib/python3.6/dist-packages (from catboost) (1.16.3)\n",
            "Requirement already satisfied: graphviz in /usr/local/lib/python3.6/dist-packages (from catboost) (0.10.1)\n",
            "Requirement already satisfied: six in /usr/local/lib/python3.6/dist-packages (from catboost) (1.12.0)\n",
            "Requirement already satisfied: enum34 in /usr/local/lib/python3.6/dist-packages (from catboost) (1.1.6)\n",
            "Requirement already satisfied: python-dateutil>=2.5.0 in /usr/local/lib/python3.6/dist-packages (from pandas>=0.19.1->catboost) (2.5.3)\n",
            "Requirement already satisfied: pytz>=2011k in /usr/local/lib/python3.6/dist-packages (from pandas>=0.19.1->catboost) (2018.9)\n"
          ],
          "name": "stdout"
        }
      ]
    },
    {
      "cell_type": "code",
      "metadata": {
        "id": "Vyklwn52QzHJ",
        "colab_type": "code",
        "colab": {}
      },
      "source": [
        "from catboost import CatBoostRegressor\n",
        "\n",
        "def cat_model(trn_x, trn_y, val_x, val_y, test, verbose) :\n",
        "    \n",
        "    model = CatBoostRegressor(iterations=100000,\n",
        "                                 learning_rate=0.004,\n",
        "                                 depth=5,\n",
        "                                 eval_metric='RMSE',\n",
        "                                 colsample_bylevel=0.8,\n",
        "                                 random_seed = random_seed,\n",
        "                                 bagging_temperature = 0.2,\n",
        "                                 metric_period = None,\n",
        "                                 early_stopping_rounds=200\n",
        "                                )\n",
        "    model.fit(trn_x, trn_y,\n",
        "                 eval_set=(val_x, val_y),\n",
        "                 use_best_model=True,\n",
        "                 verbose=False)\n",
        "    \n",
        "    val_pred = model.predict(val_x)\n",
        "    test_pred = model.predict(test)\n",
        "    \n",
        "    return {'val':val_pred, \n",
        "            'test':test_pred, \n",
        "            'error':model.get_best_score()['validation_0']['RMSE']}"
      ],
      "execution_count": 0,
      "outputs": []
    },
    {
      "cell_type": "code",
      "metadata": {
        "id": "rpQrb-F2RnhT",
        "colab_type": "code",
        "colab": {}
      },
      "source": [
        "from datetime import datetime"
      ],
      "execution_count": 0,
      "outputs": []
    },
    {
      "cell_type": "code",
      "metadata": {
        "id": "fqw7wYSaY49w",
        "colab_type": "code",
        "colab": {}
      },
      "source": [
        "train=train[test.columns.tolist()]"
      ],
      "execution_count": 0,
      "outputs": []
    },
    {
      "cell_type": "code",
      "metadata": {
        "id": "gMpRA-C701DD",
        "colab_type": "code",
        "colab": {
          "base_uri": "https://localhost:8080/",
          "height": 3281
        },
        "outputId": "09b691de-f279-49b3-b07a-d46eab595de0"
      },
      "source": [
        "train.columns.tolist()"
      ],
      "execution_count": 128,
      "outputs": [
        {
          "output_type": "execute_result",
          "data": {
            "text/plain": [
              "['id',\n",
              " 'budget',\n",
              " 'popularity',\n",
              " 'runtime',\n",
              " 'num_genres',\n",
              " 'genre_Comedy',\n",
              " 'genre_Drama',\n",
              " 'genre_Family',\n",
              " 'genre_Romance',\n",
              " 'genre_Thriller',\n",
              " 'genre_Action',\n",
              " 'genre_Animation',\n",
              " 'genre_Adventure',\n",
              " 'genre_Horror',\n",
              " 'genre_Documentary',\n",
              " 'genre_Music',\n",
              " 'genre_Crime',\n",
              " 'genre_Science Fiction',\n",
              " 'genre_Mystery',\n",
              " 'genre_Foreign',\n",
              " 'genre_Fantasy',\n",
              " 'genre_War',\n",
              " 'genre_Western',\n",
              " 'genre_History',\n",
              " 'genre_TV Movie',\n",
              " 'num_companies',\n",
              " 'production_company_Warner Bros.',\n",
              " 'production_company_Universal Pictures',\n",
              " 'production_company_Paramount Pictures',\n",
              " 'production_company_Twentieth Century Fox Film Corporation',\n",
              " 'production_company_Columbia Pictures',\n",
              " 'production_company_Metro-Goldwyn-Mayer (MGM)',\n",
              " 'production_company_New Line Cinema',\n",
              " 'production_company_Touchstone Pictures',\n",
              " 'production_company_Walt Disney Pictures',\n",
              " 'production_company_Columbia Pictures Corporation',\n",
              " 'production_company_TriStar Pictures',\n",
              " 'production_company_Relativity Media',\n",
              " 'production_company_Canal+',\n",
              " 'production_company_United Artists',\n",
              " 'production_company_Miramax Films',\n",
              " 'production_company_Village Roadshow Pictures',\n",
              " 'production_company_Regency Enterprises',\n",
              " 'production_company_BBC Films',\n",
              " 'production_company_Dune Entertainment',\n",
              " 'production_company_Working Title Films',\n",
              " 'production_company_Fox Searchlight Pictures',\n",
              " 'production_company_StudioCanal',\n",
              " 'production_company_Lionsgate',\n",
              " 'production_company_DreamWorks SKG',\n",
              " 'production_company_Fox 2000 Pictures',\n",
              " 'production_company_Summit Entertainment',\n",
              " 'production_company_Hollywood Pictures',\n",
              " 'production_company_Orion Pictures',\n",
              " 'production_company_Amblin Entertainment',\n",
              " 'production_company_Dimension Films',\n",
              " 'num_countries',\n",
              " 'production_country_United States of America',\n",
              " 'production_country_United Kingdom',\n",
              " 'production_country_France',\n",
              " 'production_country_Germany',\n",
              " 'production_country_Canada',\n",
              " 'production_country_India',\n",
              " 'production_country_Italy',\n",
              " 'production_country_Japan',\n",
              " 'production_country_Australia',\n",
              " 'production_country_Russia',\n",
              " 'production_country_Spain',\n",
              " 'production_country_China',\n",
              " 'production_country_Hong Kong',\n",
              " 'production_country_Ireland',\n",
              " 'production_country_Belgium',\n",
              " 'production_country_South Korea',\n",
              " 'production_country_Mexico',\n",
              " 'production_country_Sweden',\n",
              " 'production_country_New Zealand',\n",
              " 'production_country_Netherlands',\n",
              " 'production_country_Czech Republic',\n",
              " 'production_country_Denmark',\n",
              " 'production_country_Brazil',\n",
              " 'production_country_Luxembourg',\n",
              " 'production_country_South Africa',\n",
              " 'num_languages',\n",
              " 'language_English',\n",
              " 'language_Français',\n",
              " 'language_Español',\n",
              " 'language_Deutsch',\n",
              " 'language_Pусский',\n",
              " 'language_Italiano',\n",
              " 'language_日本語',\n",
              " 'language_普通话',\n",
              " 'language_हिन्दी',\n",
              " 'language_Português',\n",
              " 'language_العربية',\n",
              " 'language_한국어/조선말',\n",
              " 'language_广州话 / 廣州話',\n",
              " 'language_தமிழ்',\n",
              " 'language_Polski',\n",
              " 'language_Magyar',\n",
              " 'language_Latin',\n",
              " 'language_svenska',\n",
              " 'language_ภาษาไทย',\n",
              " 'language_Český',\n",
              " 'language_עִבְרִית',\n",
              " 'language_ελληνικά',\n",
              " 'language_Türkçe',\n",
              " 'language_Dansk',\n",
              " 'language_Nederlands',\n",
              " 'language_فارسی',\n",
              " 'language_Tiếng Việt',\n",
              " 'language_اردو',\n",
              " 'language_Română',\n",
              " 'num_Keywords',\n",
              " 'keyword_woman director',\n",
              " 'keyword_independent film',\n",
              " 'keyword_duringcreditsstinger',\n",
              " 'keyword_murder',\n",
              " 'keyword_based on novel',\n",
              " 'keyword_violence',\n",
              " 'keyword_sport',\n",
              " 'keyword_biography',\n",
              " 'keyword_aftercreditsstinger',\n",
              " 'keyword_dystopia',\n",
              " 'keyword_revenge',\n",
              " 'keyword_friendship',\n",
              " 'keyword_sex',\n",
              " 'keyword_suspense',\n",
              " 'keyword_sequel',\n",
              " 'keyword_love',\n",
              " 'keyword_police',\n",
              " 'keyword_teenager',\n",
              " 'keyword_nudity',\n",
              " 'keyword_female nudity',\n",
              " 'keyword_drug',\n",
              " 'keyword_prison',\n",
              " 'keyword_musical',\n",
              " 'keyword_high school',\n",
              " 'keyword_los angeles',\n",
              " 'keyword_new york',\n",
              " 'keyword_family',\n",
              " 'keyword_father son relationship',\n",
              " 'keyword_kidnapping',\n",
              " 'keyword_investigation',\n",
              " 'star_cast',\n",
              " 'star_crew',\n",
              " 'num_cast',\n",
              " 'genders_0_cast',\n",
              " 'genders_1_cast',\n",
              " 'genders_2_cast',\n",
              " 'num_crew',\n",
              " 'genders_0_crew',\n",
              " 'genders_1_crew',\n",
              " 'genders_2_crew',\n",
              " 'crew_character_Nurse',\n",
              " 'crew_character_Jack',\n",
              " 'crew_character_Paul',\n",
              " 'crew_character_Frank',\n",
              " 'jobs_Producer',\n",
              " 'jobs_Executive Producer',\n",
              " 'jobs_Director',\n",
              " 'jobs_Screenplay',\n",
              " 'jobs_Editor',\n",
              " 'jobs_Casting',\n",
              " 'jobs_Director of Photography',\n",
              " 'jobs_Original Music Composer',\n",
              " 'jobs_Art Direction',\n",
              " 'jobs_Production Design',\n",
              " 'jobs_Costume Design',\n",
              " 'jobs_Writer',\n",
              " 'jobs_Set Decoration',\n",
              " 'jobs_Makeup Artist',\n",
              " 'jobs_Sound Re-Recording Mixer',\n",
              " 'departments_Production',\n",
              " 'departments_Sound',\n",
              " 'departments_Art',\n",
              " 'departments_Crew',\n",
              " 'departments_Writing',\n",
              " 'departments_Costume & Make-Up',\n",
              " 'departments_Camera',\n",
              " 'departments_Directing',\n",
              " 'departments_Editing',\n",
              " 'departments_Visual Effects',\n",
              " 'departments_Lighting',\n",
              " 'departments_Actors',\n",
              " 'log_budget',\n",
              " 'release_date_year',\n",
              " 'release_date_weekday',\n",
              " 'release_date_month',\n",
              " 'release_date_weekofyear',\n",
              " 'release_date_day',\n",
              " 'release_date_quarter',\n",
              " 'revenue']"
            ]
          },
          "metadata": {
            "tags": []
          },
          "execution_count": 128
        }
      ]
    },
    {
      "cell_type": "code",
      "metadata": {
        "id": "gLcXCCVy0iXR",
        "colab_type": "code",
        "colab": {}
      },
      "source": [
        "train.drop(['revenue','id','budget'],axis=1,inplace=True)\n",
        "test.drop(['revenue','id','budget'],axis=1,inplace=True)"
      ],
      "execution_count": 0,
      "outputs": []
    },
    {
      "cell_type": "code",
      "metadata": {
        "id": "0tmpXB9GRC7Q",
        "colab_type": "code",
        "outputId": "157a300b-3daa-4e2f-ad7b-89b4e63ff295",
        "colab": {
          "base_uri": "https://localhost:8080/",
          "height": 1040
        }
      },
      "source": [
        "result_dict = dict()\n",
        "val_pred = np.zeros(train.shape[0])\n",
        "test_pred = np.zeros(test.shape[0])\n",
        "final_err = 0\n",
        "verbose = False\n",
        "\n",
        "for i, (trn, val) in enumerate(fold) :\n",
        "    print(i+1, \"fold.    RMSE\")\n",
        "    \n",
        "    trn_x = train.loc[trn, :]\n",
        "    \n",
        "    trn_y = y[trn]\n",
        "    val_x = train.loc[val, :]\n",
        "    val_y = y[val]\n",
        "    \n",
        "    fold_val_pred = []\n",
        "    fold_test_pred = []\n",
        "    fold_err = []\n",
        "    \n",
        "    #\"\"\" xgboost\n",
        "    start = datetime.now()\n",
        "    result = xgb_model(trn_x, trn_y, val_x, val_y, test, verbose)\n",
        "    fold_val_pred.append(result['val']*0.2)\n",
        "    fold_test_pred.append(result['test']*0.2)\n",
        "    fold_err.append(result['error'])\n",
        "    print(\"xgb model.\", \"{0:.5f}\".format(result['error']), '(' + str(int((datetime.now()-start).seconds/60)) + 'm)')\n",
        "    #\"\"\"\n",
        "    \n",
        "    #\"\"\" lightgbm\n",
        "    start = datetime.now()\n",
        "    result = lgb_model(trn_x, trn_y, val_x, val_y, test, verbose)\n",
        "    fold_val_pred.append(result['val']*0.4)\n",
        "    fold_test_pred.append(result['test']*0.4)\n",
        "    fold_err.append(result['error'])\n",
        "    print(\"lgb model.\", \"{0:.5f}\".format(result['error']), '(' + str(int((datetime.now()-start).seconds/60)) + 'm)')\n",
        "    #\"\"\"\n",
        "    \n",
        "    #\"\"\" catboost model\n",
        "    start = datetime.now()\n",
        "    result = cat_model(trn_x, trn_y, val_x, val_y, test, verbose)\n",
        "    fold_val_pred.append(result['val']*0.4)\n",
        "    fold_test_pred.append(result['test']*0.4)\n",
        "    fold_err.append(result['error'])\n",
        "    print(\"cat model.\", \"{0:.5f}\".format(result['error']), '(' + str(int((datetime.now()-start).seconds/60)) + 'm)')\n",
        "    #\"\"\"\n",
        "    \n",
        "    # mix result of multiple models\n",
        "    val_pred[val] += np.mean(np.array(fold_val_pred), axis = 0)\n",
        "    #print(fold_test_pred)\n",
        "    #print(fold_test_pred.shape)\n",
        "    #print(fold_test_pred.columns)\n",
        "    test_pred += np.mean(np.array(fold_test_pred), axis = 0) / k\n",
        "    final_err += (sum(fold_err) / len(fold_err)) / k\n",
        "    \n",
        "    print(\"---------------------------\")\n",
        "    print(\"avg   err.\", \"{0:.5f}\".format(sum(fold_err) / len(fold_err)))\n",
        "    print(\"blend err.\", \"{0:.5f}\".format(np.sqrt(np.mean((np.mean(np.array(fold_val_pred), axis = 0) - val_y)**2))))\n",
        "    \n",
        "    print('')\n",
        "    \n",
        "print(\"fianl avg   err.\", final_err)\n",
        "print(\"fianl blend err.\", np.sqrt(np.mean((val_pred - y)**2)))"
      ],
      "execution_count": 0,
      "outputs": [
        {
          "output_type": "stream",
          "text": [
            "1 fold.    RMSE\n"
          ],
          "name": "stdout"
        },
        {
          "output_type": "stream",
          "text": [
            "/usr/local/lib/python3.6/dist-packages/xgboost/core.py:587: FutureWarning: Series.base is deprecated and will be removed in a future version\n",
            "  if getattr(data, 'base', None) is not None and \\\n"
          ],
          "name": "stderr"
        },
        {
          "output_type": "stream",
          "text": [
            "xgb model. 2.04847 (6m)\n",
            "lgb model. 2.04824 (0m)\n",
            "cat model. 2.01716 (2m)\n",
            "---------------------------\n",
            "avg   err. 2.03796\n",
            "blend err. 10.76551\n",
            "\n",
            "2 fold.    RMSE\n",
            "xgb model. 1.81022 (5m)\n",
            "lgb model. 1.79321 (0m)\n",
            "cat model. 1.81925 (0m)\n",
            "---------------------------\n",
            "avg   err. 1.80756\n",
            "blend err. 11.02850\n",
            "\n",
            "3 fold.    RMSE\n",
            "xgb model. 2.02033 (5m)\n",
            "lgb model. 2.00862 (0m)\n",
            "cat model. 1.93254 (2m)\n",
            "---------------------------\n",
            "avg   err. 1.98716\n",
            "blend err. 10.89592\n",
            "\n",
            "4 fold.    RMSE\n",
            "xgb model. 1.78413 (5m)\n",
            "lgb model. 1.78536 (0m)\n",
            "cat model. 1.75316 (1m)\n",
            "---------------------------\n",
            "avg   err. 1.77422\n",
            "blend err. 11.05540\n",
            "\n",
            "5 fold.    RMSE\n",
            "xgb model. 1.98506 (6m)\n",
            "lgb model. 1.97699 (0m)\n",
            "cat model. 1.94955 (2m)\n",
            "---------------------------\n",
            "avg   err. 1.97054\n",
            "blend err. 10.78967\n",
            "\n",
            "6 fold.    RMSE\n",
            "xgb model. 1.86010 (9m)\n",
            "lgb model. 1.90497 (0m)\n",
            "cat model. 1.90788 (1m)\n",
            "---------------------------\n",
            "avg   err. 1.89098\n",
            "blend err. 10.76860\n",
            "\n",
            "7 fold.    RMSE\n",
            "xgb model. 1.96349 (4m)\n",
            "lgb model. 1.99858 (0m)\n",
            "cat model. 2.04918 (1m)\n",
            "---------------------------\n",
            "avg   err. 2.00375\n",
            "blend err. 10.89378\n",
            "\n",
            "8 fold.    RMSE\n"
          ],
          "name": "stdout"
        }
      ]
    },
    {
      "cell_type": "code",
      "metadata": {
        "id": "fIp-JsMlQ3yO",
        "colab_type": "code",
        "colab": {}
      },
      "source": [
        "df_sub = pd.DataFrame()\n",
        "df_sub['revenue'] = np.expm1(test_pred*3)\n",
        "df_sub['id']=df_sub.index+3001\n"
      ],
      "execution_count": 0,
      "outputs": []
    },
    {
      "cell_type": "code",
      "metadata": {
        "id": "tQdfL7fRtpZa",
        "colab_type": "code",
        "colab": {}
      },
      "source": [
        "df_sub.to_csv(\"submission.csv\", index=False)"
      ],
      "execution_count": 0,
      "outputs": []
    },
    {
      "cell_type": "code",
      "metadata": {
        "id": "F9PRgT_6SNDO",
        "colab_type": "code",
        "outputId": "f0541959-ff38-47e5-cf1c-87be9885258b",
        "colab": {
          "base_uri": "https://localhost:8080/",
          "height": 51
        }
      },
      "source": [
        "test_pred"
      ],
      "execution_count": 133,
      "outputs": [
        {
          "output_type": "execute_result",
          "data": {
            "text/plain": [
              "array([5.09141496, 5.03228017, 5.17298001, ..., 5.90359239, 5.21609725,\n",
              "       4.47738349])"
            ]
          },
          "metadata": {
            "tags": []
          },
          "execution_count": 133
        }
      ]
    },
    {
      "cell_type": "code",
      "metadata": {
        "id": "FcKmhHxDXFXk",
        "colab_type": "code",
        "colab": {}
      },
      "source": [
        ""
      ],
      "execution_count": 0,
      "outputs": []
    }
  ]
}